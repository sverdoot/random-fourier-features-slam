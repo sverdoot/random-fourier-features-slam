{
 "metadata": {
  "language_info": {
   "codemirror_mode": {
    "name": "ipython",
    "version": 3
   },
   "file_extension": ".py",
   "mimetype": "text/x-python",
   "name": "python",
   "nbconvert_exporter": "python",
   "pygments_lexer": "ipython3",
   "version": "3.8.5-final"
  },
  "orig_nbformat": 2,
  "kernelspec": {
   "name": "python38564bit18d4156a4e95478ca9c2dd8e10bb0544",
   "display_name": "Python 3.8.5 64-bit",
   "language": "python"
  }
 },
 "nbformat": 4,
 "nbformat_minor": 2,
 "cells": [
  {
   "cell_type": "code",
   "execution_count": 1,
   "metadata": {},
   "outputs": [],
   "source": [
    "%load_ext autoreload\n",
    "%autoreload 2"
   ]
  },
  {
   "cell_type": "code",
   "execution_count": 2,
   "metadata": {},
   "outputs": [],
   "source": [
    "import numpy as np\n",
    "from matplotlib import pyplot as plt\n",
    "from scipy.stats import multivariate_normal"
   ]
  },
  {
   "cell_type": "code",
   "execution_count": 3,
   "metadata": {},
   "outputs": [],
   "source": [
    "from random_features import RFF"
   ]
  },
  {
   "cell_type": "code",
   "execution_count": 4,
   "metadata": {},
   "outputs": [],
   "source": [
    "sampler = lambda shape: multivariate_normal(mean=[0]*3, cov=np.eye(3)).rvs(size=np.product(shape))"
   ]
  },
  {
   "cell_type": "code",
   "execution_count": 5,
   "metadata": {},
   "outputs": [],
   "source": [
    "n_features = 20\n",
    "assert n_features % 2 == 0\n",
    "rff = RFF(n_features=n_features // 2, w_sampler=sampler, dim=3)"
   ]
  },
  {
   "cell_type": "code",
   "execution_count": 6,
   "metadata": {},
   "outputs": [],
   "source": [
    "pts = np.arange(0, 1, 0.1).reshape(-1, 1).repeat(3, axis=1)"
   ]
  },
  {
   "cell_type": "code",
   "execution_count": 7,
   "metadata": {},
   "outputs": [],
   "source": [
    "features = rff.get_random_features(pts)"
   ]
  },
  {
   "cell_type": "code",
   "execution_count": 8,
   "metadata": {},
   "outputs": [],
   "source": [
    "assert features.shape == (len(pts), n_features)"
   ]
  },
  {
   "source": [
    "# Main Part"
   ],
   "cell_type": "markdown",
   "metadata": {}
  },
  {
   "cell_type": "code",
   "execution_count": 9,
   "metadata": {},
   "outputs": [],
   "source": [
    "from data_utils import Landscape"
   ]
  },
  {
   "cell_type": "code",
   "execution_count": 10,
   "metadata": {},
   "outputs": [],
   "source": [
    "landscape = Landscape(num_landmarks=20)\n",
    "landscape.initialize()"
   ]
  },
  {
   "cell_type": "code",
   "execution_count": 11,
   "metadata": {},
   "outputs": [
    {
     "output_type": "execute_result",
     "data": {
      "text/plain": [
       "<matplotlib.collections.PathCollection at 0x7fc5d9c04a90>"
      ]
     },
     "metadata": {},
     "execution_count": 11
    },
    {
     "output_type": "display_data",
     "data": {
      "text/plain": "<Figure size 432x288 with 1 Axes>",
      "image/svg+xml": "<?xml version=\"1.0\" encoding=\"utf-8\" standalone=\"no\"?>\n<!DOCTYPE svg PUBLIC \"-//W3C//DTD SVG 1.1//EN\"\n  \"http://www.w3.org/Graphics/SVG/1.1/DTD/svg11.dtd\">\n<!-- Created with matplotlib (https://matplotlib.org/) -->\n<svg height=\"248.518125pt\" version=\"1.1\" viewBox=\"0 0 381.705835 248.518125\" width=\"381.705835pt\" xmlns=\"http://www.w3.org/2000/svg\" xmlns:xlink=\"http://www.w3.org/1999/xlink\">\n <metadata>\n  <rdf:RDF xmlns:cc=\"http://creativecommons.org/ns#\" xmlns:dc=\"http://purl.org/dc/elements/1.1/\" xmlns:rdf=\"http://www.w3.org/1999/02/22-rdf-syntax-ns#\">\n   <cc:Work>\n    <dc:type rdf:resource=\"http://purl.org/dc/dcmitype/StillImage\"/>\n    <dc:date>2021-03-23T19:29:42.266258</dc:date>\n    <dc:format>image/svg+xml</dc:format>\n    <dc:creator>\n     <cc:Agent>\n      <dc:title>Matplotlib v3.3.2, https://matplotlib.org/</dc:title>\n     </cc:Agent>\n    </dc:creator>\n   </cc:Work>\n  </rdf:RDF>\n </metadata>\n <defs>\n  <style type=\"text/css\">*{stroke-linecap:butt;stroke-linejoin:round;}</style>\n </defs>\n <g id=\"figure_1\">\n  <g id=\"patch_1\">\n   <path d=\"M -0 248.518125 \nL 381.705835 248.518125 \nL 381.705835 0 \nL -0 0 \nz\n\" style=\"fill:none;\"/>\n  </g>\n  <g id=\"axes_1\">\n   <g id=\"patch_2\">\n    <path d=\"M 38.482813 224.64 \nL 373.282813 224.64 \nL 373.282813 7.2 \nL 38.482813 7.2 \nz\n\" style=\"fill:#ffffff;\"/>\n   </g>\n   <g id=\"PathCollection_1\">\n    <defs>\n     <path d=\"M 0 6.123724 \nC 1.624031 6.123724 3.181764 5.47849 4.330127 4.330127 \nC 5.47849 3.181764 6.123724 1.624031 6.123724 0 \nC 6.123724 -1.624031 5.47849 -3.181764 4.330127 -4.330127 \nC 3.181764 -5.47849 1.624031 -6.123724 0 -6.123724 \nC -1.624031 -6.123724 -3.181764 -5.47849 -4.330127 -4.330127 \nC -5.47849 -3.181764 -6.123724 -1.624031 -6.123724 0 \nC -6.123724 1.624031 -5.47849 3.181764 -4.330127 4.330127 \nC -3.181764 5.47849 -1.624031 6.123724 0 6.123724 \nz\n\" id=\"mba17deb360\" style=\"stroke:#1f77b4;stroke-opacity:0.8;\"/>\n    </defs>\n    <g clip-path=\"url(#pf2e95ef248)\">\n     <use style=\"fill:#1f77b4;fill-opacity:0.8;stroke:#1f77b4;stroke-opacity:0.8;\" x=\"350.50055\" xlink:href=\"#mba17deb360\" y=\"37.184599\"/>\n     <use style=\"fill:#1f77b4;fill-opacity:0.8;stroke:#1f77b4;stroke-opacity:0.8;\" x=\"166.285823\" xlink:href=\"#mba17deb360\" y=\"186.945724\"/>\n     <use style=\"fill:#1f77b4;fill-opacity:0.8;stroke:#1f77b4;stroke-opacity:0.8;\" x=\"358.064631\" xlink:href=\"#mba17deb360\" y=\"165.873697\"/>\n     <use style=\"fill:#1f77b4;fill-opacity:0.8;stroke:#1f77b4;stroke-opacity:0.8;\" x=\"245.723519\" xlink:href=\"#mba17deb360\" y=\"65.517391\"/>\n     <use style=\"fill:#1f77b4;fill-opacity:0.8;stroke:#1f77b4;stroke-opacity:0.8;\" x=\"76.07062\" xlink:href=\"#mba17deb360\" y=\"214.756364\"/>\n     <use style=\"fill:#1f77b4;fill-opacity:0.8;stroke:#1f77b4;stroke-opacity:0.8;\" x=\"252.423195\" xlink:href=\"#mba17deb360\" y=\"70.089173\"/>\n     <use style=\"fill:#1f77b4;fill-opacity:0.8;stroke:#1f77b4;stroke-opacity:0.8;\" x=\"303.387155\" xlink:href=\"#mba17deb360\" y=\"102.977396\"/>\n     <use style=\"fill:#1f77b4;fill-opacity:0.8;stroke:#1f77b4;stroke-opacity:0.8;\" x=\"62.345328\" xlink:href=\"#mba17deb360\" y=\"213.542996\"/>\n     <use style=\"fill:#1f77b4;fill-opacity:0.8;stroke:#1f77b4;stroke-opacity:0.8;\" x=\"207.706923\" xlink:href=\"#mba17deb360\" y=\"146.706209\"/>\n     <use style=\"fill:#1f77b4;fill-opacity:0.8;stroke:#1f77b4;stroke-opacity:0.8;\" x=\"133.836265\" xlink:href=\"#mba17deb360\" y=\"17.083636\"/>\n     <use style=\"fill:#1f77b4;fill-opacity:0.8;stroke:#1f77b4;stroke-opacity:0.8;\" x=\"191.700698\" xlink:href=\"#mba17deb360\" y=\"113.008526\"/>\n     <use style=\"fill:#1f77b4;fill-opacity:0.8;stroke:#1f77b4;stroke-opacity:0.8;\" x=\"291.665705\" xlink:href=\"#mba17deb360\" y=\"34.368751\"/>\n     <use style=\"fill:#1f77b4;fill-opacity:0.8;stroke:#1f77b4;stroke-opacity:0.8;\" x=\"312.987621\" xlink:href=\"#mba17deb360\" y=\"25.464744\"/>\n     <use style=\"fill:#1f77b4;fill-opacity:0.8;stroke:#1f77b4;stroke-opacity:0.8;\" x=\"57.874063\" xlink:href=\"#mba17deb360\" y=\"17.977167\"/>\n     <use style=\"fill:#1f77b4;fill-opacity:0.8;stroke:#1f77b4;stroke-opacity:0.8;\" x=\"285.175039\" xlink:href=\"#mba17deb360\" y=\"115.746937\"/>\n     <use style=\"fill:#1f77b4;fill-opacity:0.8;stroke:#1f77b4;stroke-opacity:0.8;\" x=\"53.700994\" xlink:href=\"#mba17deb360\" y=\"153.139805\"/>\n     <use style=\"fill:#1f77b4;fill-opacity:0.8;stroke:#1f77b4;stroke-opacity:0.8;\" x=\"230.795338\" xlink:href=\"#mba17deb360\" y=\"137.862773\"/>\n     <use style=\"fill:#1f77b4;fill-opacity:0.8;stroke:#1f77b4;stroke-opacity:0.8;\" x=\"215.402404\" xlink:href=\"#mba17deb360\" y=\"165.706106\"/>\n     <use style=\"fill:#1f77b4;fill-opacity:0.8;stroke:#1f77b4;stroke-opacity:0.8;\" x=\"92.274212\" xlink:href=\"#mba17deb360\" y=\"140.111342\"/>\n     <use style=\"fill:#1f77b4;fill-opacity:0.8;stroke:#1f77b4;stroke-opacity:0.8;\" x=\"345.817884\" xlink:href=\"#mba17deb360\" y=\"198.636759\"/>\n    </g>\n   </g>\n   <g id=\"matplotlib.axis_1\">\n    <g id=\"xtick_1\">\n     <g id=\"line2d_1\">\n      <defs>\n       <path d=\"M 0 0 \nL 0 3.5 \n\" id=\"m5bc351f6c0\" style=\"stroke:#000000;stroke-width:0.8;\"/>\n      </defs>\n      <g>\n       <use style=\"stroke:#000000;stroke-width:0.8;\" x=\"51.889186\" xlink:href=\"#m5bc351f6c0\" y=\"224.64\"/>\n      </g>\n     </g>\n     <g id=\"text_1\">\n      <!-- −10.0 -->\n      <g transform=\"translate(36.56653 239.238438)scale(0.1 -0.1)\">\n       <defs>\n        <path d=\"M 10.59375 35.5 \nL 73.1875 35.5 \nL 73.1875 27.203125 \nL 10.59375 27.203125 \nz\n\" id=\"DejaVuSans-8722\"/>\n        <path d=\"M 12.40625 8.296875 \nL 28.515625 8.296875 \nL 28.515625 63.921875 \nL 10.984375 60.40625 \nL 10.984375 69.390625 \nL 28.421875 72.90625 \nL 38.28125 72.90625 \nL 38.28125 8.296875 \nL 54.390625 8.296875 \nL 54.390625 0 \nL 12.40625 0 \nz\n\" id=\"DejaVuSans-49\"/>\n        <path d=\"M 31.78125 66.40625 \nQ 24.171875 66.40625 20.328125 58.90625 \nQ 16.5 51.421875 16.5 36.375 \nQ 16.5 21.390625 20.328125 13.890625 \nQ 24.171875 6.390625 31.78125 6.390625 \nQ 39.453125 6.390625 43.28125 13.890625 \nQ 47.125 21.390625 47.125 36.375 \nQ 47.125 51.421875 43.28125 58.90625 \nQ 39.453125 66.40625 31.78125 66.40625 \nz\nM 31.78125 74.21875 \nQ 44.046875 74.21875 50.515625 64.515625 \nQ 56.984375 54.828125 56.984375 36.375 \nQ 56.984375 17.96875 50.515625 8.265625 \nQ 44.046875 -1.421875 31.78125 -1.421875 \nQ 19.53125 -1.421875 13.0625 8.265625 \nQ 6.59375 17.96875 6.59375 36.375 \nQ 6.59375 54.828125 13.0625 64.515625 \nQ 19.53125 74.21875 31.78125 74.21875 \nz\n\" id=\"DejaVuSans-48\"/>\n        <path d=\"M 10.6875 12.40625 \nL 21 12.40625 \nL 21 0 \nL 10.6875 0 \nz\n\" id=\"DejaVuSans-46\"/>\n       </defs>\n       <use xlink:href=\"#DejaVuSans-8722\"/>\n       <use x=\"83.789062\" xlink:href=\"#DejaVuSans-49\"/>\n       <use x=\"147.412109\" xlink:href=\"#DejaVuSans-48\"/>\n       <use x=\"211.035156\" xlink:href=\"#DejaVuSans-46\"/>\n       <use x=\"242.822266\" xlink:href=\"#DejaVuSans-48\"/>\n      </g>\n     </g>\n    </g>\n    <g id=\"xtick_2\">\n     <g id=\"line2d_2\">\n      <g>\n       <use style=\"stroke:#000000;stroke-width:0.8;\" x=\"90.824666\" xlink:href=\"#m5bc351f6c0\" y=\"224.64\"/>\n      </g>\n     </g>\n     <g id=\"text_2\">\n      <!-- −7.5 -->\n      <g transform=\"translate(78.683259 239.238438)scale(0.1 -0.1)\">\n       <defs>\n        <path d=\"M 8.203125 72.90625 \nL 55.078125 72.90625 \nL 55.078125 68.703125 \nL 28.609375 0 \nL 18.3125 0 \nL 43.21875 64.59375 \nL 8.203125 64.59375 \nz\n\" id=\"DejaVuSans-55\"/>\n        <path d=\"M 10.796875 72.90625 \nL 49.515625 72.90625 \nL 49.515625 64.59375 \nL 19.828125 64.59375 \nL 19.828125 46.734375 \nQ 21.96875 47.46875 24.109375 47.828125 \nQ 26.265625 48.1875 28.421875 48.1875 \nQ 40.625 48.1875 47.75 41.5 \nQ 54.890625 34.8125 54.890625 23.390625 \nQ 54.890625 11.625 47.5625 5.09375 \nQ 40.234375 -1.421875 26.90625 -1.421875 \nQ 22.3125 -1.421875 17.546875 -0.640625 \nQ 12.796875 0.140625 7.71875 1.703125 \nL 7.71875 11.625 \nQ 12.109375 9.234375 16.796875 8.0625 \nQ 21.484375 6.890625 26.703125 6.890625 \nQ 35.15625 6.890625 40.078125 11.328125 \nQ 45.015625 15.765625 45.015625 23.390625 \nQ 45.015625 31 40.078125 35.4375 \nQ 35.15625 39.890625 26.703125 39.890625 \nQ 22.75 39.890625 18.8125 39.015625 \nQ 14.890625 38.140625 10.796875 36.28125 \nz\n\" id=\"DejaVuSans-53\"/>\n       </defs>\n       <use xlink:href=\"#DejaVuSans-8722\"/>\n       <use x=\"83.789062\" xlink:href=\"#DejaVuSans-55\"/>\n       <use x=\"147.412109\" xlink:href=\"#DejaVuSans-46\"/>\n       <use x=\"179.199219\" xlink:href=\"#DejaVuSans-53\"/>\n      </g>\n     </g>\n    </g>\n    <g id=\"xtick_3\">\n     <g id=\"line2d_3\">\n      <g>\n       <use style=\"stroke:#000000;stroke-width:0.8;\" x=\"129.760145\" xlink:href=\"#m5bc351f6c0\" y=\"224.64\"/>\n      </g>\n     </g>\n     <g id=\"text_3\">\n      <!-- −5.0 -->\n      <g transform=\"translate(117.618739 239.238438)scale(0.1 -0.1)\">\n       <use xlink:href=\"#DejaVuSans-8722\"/>\n       <use x=\"83.789062\" xlink:href=\"#DejaVuSans-53\"/>\n       <use x=\"147.412109\" xlink:href=\"#DejaVuSans-46\"/>\n       <use x=\"179.199219\" xlink:href=\"#DejaVuSans-48\"/>\n      </g>\n     </g>\n    </g>\n    <g id=\"xtick_4\">\n     <g id=\"line2d_4\">\n      <g>\n       <use style=\"stroke:#000000;stroke-width:0.8;\" x=\"168.695625\" xlink:href=\"#m5bc351f6c0\" y=\"224.64\"/>\n      </g>\n     </g>\n     <g id=\"text_4\">\n      <!-- −2.5 -->\n      <g transform=\"translate(156.554218 239.238438)scale(0.1 -0.1)\">\n       <defs>\n        <path d=\"M 19.1875 8.296875 \nL 53.609375 8.296875 \nL 53.609375 0 \nL 7.328125 0 \nL 7.328125 8.296875 \nQ 12.9375 14.109375 22.625 23.890625 \nQ 32.328125 33.6875 34.8125 36.53125 \nQ 39.546875 41.84375 41.421875 45.53125 \nQ 43.3125 49.21875 43.3125 52.78125 \nQ 43.3125 58.59375 39.234375 62.25 \nQ 35.15625 65.921875 28.609375 65.921875 \nQ 23.96875 65.921875 18.8125 64.3125 \nQ 13.671875 62.703125 7.8125 59.421875 \nL 7.8125 69.390625 \nQ 13.765625 71.78125 18.9375 73 \nQ 24.125 74.21875 28.421875 74.21875 \nQ 39.75 74.21875 46.484375 68.546875 \nQ 53.21875 62.890625 53.21875 53.421875 \nQ 53.21875 48.921875 51.53125 44.890625 \nQ 49.859375 40.875 45.40625 35.40625 \nQ 44.1875 33.984375 37.640625 27.21875 \nQ 31.109375 20.453125 19.1875 8.296875 \nz\n\" id=\"DejaVuSans-50\"/>\n       </defs>\n       <use xlink:href=\"#DejaVuSans-8722\"/>\n       <use x=\"83.789062\" xlink:href=\"#DejaVuSans-50\"/>\n       <use x=\"147.412109\" xlink:href=\"#DejaVuSans-46\"/>\n       <use x=\"179.199219\" xlink:href=\"#DejaVuSans-53\"/>\n      </g>\n     </g>\n    </g>\n    <g id=\"xtick_5\">\n     <g id=\"line2d_5\">\n      <g>\n       <use style=\"stroke:#000000;stroke-width:0.8;\" x=\"207.631104\" xlink:href=\"#m5bc351f6c0\" y=\"224.64\"/>\n      </g>\n     </g>\n     <g id=\"text_5\">\n      <!-- 0.0 -->\n      <g transform=\"translate(199.679542 239.238438)scale(0.1 -0.1)\">\n       <use xlink:href=\"#DejaVuSans-48\"/>\n       <use x=\"63.623047\" xlink:href=\"#DejaVuSans-46\"/>\n       <use x=\"95.410156\" xlink:href=\"#DejaVuSans-48\"/>\n      </g>\n     </g>\n    </g>\n    <g id=\"xtick_6\">\n     <g id=\"line2d_6\">\n      <g>\n       <use style=\"stroke:#000000;stroke-width:0.8;\" x=\"246.566584\" xlink:href=\"#m5bc351f6c0\" y=\"224.64\"/>\n      </g>\n     </g>\n     <g id=\"text_6\">\n      <!-- 2.5 -->\n      <g transform=\"translate(238.615021 239.238438)scale(0.1 -0.1)\">\n       <use xlink:href=\"#DejaVuSans-50\"/>\n       <use x=\"63.623047\" xlink:href=\"#DejaVuSans-46\"/>\n       <use x=\"95.410156\" xlink:href=\"#DejaVuSans-53\"/>\n      </g>\n     </g>\n    </g>\n    <g id=\"xtick_7\">\n     <g id=\"line2d_7\">\n      <g>\n       <use style=\"stroke:#000000;stroke-width:0.8;\" x=\"285.502063\" xlink:href=\"#m5bc351f6c0\" y=\"224.64\"/>\n      </g>\n     </g>\n     <g id=\"text_7\">\n      <!-- 5.0 -->\n      <g transform=\"translate(277.550501 239.238438)scale(0.1 -0.1)\">\n       <use xlink:href=\"#DejaVuSans-53\"/>\n       <use x=\"63.623047\" xlink:href=\"#DejaVuSans-46\"/>\n       <use x=\"95.410156\" xlink:href=\"#DejaVuSans-48\"/>\n      </g>\n     </g>\n    </g>\n    <g id=\"xtick_8\">\n     <g id=\"line2d_8\">\n      <g>\n       <use style=\"stroke:#000000;stroke-width:0.8;\" x=\"324.437543\" xlink:href=\"#m5bc351f6c0\" y=\"224.64\"/>\n      </g>\n     </g>\n     <g id=\"text_8\">\n      <!-- 7.5 -->\n      <g transform=\"translate(316.48598 239.238438)scale(0.1 -0.1)\">\n       <use xlink:href=\"#DejaVuSans-55\"/>\n       <use x=\"63.623047\" xlink:href=\"#DejaVuSans-46\"/>\n       <use x=\"95.410156\" xlink:href=\"#DejaVuSans-53\"/>\n      </g>\n     </g>\n    </g>\n    <g id=\"xtick_9\">\n     <g id=\"line2d_9\">\n      <g>\n       <use style=\"stroke:#000000;stroke-width:0.8;\" x=\"363.373022\" xlink:href=\"#m5bc351f6c0\" y=\"224.64\"/>\n      </g>\n     </g>\n     <g id=\"text_9\">\n      <!-- 10.0 -->\n      <g transform=\"translate(352.24021 239.238438)scale(0.1 -0.1)\">\n       <use xlink:href=\"#DejaVuSans-49\"/>\n       <use x=\"63.623047\" xlink:href=\"#DejaVuSans-48\"/>\n       <use x=\"127.246094\" xlink:href=\"#DejaVuSans-46\"/>\n       <use x=\"159.033203\" xlink:href=\"#DejaVuSans-48\"/>\n      </g>\n     </g>\n    </g>\n   </g>\n   <g id=\"matplotlib.axis_2\">\n    <g id=\"ytick_1\">\n     <g id=\"line2d_10\">\n      <defs>\n       <path d=\"M 0 0 \nL -3.5 0 \n\" id=\"m6d6b096a61\" style=\"stroke:#000000;stroke-width:0.8;\"/>\n      </defs>\n      <g>\n       <use style=\"stroke:#000000;stroke-width:0.8;\" x=\"38.482813\" xlink:href=\"#m6d6b096a61\" y=\"201.330882\"/>\n      </g>\n     </g>\n     <g id=\"text_10\">\n      <!-- −7.5 -->\n      <g transform=\"translate(7.2 205.130101)scale(0.1 -0.1)\">\n       <use xlink:href=\"#DejaVuSans-8722\"/>\n       <use x=\"83.789062\" xlink:href=\"#DejaVuSans-55\"/>\n       <use x=\"147.412109\" xlink:href=\"#DejaVuSans-46\"/>\n       <use x=\"179.199219\" xlink:href=\"#DejaVuSans-53\"/>\n      </g>\n     </g>\n    </g>\n    <g id=\"ytick_2\">\n     <g id=\"line2d_11\">\n      <g>\n       <use style=\"stroke:#000000;stroke-width:0.8;\" x=\"38.482813\" xlink:href=\"#m6d6b096a61\" y=\"174.471237\"/>\n      </g>\n     </g>\n     <g id=\"text_11\">\n      <!-- −5.0 -->\n      <g transform=\"translate(7.2 178.270455)scale(0.1 -0.1)\">\n       <use xlink:href=\"#DejaVuSans-8722\"/>\n       <use x=\"83.789062\" xlink:href=\"#DejaVuSans-53\"/>\n       <use x=\"147.412109\" xlink:href=\"#DejaVuSans-46\"/>\n       <use x=\"179.199219\" xlink:href=\"#DejaVuSans-48\"/>\n      </g>\n     </g>\n    </g>\n    <g id=\"ytick_3\">\n     <g id=\"line2d_12\">\n      <g>\n       <use style=\"stroke:#000000;stroke-width:0.8;\" x=\"38.482813\" xlink:href=\"#m6d6b096a61\" y=\"147.611592\"/>\n      </g>\n     </g>\n     <g id=\"text_12\">\n      <!-- −2.5 -->\n      <g transform=\"translate(7.2 151.41081)scale(0.1 -0.1)\">\n       <use xlink:href=\"#DejaVuSans-8722\"/>\n       <use x=\"83.789062\" xlink:href=\"#DejaVuSans-50\"/>\n       <use x=\"147.412109\" xlink:href=\"#DejaVuSans-46\"/>\n       <use x=\"179.199219\" xlink:href=\"#DejaVuSans-53\"/>\n      </g>\n     </g>\n    </g>\n    <g id=\"ytick_4\">\n     <g id=\"line2d_13\">\n      <g>\n       <use style=\"stroke:#000000;stroke-width:0.8;\" x=\"38.482813\" xlink:href=\"#m6d6b096a61\" y=\"120.751947\"/>\n      </g>\n     </g>\n     <g id=\"text_13\">\n      <!-- 0.0 -->\n      <g transform=\"translate(15.579688 124.551165)scale(0.1 -0.1)\">\n       <use xlink:href=\"#DejaVuSans-48\"/>\n       <use x=\"63.623047\" xlink:href=\"#DejaVuSans-46\"/>\n       <use x=\"95.410156\" xlink:href=\"#DejaVuSans-48\"/>\n      </g>\n     </g>\n    </g>\n    <g id=\"ytick_5\">\n     <g id=\"line2d_14\">\n      <g>\n       <use style=\"stroke:#000000;stroke-width:0.8;\" x=\"38.482813\" xlink:href=\"#m6d6b096a61\" y=\"93.892301\"/>\n      </g>\n     </g>\n     <g id=\"text_14\">\n      <!-- 2.5 -->\n      <g transform=\"translate(15.579688 97.69152)scale(0.1 -0.1)\">\n       <use xlink:href=\"#DejaVuSans-50\"/>\n       <use x=\"63.623047\" xlink:href=\"#DejaVuSans-46\"/>\n       <use x=\"95.410156\" xlink:href=\"#DejaVuSans-53\"/>\n      </g>\n     </g>\n    </g>\n    <g id=\"ytick_6\">\n     <g id=\"line2d_15\">\n      <g>\n       <use style=\"stroke:#000000;stroke-width:0.8;\" x=\"38.482813\" xlink:href=\"#m6d6b096a61\" y=\"67.032656\"/>\n      </g>\n     </g>\n     <g id=\"text_15\">\n      <!-- 5.0 -->\n      <g transform=\"translate(15.579688 70.831875)scale(0.1 -0.1)\">\n       <use xlink:href=\"#DejaVuSans-53\"/>\n       <use x=\"63.623047\" xlink:href=\"#DejaVuSans-46\"/>\n       <use x=\"95.410156\" xlink:href=\"#DejaVuSans-48\"/>\n      </g>\n     </g>\n    </g>\n    <g id=\"ytick_7\">\n     <g id=\"line2d_16\">\n      <g>\n       <use style=\"stroke:#000000;stroke-width:0.8;\" x=\"38.482813\" xlink:href=\"#m6d6b096a61\" y=\"40.173011\"/>\n      </g>\n     </g>\n     <g id=\"text_16\">\n      <!-- 7.5 -->\n      <g transform=\"translate(15.579688 43.97223)scale(0.1 -0.1)\">\n       <use xlink:href=\"#DejaVuSans-55\"/>\n       <use x=\"63.623047\" xlink:href=\"#DejaVuSans-46\"/>\n       <use x=\"95.410156\" xlink:href=\"#DejaVuSans-53\"/>\n      </g>\n     </g>\n    </g>\n    <g id=\"ytick_8\">\n     <g id=\"line2d_17\">\n      <g>\n       <use style=\"stroke:#000000;stroke-width:0.8;\" x=\"38.482813\" xlink:href=\"#m6d6b096a61\" y=\"13.313366\"/>\n      </g>\n     </g>\n     <g id=\"text_17\">\n      <!-- 10.0 -->\n      <g transform=\"translate(9.217188 17.112585)scale(0.1 -0.1)\">\n       <use xlink:href=\"#DejaVuSans-49\"/>\n       <use x=\"63.623047\" xlink:href=\"#DejaVuSans-48\"/>\n       <use x=\"127.246094\" xlink:href=\"#DejaVuSans-46\"/>\n       <use x=\"159.033203\" xlink:href=\"#DejaVuSans-48\"/>\n      </g>\n     </g>\n    </g>\n   </g>\n   <g id=\"patch_3\">\n    <path d=\"M 38.482813 224.64 \nL 38.482813 7.2 \n\" style=\"fill:none;stroke:#000000;stroke-linecap:square;stroke-linejoin:miter;stroke-width:0.8;\"/>\n   </g>\n   <g id=\"patch_4\">\n    <path d=\"M 373.282813 224.64 \nL 373.282813 7.2 \n\" style=\"fill:none;stroke:#000000;stroke-linecap:square;stroke-linejoin:miter;stroke-width:0.8;\"/>\n   </g>\n   <g id=\"patch_5\">\n    <path d=\"M 38.482813 224.64 \nL 373.282813 224.64 \n\" style=\"fill:none;stroke:#000000;stroke-linecap:square;stroke-linejoin:miter;stroke-width:0.8;\"/>\n   </g>\n   <g id=\"patch_6\">\n    <path d=\"M 38.482813 7.2 \nL 373.282813 7.2 \n\" style=\"fill:none;stroke:#000000;stroke-linecap:square;stroke-linejoin:miter;stroke-width:0.8;\"/>\n   </g>\n  </g>\n </g>\n <defs>\n  <clipPath id=\"pf2e95ef248\">\n   <rect height=\"217.44\" width=\"334.8\" x=\"38.482813\" y=\"7.2\"/>\n  </clipPath>\n </defs>\n</svg>\n",
      "image/png": "[encoded data removed]"
     },
     "metadata": {
      "needs_background": "light"
     }
    }
   ],
   "source": [
    "plt.scatter(landscape.landmarks[:, 0], landscape.landmarks[:, 1], s=150, alpha=0.8)"
   ]
  },
  {
   "cell_type": "code",
   "execution_count": 51,
   "metadata": {},
   "outputs": [],
   "source": [
    "from data_utils import Odometry\n",
    "\n",
    "N_pts = 100\n",
    "\n",
    "odometry = Odometry(landscape, \n",
    "                    observation_dim=3, \n",
    "                    max_time=10, \n",
    "                    max_landmarks_per_step=1)\n",
    "odometry.generate(N_pts)"
   ]
  },
  {
   "cell_type": "code",
   "execution_count": 52,
   "metadata": {},
   "outputs": [
    {
     "output_type": "execute_result",
     "data": {
      "text/plain": [
       "<matplotlib.collections.PathCollection at 0x7fc5d88ac2e0>"
      ]
     },
     "metadata": {},
     "execution_count": 52
    },
    {
     "output_type": "display_data",
     "data": {
      "text/plain": "<Figure size 432x288 with 1 Axes>",
      "image/svg+xml": "<?xml version=\"1.0\" encoding=\"utf-8\" standalone=\"no\"?>\n<!DOCTYPE svg PUBLIC \"-//W3C//DTD SVG 1.1//EN\"\n  \"http://www.w3.org/Graphics/SVG/1.1/DTD/svg11.dtd\">\n<!-- Created with matplotlib (https://matplotlib.org/) -->\n<svg height=\"248.518125pt\" version=\"1.1\" viewBox=\"0 0 370.942187 248.518125\" width=\"370.942187pt\" xmlns=\"http://www.w3.org/2000/svg\" xmlns:xlink=\"http://www.w3.org/1999/xlink\">\n <metadata>\n  <rdf:RDF xmlns:cc=\"http://creativecommons.org/ns#\" xmlns:dc=\"http://purl.org/dc/elements/1.1/\" xmlns:rdf=\"http://www.w3.org/1999/02/22-rdf-syntax-ns#\">\n   <cc:Work>\n    <dc:type rdf:resource=\"http://purl.org/dc/dcmitype/StillImage\"/>\n    <dc:date>2021-03-23T21:51:40.440849</dc:date>\n    <dc:format>image/svg+xml</dc:format>\n    <dc:creator>\n     <cc:Agent>\n      <dc:title>Matplotlib v3.3.2, https://matplotlib.org/</dc:title>\n     </cc:Agent>\n    </dc:creator>\n   </cc:Work>\n  </rdf:RDF>\n </metadata>\n <defs>\n  <style type=\"text/css\">*{stroke-linecap:butt;stroke-linejoin:round;}</style>\n </defs>\n <g id=\"figure_1\">\n  <g id=\"patch_1\">\n   <path d=\"M 0 248.518125 \nL 370.942187 248.518125 \nL 370.942187 0 \nL 0 0 \nz\n\" style=\"fill:none;\"/>\n  </g>\n  <g id=\"axes_1\">\n   <g id=\"patch_2\">\n    <path d=\"M 28.942188 224.64 \nL 363.742188 224.64 \nL 363.742188 7.2 \nL 28.942188 7.2 \nz\n\" style=\"fill:#ffffff;\"/>\n   </g>\n   <g id=\"PathCollection_1\">\n    <defs>\n     <path d=\"M 0 3 \nC 0.795609 3 1.55874 2.683901 2.12132 2.12132 \nC 2.683901 1.55874 3 0.795609 3 0 \nC 3 -0.795609 2.683901 -1.55874 2.12132 -2.12132 \nC 1.55874 -2.683901 0.795609 -3 0 -3 \nC -0.795609 -3 -1.55874 -2.683901 -2.12132 -2.12132 \nC -2.683901 -1.55874 -3 -0.795609 -3 0 \nC -3 0.795609 -2.683901 1.55874 -2.12132 2.12132 \nC -1.55874 2.683901 -0.795609 3 0 3 \nz\n\" id=\"m4a8e88572c\" style=\"stroke:#1f77b4;\"/>\n    </defs>\n    <g clip-path=\"url(#p87b2db7e28)\">\n     <use style=\"fill:#1f77b4;stroke:#1f77b4;\" x=\"44.160369\" xlink:href=\"#m4a8e88572c\" y=\"178.041571\"/>\n     <use style=\"fill:#1f77b4;stroke:#1f77b4;\" x=\"64.059731\" xlink:href=\"#m4a8e88572c\" y=\"190.286312\"/>\n     <use style=\"fill:#1f77b4;stroke:#1f77b4;\" x=\"80.350728\" xlink:href=\"#m4a8e88572c\" y=\"200.834595\"/>\n     <use style=\"fill:#1f77b4;stroke:#1f77b4;\" x=\"99.741636\" xlink:href=\"#m4a8e88572c\" y=\"208.175795\"/>\n     <use style=\"fill:#1f77b4;stroke:#1f77b4;\" x=\"120.341675\" xlink:href=\"#m4a8e88572c\" y=\"209.544295\"/>\n     <use style=\"fill:#1f77b4;stroke:#1f77b4;\" x=\"144.452621\" xlink:href=\"#m4a8e88572c\" y=\"201.516236\"/>\n     <use style=\"fill:#1f77b4;stroke:#1f77b4;\" x=\"157.256099\" xlink:href=\"#m4a8e88572c\" y=\"190.598761\"/>\n     <use style=\"fill:#1f77b4;stroke:#1f77b4;\" x=\"163.005826\" xlink:href=\"#m4a8e88572c\" y=\"169.848053\"/>\n     <use style=\"fill:#1f77b4;stroke:#1f77b4;\" x=\"154.010366\" xlink:href=\"#m4a8e88572c\" y=\"160.467898\"/>\n     <use style=\"fill:#1f77b4;stroke:#1f77b4;\" x=\"141.022697\" xlink:href=\"#m4a8e88572c\" y=\"158.050939\"/>\n     <use style=\"fill:#1f77b4;stroke:#1f77b4;\" x=\"122.08281\" xlink:href=\"#m4a8e88572c\" y=\"159.31766\"/>\n     <use style=\"fill:#1f77b4;stroke:#1f77b4;\" x=\"104.915323\" xlink:href=\"#m4a8e88572c\" y=\"165.517854\"/>\n     <use style=\"fill:#1f77b4;stroke:#1f77b4;\" x=\"94.716433\" xlink:href=\"#m4a8e88572c\" y=\"176.873997\"/>\n     <use style=\"fill:#1f77b4;stroke:#1f77b4;\" x=\"96.487639\" xlink:href=\"#m4a8e88572c\" y=\"188.538453\"/>\n     <use style=\"fill:#1f77b4;stroke:#1f77b4;\" x=\"106.225989\" xlink:href=\"#m4a8e88572c\" y=\"198.3853\"/>\n     <use style=\"fill:#1f77b4;stroke:#1f77b4;\" x=\"119.990989\" xlink:href=\"#m4a8e88572c\" y=\"206.370323\"/>\n     <use style=\"fill:#1f77b4;stroke:#1f77b4;\" x=\"133.691991\" xlink:href=\"#m4a8e88572c\" y=\"205.329317\"/>\n     <use style=\"fill:#1f77b4;stroke:#1f77b4;\" x=\"145.422285\" xlink:href=\"#m4a8e88572c\" y=\"199.636231\"/>\n     <use style=\"fill:#1f77b4;stroke:#1f77b4;\" x=\"154.552649\" xlink:href=\"#m4a8e88572c\" y=\"191.190403\"/>\n     <use style=\"fill:#1f77b4;stroke:#1f77b4;\" x=\"158.978665\" xlink:href=\"#m4a8e88572c\" y=\"181.493519\"/>\n     <use style=\"fill:#1f77b4;stroke:#1f77b4;\" x=\"150.259608\" xlink:href=\"#m4a8e88572c\" y=\"172.979097\"/>\n     <use style=\"fill:#1f77b4;stroke:#1f77b4;\" x=\"133.233043\" xlink:href=\"#m4a8e88572c\" y=\"171.02619\"/>\n     <use style=\"fill:#1f77b4;stroke:#1f77b4;\" x=\"124.549426\" xlink:href=\"#m4a8e88572c\" y=\"175.673452\"/>\n     <use style=\"fill:#1f77b4;stroke:#1f77b4;\" x=\"119.606984\" xlink:href=\"#m4a8e88572c\" y=\"186.082944\"/>\n     <use style=\"fill:#1f77b4;stroke:#1f77b4;\" x=\"117.267384\" xlink:href=\"#m4a8e88572c\" y=\"198.44726\"/>\n     <use style=\"fill:#1f77b4;stroke:#1f77b4;\" x=\"127.619562\" xlink:href=\"#m4a8e88572c\" y=\"212.127891\"/>\n     <use style=\"fill:#1f77b4;stroke:#1f77b4;\" x=\"141.436331\" xlink:href=\"#m4a8e88572c\" y=\"214.756364\"/>\n     <use style=\"fill:#1f77b4;stroke:#1f77b4;\" x=\"156.767993\" xlink:href=\"#m4a8e88572c\" y=\"211.188908\"/>\n     <use style=\"fill:#1f77b4;stroke:#1f77b4;\" x=\"166.620573\" xlink:href=\"#m4a8e88572c\" y=\"201.202716\"/>\n     <use style=\"fill:#1f77b4;stroke:#1f77b4;\" x=\"169.935008\" xlink:href=\"#m4a8e88572c\" y=\"194.461305\"/>\n     <use style=\"fill:#1f77b4;stroke:#1f77b4;\" x=\"171.010874\" xlink:href=\"#m4a8e88572c\" y=\"188.334474\"/>\n     <use style=\"fill:#1f77b4;stroke:#1f77b4;\" x=\"173.583491\" xlink:href=\"#m4a8e88572c\" y=\"177.861433\"/>\n     <use style=\"fill:#1f77b4;stroke:#1f77b4;\" x=\"165.612419\" xlink:href=\"#m4a8e88572c\" y=\"166.884739\"/>\n     <use style=\"fill:#1f77b4;stroke:#1f77b4;\" x=\"157.645572\" xlink:href=\"#m4a8e88572c\" y=\"157.333093\"/>\n     <use style=\"fill:#1f77b4;stroke:#1f77b4;\" x=\"151.117916\" xlink:href=\"#m4a8e88572c\" y=\"151.248981\"/>\n     <use style=\"fill:#1f77b4;stroke:#1f77b4;\" x=\"138.719994\" xlink:href=\"#m4a8e88572c\" y=\"138.959415\"/>\n     <use style=\"fill:#1f77b4;stroke:#1f77b4;\" x=\"120.449595\" xlink:href=\"#m4a8e88572c\" y=\"133.851765\"/>\n     <use style=\"fill:#1f77b4;stroke:#1f77b4;\" x=\"111.869076\" xlink:href=\"#m4a8e88572c\" y=\"133.445864\"/>\n     <use style=\"fill:#1f77b4;stroke:#1f77b4;\" x=\"104.503956\" xlink:href=\"#m4a8e88572c\" y=\"133.432578\"/>\n     <use style=\"fill:#1f77b4;stroke:#1f77b4;\" x=\"92.213392\" xlink:href=\"#m4a8e88572c\" y=\"132.227036\"/>\n     <use style=\"fill:#1f77b4;stroke:#1f77b4;\" x=\"85.881408\" xlink:href=\"#m4a8e88572c\" y=\"131.507508\"/>\n     <use style=\"fill:#1f77b4;stroke:#1f77b4;\" x=\"78.186019\" xlink:href=\"#m4a8e88572c\" y=\"130.905092\"/>\n     <use style=\"fill:#1f77b4;stroke:#1f77b4;\" x=\"72.100783\" xlink:href=\"#m4a8e88572c\" y=\"131.121256\"/>\n     <use style=\"fill:#1f77b4;stroke:#1f77b4;\" x=\"64.263921\" xlink:href=\"#m4a8e88572c\" y=\"137.329124\"/>\n     <use style=\"fill:#1f77b4;stroke:#1f77b4;\" x=\"61.332741\" xlink:href=\"#m4a8e88572c\" y=\"144.904334\"/>\n     <use style=\"fill:#1f77b4;stroke:#1f77b4;\" x=\"66.379925\" xlink:href=\"#m4a8e88572c\" y=\"152.865167\"/>\n     <use style=\"fill:#1f77b4;stroke:#1f77b4;\" x=\"71.73384\" xlink:href=\"#m4a8e88572c\" y=\"153.941516\"/>\n     <use style=\"fill:#1f77b4;stroke:#1f77b4;\" x=\"81.173101\" xlink:href=\"#m4a8e88572c\" y=\"153.0825\"/>\n     <use style=\"fill:#1f77b4;stroke:#1f77b4;\" x=\"96.583039\" xlink:href=\"#m4a8e88572c\" y=\"148.471171\"/>\n     <use style=\"fill:#1f77b4;stroke:#1f77b4;\" x=\"103.158217\" xlink:href=\"#m4a8e88572c\" y=\"142.685111\"/>\n     <use style=\"fill:#1f77b4;stroke:#1f77b4;\" x=\"108.99471\" xlink:href=\"#m4a8e88572c\" y=\"136.583617\"/>\n     <use style=\"fill:#1f77b4;stroke:#1f77b4;\" x=\"111.55241\" xlink:href=\"#m4a8e88572c\" y=\"129.9117\"/>\n     <use style=\"fill:#1f77b4;stroke:#1f77b4;\" x=\"116.378215\" xlink:href=\"#m4a8e88572c\" y=\"114.275818\"/>\n     <use style=\"fill:#1f77b4;stroke:#1f77b4;\" x=\"115.690239\" xlink:href=\"#m4a8e88572c\" y=\"103.80519\"/>\n     <use style=\"fill:#1f77b4;stroke:#1f77b4;\" x=\"116.145996\" xlink:href=\"#m4a8e88572c\" y=\"99.225229\"/>\n     <use style=\"fill:#1f77b4;stroke:#1f77b4;\" x=\"116.53345\" xlink:href=\"#m4a8e88572c\" y=\"88.49061\"/>\n     <use style=\"fill:#1f77b4;stroke:#1f77b4;\" x=\"117.760113\" xlink:href=\"#m4a8e88572c\" y=\"76.72655\"/>\n     <use style=\"fill:#1f77b4;stroke:#1f77b4;\" x=\"126.065652\" xlink:href=\"#m4a8e88572c\" y=\"59.669557\"/>\n     <use style=\"fill:#1f77b4;stroke:#1f77b4;\" x=\"133.967897\" xlink:href=\"#m4a8e88572c\" y=\"52.654232\"/>\n     <use style=\"fill:#1f77b4;stroke:#1f77b4;\" x=\"142.677709\" xlink:href=\"#m4a8e88572c\" y=\"48.396933\"/>\n     <use style=\"fill:#1f77b4;stroke:#1f77b4;\" x=\"155.415583\" xlink:href=\"#m4a8e88572c\" y=\"45.003856\"/>\n     <use style=\"fill:#1f77b4;stroke:#1f77b4;\" x=\"168.078941\" xlink:href=\"#m4a8e88572c\" y=\"40.032614\"/>\n     <use style=\"fill:#1f77b4;stroke:#1f77b4;\" x=\"186.048377\" xlink:href=\"#m4a8e88572c\" y=\"26.147733\"/>\n     <use style=\"fill:#1f77b4;stroke:#1f77b4;\" x=\"301.61414\" xlink:href=\"#m4a8e88572c\" y=\"17.083636\"/>\n     <use style=\"fill:#1f77b4;stroke:#1f77b4;\" x=\"301.61859\" xlink:href=\"#m4a8e88572c\" y=\"17.144244\"/>\n     <use style=\"fill:#1f77b4;stroke:#1f77b4;\" x=\"299.769748\" xlink:href=\"#m4a8e88572c\" y=\"21.312577\"/>\n     <use style=\"fill:#1f77b4;stroke:#1f77b4;\" x=\"296.469274\" xlink:href=\"#m4a8e88572c\" y=\"23.448092\"/>\n     <use style=\"fill:#1f77b4;stroke:#1f77b4;\" x=\"287.420135\" xlink:href=\"#m4a8e88572c\" y=\"24.535028\"/>\n     <use style=\"fill:#1f77b4;stroke:#1f77b4;\" x=\"282.334009\" xlink:href=\"#m4a8e88572c\" y=\"25.61171\"/>\n     <use style=\"fill:#1f77b4;stroke:#1f77b4;\" x=\"275.955921\" xlink:href=\"#m4a8e88572c\" y=\"25.517302\"/>\n     <use style=\"fill:#1f77b4;stroke:#1f77b4;\" x=\"276.723546\" xlink:href=\"#m4a8e88572c\" y=\"25.687739\"/>\n     <use style=\"fill:#1f77b4;stroke:#1f77b4;\" x=\"280.818109\" xlink:href=\"#m4a8e88572c\" y=\"27.942355\"/>\n     <use style=\"fill:#1f77b4;stroke:#1f77b4;\" x=\"284.992523\" xlink:href=\"#m4a8e88572c\" y=\"32.813653\"/>\n     <use style=\"fill:#1f77b4;stroke:#1f77b4;\" x=\"288.117496\" xlink:href=\"#m4a8e88572c\" y=\"36.455545\"/>\n     <use style=\"fill:#1f77b4;stroke:#1f77b4;\" x=\"289.463343\" xlink:href=\"#m4a8e88572c\" y=\"39.166822\"/>\n     <use style=\"fill:#1f77b4;stroke:#1f77b4;\" x=\"298.958091\" xlink:href=\"#m4a8e88572c\" y=\"41.289338\"/>\n     <use style=\"fill:#1f77b4;stroke:#1f77b4;\" x=\"303.609802\" xlink:href=\"#m4a8e88572c\" y=\"44.690581\"/>\n     <use style=\"fill:#1f77b4;stroke:#1f77b4;\" x=\"305.572261\" xlink:href=\"#m4a8e88572c\" y=\"49.141972\"/>\n     <use style=\"fill:#1f77b4;stroke:#1f77b4;\" x=\"307.456743\" xlink:href=\"#m4a8e88572c\" y=\"54.460065\"/>\n     <use style=\"fill:#1f77b4;stroke:#1f77b4;\" x=\"307.015831\" xlink:href=\"#m4a8e88572c\" y=\"62.662394\"/>\n     <use style=\"fill:#1f77b4;stroke:#1f77b4;\" x=\"301.430718\" xlink:href=\"#m4a8e88572c\" y=\"71.587671\"/>\n     <use style=\"fill:#1f77b4;stroke:#1f77b4;\" x=\"292.595383\" xlink:href=\"#m4a8e88572c\" y=\"76.053051\"/>\n     <use style=\"fill:#1f77b4;stroke:#1f77b4;\" x=\"285.632524\" xlink:href=\"#m4a8e88572c\" y=\"72.746404\"/>\n     <use style=\"fill:#1f77b4;stroke:#1f77b4;\" x=\"287.665799\" xlink:href=\"#m4a8e88572c\" y=\"64.057985\"/>\n     <use style=\"fill:#1f77b4;stroke:#1f77b4;\" x=\"326.40739\" xlink:href=\"#m4a8e88572c\" y=\"73.041381\"/>\n     <use style=\"fill:#1f77b4;stroke:#1f77b4;\" x=\"328.975711\" xlink:href=\"#m4a8e88572c\" y=\"77.918179\"/>\n     <use style=\"fill:#1f77b4;stroke:#1f77b4;\" x=\"330.708905\" xlink:href=\"#m4a8e88572c\" y=\"80.850567\"/>\n     <use style=\"fill:#1f77b4;stroke:#1f77b4;\" x=\"330.314105\" xlink:href=\"#m4a8e88572c\" y=\"83.863978\"/>\n     <use style=\"fill:#1f77b4;stroke:#1f77b4;\" x=\"329.813389\" xlink:href=\"#m4a8e88572c\" y=\"84.98353\"/>\n     <use style=\"fill:#1f77b4;stroke:#1f77b4;\" x=\"330.928146\" xlink:href=\"#m4a8e88572c\" y=\"82.754747\"/>\n     <use style=\"fill:#1f77b4;stroke:#1f77b4;\" x=\"331.759861\" xlink:href=\"#m4a8e88572c\" y=\"80.728252\"/>\n     <use style=\"fill:#1f77b4;stroke:#1f77b4;\" x=\"331.892879\" xlink:href=\"#m4a8e88572c\" y=\"80.4748\"/>\n     <use style=\"fill:#1f77b4;stroke:#1f77b4;\" x=\"333.178581\" xlink:href=\"#m4a8e88572c\" y=\"77.808447\"/>\n     <use style=\"fill:#1f77b4;stroke:#1f77b4;\" x=\"337.090044\" xlink:href=\"#m4a8e88572c\" y=\"73.085015\"/>\n     <use style=\"fill:#1f77b4;stroke:#1f77b4;\" x=\"339.127615\" xlink:href=\"#m4a8e88572c\" y=\"71.169682\"/>\n     <use style=\"fill:#1f77b4;stroke:#1f77b4;\" x=\"343.719924\" xlink:href=\"#m4a8e88572c\" y=\"68.091218\"/>\n     <use style=\"fill:#1f77b4;stroke:#1f77b4;\" x=\"348.524006\" xlink:href=\"#m4a8e88572c\" y=\"66.420301\"/>\n     <use style=\"fill:#1f77b4;stroke:#1f77b4;\" x=\"345.588116\" xlink:href=\"#m4a8e88572c\" y=\"67.235407\"/>\n     <use style=\"fill:#1f77b4;stroke:#1f77b4;\" x=\"343.763118\" xlink:href=\"#m4a8e88572c\" y=\"67.603534\"/>\n     <use style=\"fill:#1f77b4;stroke:#1f77b4;\" x=\"342.321572\" xlink:href=\"#m4a8e88572c\" y=\"68.104328\"/>\n     <use style=\"fill:#1f77b4;stroke:#1f77b4;\" x=\"337.93262\" xlink:href=\"#m4a8e88572c\" y=\"70.100018\"/>\n    </g>\n   </g>\n   <g id=\"matplotlib.axis_1\">\n    <g id=\"xtick_1\">\n     <g id=\"line2d_1\">\n      <defs>\n       <path d=\"M 0 0 \nL 0 3.5 \n\" id=\"me8f99f391a\" style=\"stroke:#000000;stroke-width:0.8;\"/>\n      </defs>\n      <g>\n       <use style=\"stroke:#000000;stroke-width:0.8;\" x=\"55.21604\" xlink:href=\"#me8f99f391a\" y=\"224.64\"/>\n      </g>\n     </g>\n     <g id=\"text_1\">\n      <!-- 0 -->\n      <g transform=\"translate(52.03479 239.238437)scale(0.1 -0.1)\">\n       <defs>\n        <path d=\"M 31.78125 66.40625 \nQ 24.171875 66.40625 20.328125 58.90625 \nQ 16.5 51.421875 16.5 36.375 \nQ 16.5 21.390625 20.328125 13.890625 \nQ 24.171875 6.390625 31.78125 6.390625 \nQ 39.453125 6.390625 43.28125 13.890625 \nQ 47.125 21.390625 47.125 36.375 \nQ 47.125 51.421875 43.28125 58.90625 \nQ 39.453125 66.40625 31.78125 66.40625 \nz\nM 31.78125 74.21875 \nQ 44.046875 74.21875 50.515625 64.515625 \nQ 56.984375 54.828125 56.984375 36.375 \nQ 56.984375 17.96875 50.515625 8.265625 \nQ 44.046875 -1.421875 31.78125 -1.421875 \nQ 19.53125 -1.421875 13.0625 8.265625 \nQ 6.59375 17.96875 6.59375 36.375 \nQ 6.59375 54.828125 13.0625 64.515625 \nQ 19.53125 74.21875 31.78125 74.21875 \nz\n\" id=\"DejaVuSans-48\"/>\n       </defs>\n       <use xlink:href=\"#DejaVuSans-48\"/>\n      </g>\n     </g>\n    </g>\n    <g id=\"xtick_2\">\n     <g id=\"line2d_2\">\n      <g>\n       <use style=\"stroke:#000000;stroke-width:0.8;\" x=\"93.873545\" xlink:href=\"#me8f99f391a\" y=\"224.64\"/>\n      </g>\n     </g>\n     <g id=\"text_2\">\n      <!-- 2 -->\n      <g transform=\"translate(90.692295 239.238437)scale(0.1 -0.1)\">\n       <defs>\n        <path d=\"M 19.1875 8.296875 \nL 53.609375 8.296875 \nL 53.609375 0 \nL 7.328125 0 \nL 7.328125 8.296875 \nQ 12.9375 14.109375 22.625 23.890625 \nQ 32.328125 33.6875 34.8125 36.53125 \nQ 39.546875 41.84375 41.421875 45.53125 \nQ 43.3125 49.21875 43.3125 52.78125 \nQ 43.3125 58.59375 39.234375 62.25 \nQ 35.15625 65.921875 28.609375 65.921875 \nQ 23.96875 65.921875 18.8125 64.3125 \nQ 13.671875 62.703125 7.8125 59.421875 \nL 7.8125 69.390625 \nQ 13.765625 71.78125 18.9375 73 \nQ 24.125 74.21875 28.421875 74.21875 \nQ 39.75 74.21875 46.484375 68.546875 \nQ 53.21875 62.890625 53.21875 53.421875 \nQ 53.21875 48.921875 51.53125 44.890625 \nQ 49.859375 40.875 45.40625 35.40625 \nQ 44.1875 33.984375 37.640625 27.21875 \nQ 31.109375 20.453125 19.1875 8.296875 \nz\n\" id=\"DejaVuSans-50\"/>\n       </defs>\n       <use xlink:href=\"#DejaVuSans-50\"/>\n      </g>\n     </g>\n    </g>\n    <g id=\"xtick_3\">\n     <g id=\"line2d_3\">\n      <g>\n       <use style=\"stroke:#000000;stroke-width:0.8;\" x=\"132.53105\" xlink:href=\"#me8f99f391a\" y=\"224.64\"/>\n      </g>\n     </g>\n     <g id=\"text_3\">\n      <!-- 4 -->\n      <g transform=\"translate(129.3498 239.238437)scale(0.1 -0.1)\">\n       <defs>\n        <path d=\"M 37.796875 64.3125 \nL 12.890625 25.390625 \nL 37.796875 25.390625 \nz\nM 35.203125 72.90625 \nL 47.609375 72.90625 \nL 47.609375 25.390625 \nL 58.015625 25.390625 \nL 58.015625 17.1875 \nL 47.609375 17.1875 \nL 47.609375 0 \nL 37.796875 0 \nL 37.796875 17.1875 \nL 4.890625 17.1875 \nL 4.890625 26.703125 \nz\n\" id=\"DejaVuSans-52\"/>\n       </defs>\n       <use xlink:href=\"#DejaVuSans-52\"/>\n      </g>\n     </g>\n    </g>\n    <g id=\"xtick_4\">\n     <g id=\"line2d_4\">\n      <g>\n       <use style=\"stroke:#000000;stroke-width:0.8;\" x=\"171.188555\" xlink:href=\"#me8f99f391a\" y=\"224.64\"/>\n      </g>\n     </g>\n     <g id=\"text_4\">\n      <!-- 6 -->\n      <g transform=\"translate(168.007305 239.238437)scale(0.1 -0.1)\">\n       <defs>\n        <path d=\"M 33.015625 40.375 \nQ 26.375 40.375 22.484375 35.828125 \nQ 18.609375 31.296875 18.609375 23.390625 \nQ 18.609375 15.53125 22.484375 10.953125 \nQ 26.375 6.390625 33.015625 6.390625 \nQ 39.65625 6.390625 43.53125 10.953125 \nQ 47.40625 15.53125 47.40625 23.390625 \nQ 47.40625 31.296875 43.53125 35.828125 \nQ 39.65625 40.375 33.015625 40.375 \nz\nM 52.59375 71.296875 \nL 52.59375 62.3125 \nQ 48.875 64.0625 45.09375 64.984375 \nQ 41.3125 65.921875 37.59375 65.921875 \nQ 27.828125 65.921875 22.671875 59.328125 \nQ 17.53125 52.734375 16.796875 39.40625 \nQ 19.671875 43.65625 24.015625 45.921875 \nQ 28.375 48.1875 33.59375 48.1875 \nQ 44.578125 48.1875 50.953125 41.515625 \nQ 57.328125 34.859375 57.328125 23.390625 \nQ 57.328125 12.15625 50.6875 5.359375 \nQ 44.046875 -1.421875 33.015625 -1.421875 \nQ 20.359375 -1.421875 13.671875 8.265625 \nQ 6.984375 17.96875 6.984375 36.375 \nQ 6.984375 53.65625 15.1875 63.9375 \nQ 23.390625 74.21875 37.203125 74.21875 \nQ 40.921875 74.21875 44.703125 73.484375 \nQ 48.484375 72.75 52.59375 71.296875 \nz\n\" id=\"DejaVuSans-54\"/>\n       </defs>\n       <use xlink:href=\"#DejaVuSans-54\"/>\n      </g>\n     </g>\n    </g>\n    <g id=\"xtick_5\">\n     <g id=\"line2d_5\">\n      <g>\n       <use style=\"stroke:#000000;stroke-width:0.8;\" x=\"209.84606\" xlink:href=\"#me8f99f391a\" y=\"224.64\"/>\n      </g>\n     </g>\n     <g id=\"text_5\">\n      <!-- 8 -->\n      <g transform=\"translate(206.66481 239.238437)scale(0.1 -0.1)\">\n       <defs>\n        <path d=\"M 31.78125 34.625 \nQ 24.75 34.625 20.71875 30.859375 \nQ 16.703125 27.09375 16.703125 20.515625 \nQ 16.703125 13.921875 20.71875 10.15625 \nQ 24.75 6.390625 31.78125 6.390625 \nQ 38.8125 6.390625 42.859375 10.171875 \nQ 46.921875 13.96875 46.921875 20.515625 \nQ 46.921875 27.09375 42.890625 30.859375 \nQ 38.875 34.625 31.78125 34.625 \nz\nM 21.921875 38.8125 \nQ 15.578125 40.375 12.03125 44.71875 \nQ 8.5 49.078125 8.5 55.328125 \nQ 8.5 64.0625 14.71875 69.140625 \nQ 20.953125 74.21875 31.78125 74.21875 \nQ 42.671875 74.21875 48.875 69.140625 \nQ 55.078125 64.0625 55.078125 55.328125 \nQ 55.078125 49.078125 51.53125 44.71875 \nQ 48 40.375 41.703125 38.8125 \nQ 48.828125 37.15625 52.796875 32.3125 \nQ 56.78125 27.484375 56.78125 20.515625 \nQ 56.78125 9.90625 50.3125 4.234375 \nQ 43.84375 -1.421875 31.78125 -1.421875 \nQ 19.734375 -1.421875 13.25 4.234375 \nQ 6.78125 9.90625 6.78125 20.515625 \nQ 6.78125 27.484375 10.78125 32.3125 \nQ 14.796875 37.15625 21.921875 38.8125 \nz\nM 18.3125 54.390625 \nQ 18.3125 48.734375 21.84375 45.5625 \nQ 25.390625 42.390625 31.78125 42.390625 \nQ 38.140625 42.390625 41.71875 45.5625 \nQ 45.3125 48.734375 45.3125 54.390625 \nQ 45.3125 60.0625 41.71875 63.234375 \nQ 38.140625 66.40625 31.78125 66.40625 \nQ 25.390625 66.40625 21.84375 63.234375 \nQ 18.3125 60.0625 18.3125 54.390625 \nz\n\" id=\"DejaVuSans-56\"/>\n       </defs>\n       <use xlink:href=\"#DejaVuSans-56\"/>\n      </g>\n     </g>\n    </g>\n    <g id=\"xtick_6\">\n     <g id=\"line2d_6\">\n      <g>\n       <use style=\"stroke:#000000;stroke-width:0.8;\" x=\"248.503565\" xlink:href=\"#me8f99f391a\" y=\"224.64\"/>\n      </g>\n     </g>\n     <g id=\"text_6\">\n      <!-- 10 -->\n      <g transform=\"translate(242.141065 239.238437)scale(0.1 -0.1)\">\n       <defs>\n        <path d=\"M 12.40625 8.296875 \nL 28.515625 8.296875 \nL 28.515625 63.921875 \nL 10.984375 60.40625 \nL 10.984375 69.390625 \nL 28.421875 72.90625 \nL 38.28125 72.90625 \nL 38.28125 8.296875 \nL 54.390625 8.296875 \nL 54.390625 0 \nL 12.40625 0 \nz\n\" id=\"DejaVuSans-49\"/>\n       </defs>\n       <use xlink:href=\"#DejaVuSans-49\"/>\n       <use x=\"63.623047\" xlink:href=\"#DejaVuSans-48\"/>\n      </g>\n     </g>\n    </g>\n    <g id=\"xtick_7\">\n     <g id=\"line2d_7\">\n      <g>\n       <use style=\"stroke:#000000;stroke-width:0.8;\" x=\"287.16107\" xlink:href=\"#me8f99f391a\" y=\"224.64\"/>\n      </g>\n     </g>\n     <g id=\"text_7\">\n      <!-- 12 -->\n      <g transform=\"translate(280.79857 239.238437)scale(0.1 -0.1)\">\n       <use xlink:href=\"#DejaVuSans-49\"/>\n       <use x=\"63.623047\" xlink:href=\"#DejaVuSans-50\"/>\n      </g>\n     </g>\n    </g>\n    <g id=\"xtick_8\">\n     <g id=\"line2d_8\">\n      <g>\n       <use style=\"stroke:#000000;stroke-width:0.8;\" x=\"325.818575\" xlink:href=\"#me8f99f391a\" y=\"224.64\"/>\n      </g>\n     </g>\n     <g id=\"text_8\">\n      <!-- 14 -->\n      <g transform=\"translate(319.456075 239.238437)scale(0.1 -0.1)\">\n       <use xlink:href=\"#DejaVuSans-49\"/>\n       <use x=\"63.623047\" xlink:href=\"#DejaVuSans-52\"/>\n      </g>\n     </g>\n    </g>\n   </g>\n   <g id=\"matplotlib.axis_2\">\n    <g id=\"ytick_1\">\n     <g id=\"line2d_9\">\n      <defs>\n       <path d=\"M 0 0 \nL -3.5 0 \n\" id=\"md1fef99b44\" style=\"stroke:#000000;stroke-width:0.8;\"/>\n      </defs>\n      <g>\n       <use style=\"stroke:#000000;stroke-width:0.8;\" x=\"28.942188\" xlink:href=\"#md1fef99b44\" y=\"208.14504\"/>\n      </g>\n     </g>\n     <g id=\"text_9\">\n      <!-- −2 -->\n      <g transform=\"translate(7.2 211.944259)scale(0.1 -0.1)\">\n       <defs>\n        <path d=\"M 10.59375 35.5 \nL 73.1875 35.5 \nL 73.1875 27.203125 \nL 10.59375 27.203125 \nz\n\" id=\"DejaVuSans-8722\"/>\n       </defs>\n       <use xlink:href=\"#DejaVuSans-8722\"/>\n       <use x=\"83.789062\" xlink:href=\"#DejaVuSans-50\"/>\n      </g>\n     </g>\n    </g>\n    <g id=\"ytick_2\">\n     <g id=\"line2d_10\">\n      <g>\n       <use style=\"stroke:#000000;stroke-width:0.8;\" x=\"28.942188\" xlink:href=\"#md1fef99b44\" y=\"176.748781\"/>\n      </g>\n     </g>\n     <g id=\"text_10\">\n      <!-- 0 -->\n      <g transform=\"translate(15.579688 180.547999)scale(0.1 -0.1)\">\n       <use xlink:href=\"#DejaVuSans-48\"/>\n      </g>\n     </g>\n    </g>\n    <g id=\"ytick_3\">\n     <g id=\"line2d_11\">\n      <g>\n       <use style=\"stroke:#000000;stroke-width:0.8;\" x=\"28.942188\" xlink:href=\"#md1fef99b44\" y=\"145.352521\"/>\n      </g>\n     </g>\n     <g id=\"text_11\">\n      <!-- 2 -->\n      <g transform=\"translate(15.579688 149.15174)scale(0.1 -0.1)\">\n       <use xlink:href=\"#DejaVuSans-50\"/>\n      </g>\n     </g>\n    </g>\n    <g id=\"ytick_4\">\n     <g id=\"line2d_12\">\n      <g>\n       <use style=\"stroke:#000000;stroke-width:0.8;\" x=\"28.942188\" xlink:href=\"#md1fef99b44\" y=\"113.956261\"/>\n      </g>\n     </g>\n     <g id=\"text_12\">\n      <!-- 4 -->\n      <g transform=\"translate(15.579688 117.75548)scale(0.1 -0.1)\">\n       <use xlink:href=\"#DejaVuSans-52\"/>\n      </g>\n     </g>\n    </g>\n    <g id=\"ytick_5\">\n     <g id=\"line2d_13\">\n      <g>\n       <use style=\"stroke:#000000;stroke-width:0.8;\" x=\"28.942188\" xlink:href=\"#md1fef99b44\" y=\"82.560002\"/>\n      </g>\n     </g>\n     <g id=\"text_13\">\n      <!-- 6 -->\n      <g transform=\"translate(15.579688 86.359221)scale(0.1 -0.1)\">\n       <use xlink:href=\"#DejaVuSans-54\"/>\n      </g>\n     </g>\n    </g>\n    <g id=\"ytick_6\">\n     <g id=\"line2d_14\">\n      <g>\n       <use style=\"stroke:#000000;stroke-width:0.8;\" x=\"28.942188\" xlink:href=\"#md1fef99b44\" y=\"51.163742\"/>\n      </g>\n     </g>\n     <g id=\"text_14\">\n      <!-- 8 -->\n      <g transform=\"translate(15.579688 54.962961)scale(0.1 -0.1)\">\n       <use xlink:href=\"#DejaVuSans-56\"/>\n      </g>\n     </g>\n    </g>\n    <g id=\"ytick_7\">\n     <g id=\"line2d_15\">\n      <g>\n       <use style=\"stroke:#000000;stroke-width:0.8;\" x=\"28.942188\" xlink:href=\"#md1fef99b44\" y=\"19.767483\"/>\n      </g>\n     </g>\n     <g id=\"text_15\">\n      <!-- 10 -->\n      <g transform=\"translate(9.217188 23.566701)scale(0.1 -0.1)\">\n       <use xlink:href=\"#DejaVuSans-49\"/>\n       <use x=\"63.623047\" xlink:href=\"#DejaVuSans-48\"/>\n      </g>\n     </g>\n    </g>\n   </g>\n   <g id=\"patch_3\">\n    <path d=\"M 28.942188 224.64 \nL 28.942188 7.2 \n\" style=\"fill:none;stroke:#000000;stroke-linecap:square;stroke-linejoin:miter;stroke-width:0.8;\"/>\n   </g>\n   <g id=\"patch_4\">\n    <path d=\"M 363.742188 224.64 \nL 363.742188 7.2 \n\" style=\"fill:none;stroke:#000000;stroke-linecap:square;stroke-linejoin:miter;stroke-width:0.8;\"/>\n   </g>\n   <g id=\"patch_5\">\n    <path d=\"M 28.942188 224.64 \nL 363.742188 224.64 \n\" style=\"fill:none;stroke:#000000;stroke-linecap:square;stroke-linejoin:miter;stroke-width:0.8;\"/>\n   </g>\n   <g id=\"patch_6\">\n    <path d=\"M 28.942188 7.2 \nL 363.742188 7.2 \n\" style=\"fill:none;stroke:#000000;stroke-linecap:square;stroke-linejoin:miter;stroke-width:0.8;\"/>\n   </g>\n  </g>\n </g>\n <defs>\n  <clipPath id=\"p87b2db7e28\">\n   <rect height=\"217.44\" width=\"334.8\" x=\"28.942188\" y=\"7.2\"/>\n  </clipPath>\n </defs>\n</svg>\n",
      "image/png": "[encoded data removed]"
     },
     "metadata": {
      "needs_background": "light"
     }
    }
   ],
   "source": [
    "plt.scatter(np.array(odometry.states)[:, 0], np.array(odometry.states)[:, 1])"
   ]
  },
  {
   "cell_type": "code",
   "execution_count": 53,
   "metadata": {},
   "outputs": [
    {
     "output_type": "execute_result",
     "data": {
      "text/plain": [
       "array([[ 2.03991249, -5.3899696 , 16.        ]])"
      ]
     },
     "metadata": {},
     "execution_count": 53
    }
   ],
   "source": [
    "odometry.observations[0]"
   ]
  },
  {
   "cell_type": "code",
   "execution_count": 121,
   "metadata": {},
   "outputs": [],
   "source": [
    "from model import Model\n",
    "from observation import RangeModel, RangeBearingModel \n",
    "from data_utils import get_prediction\n",
    "\n",
    "state_dim = 3\n",
    "landmark_dim = 2\n",
    "obs_dim = 1\n",
    "\n",
    "sigma_l = 3.\n",
    "b_sigma = 1\n",
    "land_sigma = 10\n",
    "damppening_factor = 0.5\n",
    "\n",
    "sampler = lambda shape: multivariate_normal(mean=[0], cov=(1./sigma_l**2)*np.eye(1)).rvs(size=np.product(shape))\n",
    "\n",
    "n_features = 100\n",
    "assert n_features % 2 == 0\n",
    "rff = RFF(n_features=n_features // 2, w_sampler=sampler, dim=1)\n",
    "\n",
    "range_model = RangeModel(range_noise_std=odometry.Q[0,0]**.5)\n",
    "\n",
    "def prior_mean(t, state_estimates):\n",
    "    i = odometry.times.index(t)\n",
    "    state = get_prediction(state_estimates[i], odometry.motions[i])\n",
    "    return state\n",
    "\n",
    "#initial_values = np.concatenate([np.zeros(n_features*3), landscape.landmarks.reshape(-1)])\n",
    "initial_values = np.zeros((n_features*state_dim)+len(landscape.landmarks)*landmark_dim)\n",
    "b_means = np.zeros(n_features*state_dim)\n",
    "land_means = np.zeros((len(landscape.landmarks), landmark_dim))\n",
    "\n",
    "observations = range_model.filter_odom_observations(odometry.observations)\n",
    "\n",
    "model = Model(rff=rff, \n",
    "              initial_values=initial_values,\n",
    "              initial_state=odometry.states[0],\n",
    "              times=odometry.times,\n",
    "              measurements=observations,\n",
    "              measurement_covs=[odometry.Q[:1, :1]] * N_pts,\n",
    "              motions=odometry.motions,\n",
    "              b_means=b_means,\n",
    "              b_covs=[b_sigma**2 * np.eye(n_features)] * state_dim,\n",
    "              land_means=land_means,\n",
    "              land_cov=[land_sigma**2 * np.eye(landmark_dim)] * len(landscape.landmarks),\n",
    "              observation_model=range_model,\n",
    "              prior_mean=prior_mean,\n",
    "              dampening_factor=damppening_factor,\n",
    "            )"
   ]
  },
  {
   "cell_type": "code",
   "execution_count": 122,
   "metadata": {
    "tags": []
   },
   "outputs": [
    {
     "output_type": "stream",
     "name": "stdout",
     "text": [
      "Iter 0. Norm of perturbation: 27.0972\n",
      "Iter 10. Norm of perturbation: 21.0756\n",
      "Iter 20. Norm of perturbation: 21.9106\n",
      "Iter 30. Norm of perturbation: 23.7063\n",
      "Iter 40. Norm of perturbation: 23.6662\n",
      "Iter 50. Norm of perturbation: 22.8002\n",
      "Iter 60. Norm of perturbation: 21.8215\n",
      "Iter 70. Norm of perturbation: 24.1647\n",
      "Iter 80. Norm of perturbation: 22.9862\n",
      "Iter 90. Norm of perturbation: 18.9431\n",
      "Iter 100. Norm of perturbation: 26.7633\n",
      "Iter 110. Norm of perturbation: 17.8369\n",
      "Iter 120. Norm of perturbation: 20.1250\n",
      "Iter 130. Norm of perturbation: 20.4374\n",
      "Iter 140. Norm of perturbation: 25.7499\n",
      "Iter 150. Norm of perturbation: 21.8838\n",
      "Iter 160. Norm of perturbation: 18.7187\n",
      "Iter 170. Norm of perturbation: 25.6920\n",
      "Iter 180. Norm of perturbation: 23.0268\n",
      "Iter 190. Norm of perturbation: 24.2661\n",
      "Iter 200. Norm of perturbation: 19.4010\n",
      "Iter 210. Norm of perturbation: 24.8218\n",
      "Iter 220. Norm of perturbation: 20.2965\n",
      "Iter 230. Norm of perturbation: 20.5401\n",
      "Iter 240. Norm of perturbation: 22.8656\n",
      "Iter 250. Norm of perturbation: 23.2951\n",
      "Iter 260. Norm of perturbation: 21.5551\n",
      "Iter 270. Norm of perturbation: 19.6712\n",
      "Iter 280. Norm of perturbation: 27.7497\n",
      "Iter 290. Norm of perturbation: 21.1814\n",
      "Iter 300. Norm of perturbation: 22.2649\n",
      "Iter 310. Norm of perturbation: 24.7494\n",
      "Iter 320. Norm of perturbation: 24.0542\n",
      "Iter 330. Norm of perturbation: 20.3280\n",
      "Iter 340. Norm of perturbation: 22.2490\n",
      "Iter 350. Norm of perturbation: 17.3240\n",
      "Iter 360. Norm of perturbation: 27.3557\n",
      "Iter 370. Norm of perturbation: 22.4868\n",
      "Iter 380. Norm of perturbation: 25.5491\n",
      "Iter 390. Norm of perturbation: 28.7240\n",
      "Iter 400. Norm of perturbation: 17.4741\n",
      "Iter 410. Norm of perturbation: 24.0150\n",
      "Iter 420. Norm of perturbation: 25.2036\n",
      "Iter 430. Norm of perturbation: 18.6702\n",
      "Iter 440. Norm of perturbation: 27.9780\n",
      "Iter 450. Norm of perturbation: 24.6523\n",
      "Iter 460. Norm of perturbation: 27.7317\n",
      "Iter 470. Norm of perturbation: 22.7652\n",
      "Iter 480. Norm of perturbation: 15.9578\n",
      "Iter 490. Norm of perturbation: 29.1983\n"
     ]
    },
    {
     "output_type": "error",
     "ename": "KeyboardInterrupt",
     "evalue": "",
     "traceback": [
      "\u001b[0;31m---------------------------------------------------------------------------\u001b[0m",
      "\u001b[0;31mKeyboardInterrupt\u001b[0m                         Traceback (most recent call last)",
      "\u001b[0;32m<ipython-input-122-1ef4a76c5776>\u001b[0m in \u001b[0;36m<module>\u001b[0;34m\u001b[0m\n\u001b[0;32m----> 1\u001b[0;31m \u001b[0mmodel\u001b[0m\u001b[0;34m.\u001b[0m\u001b[0mrun_slam\u001b[0m\u001b[0;34m(\u001b[0m\u001b[0;36m1000\u001b[0m\u001b[0;34m)\u001b[0m\u001b[0;34m\u001b[0m\u001b[0;34m\u001b[0m\u001b[0m\n\u001b[0m",
      "\u001b[0;32m~/robotics_project/src/model.py\u001b[0m in \u001b[0;36mrun_slam\u001b[0;34m(self, n_iter)\u001b[0m\n\u001b[1;32m    134\u001b[0m         \u001b[0mn\u001b[0m \u001b[0;34m=\u001b[0m \u001b[0;36m0\u001b[0m\u001b[0;34m\u001b[0m\u001b[0;34m\u001b[0m\u001b[0m\n\u001b[1;32m    135\u001b[0m         \u001b[0;32mwhile\u001b[0m \u001b[0meps\u001b[0m \u001b[0;34m>\u001b[0m \u001b[0mself\u001b[0m\u001b[0;34m.\u001b[0m\u001b[0mtol\u001b[0m \u001b[0;32mand\u001b[0m \u001b[0mn\u001b[0m \u001b[0;34m<\u001b[0m \u001b[0mself\u001b[0m\u001b[0;34m.\u001b[0m\u001b[0mmax_n_iter\u001b[0m\u001b[0;34m:\u001b[0m\u001b[0;34m\u001b[0m\u001b[0;34m\u001b[0m\u001b[0m\n\u001b[0;32m--> 136\u001b[0;31m             \u001b[0meps\u001b[0m \u001b[0;34m=\u001b[0m \u001b[0mself\u001b[0m\u001b[0;34m.\u001b[0m\u001b[0miteration\u001b[0m\u001b[0;34m(\u001b[0m\u001b[0miter_id\u001b[0m\u001b[0;34m=\u001b[0m\u001b[0mn\u001b[0m\u001b[0;34m)\u001b[0m\u001b[0;34m\u001b[0m\u001b[0;34m\u001b[0m\u001b[0m\n\u001b[0m\u001b[1;32m    137\u001b[0m             \u001b[0;32mif\u001b[0m \u001b[0mself\u001b[0m\u001b[0;34m.\u001b[0m\u001b[0mverbose\u001b[0m \u001b[0;32mand\u001b[0m \u001b[0mn\u001b[0m \u001b[0;34m%\u001b[0m \u001b[0;36m10\u001b[0m \u001b[0;34m==\u001b[0m \u001b[0;36m0\u001b[0m\u001b[0;34m:\u001b[0m\u001b[0;34m\u001b[0m\u001b[0;34m\u001b[0m\u001b[0m\n\u001b[1;32m    138\u001b[0m                 \u001b[0mprint\u001b[0m\u001b[0;34m(\u001b[0m\u001b[0;34mf'Iter {n}. Norm of perturbation: {eps:.4f}'\u001b[0m\u001b[0;34m)\u001b[0m\u001b[0;34m\u001b[0m\u001b[0;34m\u001b[0m\u001b[0m\n",
      "\u001b[0;32m~/robotics_project/src/model.py\u001b[0m in \u001b[0;36miteration\u001b[0;34m(self, iter_id)\u001b[0m\n\u001b[1;32m    120\u001b[0m \u001b[0;34m\u001b[0m\u001b[0m\n\u001b[1;32m    121\u001b[0m     \u001b[0;32mdef\u001b[0m \u001b[0miteration\u001b[0m\u001b[0;34m(\u001b[0m\u001b[0mself\u001b[0m\u001b[0;34m,\u001b[0m \u001b[0miter_id\u001b[0m\u001b[0;34m=\u001b[0m\u001b[0;36m0\u001b[0m\u001b[0;34m)\u001b[0m\u001b[0;34m:\u001b[0m\u001b[0;34m\u001b[0m\u001b[0;34m\u001b[0m\u001b[0m\n\u001b[0;32m--> 122\u001b[0;31m         \u001b[0mA\u001b[0m\u001b[0;34m,\u001b[0m \u001b[0mg\u001b[0m \u001b[0;34m=\u001b[0m \u001b[0mself\u001b[0m\u001b[0;34m.\u001b[0m\u001b[0mupdate_params\u001b[0m\u001b[0;34m(\u001b[0m\u001b[0miter_id\u001b[0m\u001b[0;34m=\u001b[0m\u001b[0miter_id\u001b[0m\u001b[0;34m)\u001b[0m\u001b[0;34m\u001b[0m\u001b[0;34m\u001b[0m\u001b[0m\n\u001b[0m\u001b[1;32m    123\u001b[0m         \u001b[0mdb\u001b[0m \u001b[0;34m=\u001b[0m \u001b[0mself\u001b[0m\u001b[0;34m.\u001b[0m\u001b[0msolve\u001b[0m\u001b[0;34m(\u001b[0m\u001b[0mA\u001b[0m\u001b[0;34m,\u001b[0m \u001b[0mg\u001b[0m\u001b[0;34m)\u001b[0m\u001b[0;34m\u001b[0m\u001b[0;34m\u001b[0m\u001b[0m\n\u001b[1;32m    124\u001b[0m         \u001b[0mself\u001b[0m\u001b[0;34m.\u001b[0m\u001b[0mb\u001b[0m \u001b[0;34m+=\u001b[0m \u001b[0mdb\u001b[0m\u001b[0;34m\u001b[0m\u001b[0;34m\u001b[0m\u001b[0m\n",
      "\u001b[0;32m~/robotics_project/src/model.py\u001b[0m in \u001b[0;36mupdate_params\u001b[0;34m(self, iter_id)\u001b[0m\n\u001b[1;32m    105\u001b[0m             \u001b[0mdh\u001b[0m \u001b[0;34m=\u001b[0m \u001b[0mnp\u001b[0m\u001b[0;34m.\u001b[0m\u001b[0mconcatenate\u001b[0m\u001b[0;34m(\u001b[0m\u001b[0;34m[\u001b[0m\u001b[0mstate_part\u001b[0m\u001b[0;34m,\u001b[0m \u001b[0mlands_part\u001b[0m\u001b[0;34m]\u001b[0m\u001b[0;34m,\u001b[0m \u001b[0;36m1\u001b[0m\u001b[0;34m)\u001b[0m\u001b[0;34m\u001b[0m\u001b[0;34m\u001b[0m\u001b[0m\n\u001b[1;32m    106\u001b[0m \u001b[0;34m\u001b[0m\u001b[0m\n\u001b[0;32m--> 107\u001b[0;31m             \u001b[0mA\u001b[0m \u001b[0;34m+=\u001b[0m \u001b[0mphi_matrix\u001b[0m\u001b[0;34m.\u001b[0m\u001b[0mT\u001b[0m \u001b[0;34m@\u001b[0m \u001b[0mdh\u001b[0m\u001b[0;34m.\u001b[0m\u001b[0mT\u001b[0m \u001b[0;34m@\u001b[0m \u001b[0mself\u001b[0m\u001b[0;34m.\u001b[0m\u001b[0minv_measurement_covs\u001b[0m\u001b[0;34m[\u001b[0m\u001b[0mi\u001b[0m\u001b[0;34m]\u001b[0m \u001b[0;34m@\u001b[0m \u001b[0mdh\u001b[0m \u001b[0;34m@\u001b[0m \u001b[0mphi_matrix\u001b[0m\u001b[0;34m\u001b[0m\u001b[0;34m\u001b[0m\u001b[0m\n\u001b[0m\u001b[1;32m    108\u001b[0m             \u001b[0mg\u001b[0m \u001b[0;34m+=\u001b[0m \u001b[0mphi_matrix\u001b[0m\u001b[0;34m.\u001b[0m\u001b[0mT\u001b[0m \u001b[0;34m@\u001b[0m \u001b[0mdh\u001b[0m\u001b[0;34m.\u001b[0m\u001b[0mT\u001b[0m \u001b[0;34m@\u001b[0m \u001b[0mself\u001b[0m\u001b[0;34m.\u001b[0m\u001b[0minv_measurement_covs\u001b[0m\u001b[0;34m[\u001b[0m\u001b[0mi\u001b[0m\u001b[0;34m]\u001b[0m \u001b[0;34m@\u001b[0m \u001b[0;34m(\u001b[0m\u001b[0mobservation\u001b[0m \u001b[0;34m-\u001b[0m \u001b[0mh\u001b[0m\u001b[0;34m)\u001b[0m\u001b[0;34m\u001b[0m\u001b[0;34m\u001b[0m\u001b[0m\n\u001b[1;32m    109\u001b[0m \u001b[0;34m\u001b[0m\u001b[0m\n",
      "\u001b[0;31mKeyboardInterrupt\u001b[0m: "
     ]
    }
   ],
   "source": [
    "model.run_slam(1000)"
   ]
  },
  {
   "cell_type": "code",
   "execution_count": 41,
   "metadata": {},
   "outputs": [
    {
     "output_type": "execute_result",
     "data": {
      "text/plain": [
       "array([[100.,   0.,   0.],\n",
       "       [  0., 100.,   0.],\n",
       "       [  0.,   0.,   0.]])"
      ]
     },
     "metadata": {},
     "execution_count": 41
    }
   ],
   "source": [
    "odometry.Q"
   ]
  },
  {
   "cell_type": "code",
   "execution_count": 120,
   "metadata": {},
   "outputs": [],
   "source": [
    "from model import Model\n",
    "from observation import RangeModel, RangeBearingModel \n",
    "from data_utils import get_prediction\n",
    "\n",
    "state_dim = 3\n",
    "landmark_dim = 2\n",
    "obs_dim = 2\n",
    "\n",
    "sigma_l = 3.\n",
    "b_sigma = 0.1\n",
    "land_sigma = 1\n",
    "damppening_factor = 0.5\n",
    "\n",
    "sampler = lambda shape: multivariate_normal(mean=[0], cov=(1./sigma_l**2)*np.eye(1)).rvs(size=np.product(shape))\n",
    "\n",
    "n_features = 100\n",
    "assert n_features % 2 == 0\n",
    "rff = RFF(n_features=n_features // 2, w_sampler=sampler, dim=1)\n",
    "\n",
    "range_bearing_model = RangeBearingModel(range_noise_std=odometry.Q[0,0]**.5, bearing_noise_std=odometry.Q[1,1]**.5)\n",
    "\n",
    "def prior_mean(t, state_estimates):\n",
    "    i = odometry.times.index(t)\n",
    "    state = get_prediction(state_estimates[i], odometry.motions[i])\n",
    "    return state\n",
    "\n",
    "#initial_values = np.concatenate([np.zeros(n_features*3), landscape.landmarks.reshape(-1)])\n",
    "initial_values = np.zeros((n_features*state_dim)+len(landscape.landmarks)*landmark_dim)\n",
    "b_means = np.concatenate([np.zeros(n_features*state_dim), landscape.landmarks.reshape(-1)])\n",
    "\n",
    "observations = odometry.observations\n",
    "\n",
    "model = Model(rff=rff, \n",
    "              initial_values=initial_values,\n",
    "              initial_state=odometry.states[0],\n",
    "              times=odometry.times,\n",
    "              measurements=observations,\n",
    "              measurement_covs=[odometry.Q[:obs_dim, :obs_dim]] * N_pts,\n",
    "              motions=odometry.motions,\n",
    "              b_means=b_means,\n",
    "              b_covs=[b_sigma**2 * np.eye(n_features)] * state_dim,\n",
    "              land_means=landscape.landmarks,\n",
    "              land_cov=[land_sigma**2 * np.eye(landmark_dim)] * len(landscape.landmarks),\n",
    "              observation_model=range_bearing_model,\n",
    "              prior_mean=prior_mean,\n",
    "              dampening_factor=damppening_factor,\n",
    "            )"
   ]
  },
  {
   "cell_type": "code",
   "execution_count": 113,
   "metadata": {},
   "outputs": [
    {
     "output_type": "error",
     "ename": "ValueError",
     "evalue": "operands could not be broadcast together with shapes (340,) (380,) ",
     "traceback": [
      "\u001b[0;31m---------------------------------------------------------------------------\u001b[0m",
      "\u001b[0;31mValueError\u001b[0m                                Traceback (most recent call last)",
      "\u001b[0;32m<ipython-input-113-1ef4a76c5776>\u001b[0m in \u001b[0;36m<module>\u001b[0;34m\u001b[0m\n\u001b[0;32m----> 1\u001b[0;31m \u001b[0mmodel\u001b[0m\u001b[0;34m.\u001b[0m\u001b[0mrun_slam\u001b[0m\u001b[0;34m(\u001b[0m\u001b[0;36m1000\u001b[0m\u001b[0;34m)\u001b[0m\u001b[0;34m\u001b[0m\u001b[0;34m\u001b[0m\u001b[0m\n\u001b[0m",
      "\u001b[0;32m~/robotics_project/src/model.py\u001b[0m in \u001b[0;36mrun_slam\u001b[0;34m(self, n_iter)\u001b[0m\n\u001b[1;32m    134\u001b[0m         \u001b[0mn\u001b[0m \u001b[0;34m=\u001b[0m \u001b[0;36m0\u001b[0m\u001b[0;34m\u001b[0m\u001b[0;34m\u001b[0m\u001b[0m\n\u001b[1;32m    135\u001b[0m         \u001b[0;32mwhile\u001b[0m \u001b[0meps\u001b[0m \u001b[0;34m>\u001b[0m \u001b[0mself\u001b[0m\u001b[0;34m.\u001b[0m\u001b[0mtol\u001b[0m \u001b[0;32mand\u001b[0m \u001b[0mn\u001b[0m \u001b[0;34m<\u001b[0m \u001b[0mself\u001b[0m\u001b[0;34m.\u001b[0m\u001b[0mmax_n_iter\u001b[0m\u001b[0;34m:\u001b[0m\u001b[0;34m\u001b[0m\u001b[0;34m\u001b[0m\u001b[0m\n\u001b[0;32m--> 136\u001b[0;31m             \u001b[0meps\u001b[0m \u001b[0;34m=\u001b[0m \u001b[0mself\u001b[0m\u001b[0;34m.\u001b[0m\u001b[0miteration\u001b[0m\u001b[0;34m(\u001b[0m\u001b[0miter_id\u001b[0m\u001b[0;34m=\u001b[0m\u001b[0mn\u001b[0m\u001b[0;34m)\u001b[0m\u001b[0;34m\u001b[0m\u001b[0;34m\u001b[0m\u001b[0m\n\u001b[0m\u001b[1;32m    137\u001b[0m             \u001b[0;32mif\u001b[0m \u001b[0mself\u001b[0m\u001b[0;34m.\u001b[0m\u001b[0mverbose\u001b[0m \u001b[0;32mand\u001b[0m \u001b[0mn\u001b[0m \u001b[0;34m%\u001b[0m \u001b[0;36m10\u001b[0m \u001b[0;34m==\u001b[0m \u001b[0;36m0\u001b[0m\u001b[0;34m:\u001b[0m\u001b[0;34m\u001b[0m\u001b[0;34m\u001b[0m\u001b[0m\n\u001b[1;32m    138\u001b[0m                 \u001b[0mprint\u001b[0m\u001b[0;34m(\u001b[0m\u001b[0;34mf'Iter {n}. Norm of perturbation: {eps:.4f}'\u001b[0m\u001b[0;34m)\u001b[0m\u001b[0;34m\u001b[0m\u001b[0;34m\u001b[0m\u001b[0m\n",
      "\u001b[0;32m~/robotics_project/src/model.py\u001b[0m in \u001b[0;36miteration\u001b[0;34m(self, iter_id)\u001b[0m\n\u001b[1;32m    120\u001b[0m \u001b[0;34m\u001b[0m\u001b[0m\n\u001b[1;32m    121\u001b[0m     \u001b[0;32mdef\u001b[0m \u001b[0miteration\u001b[0m\u001b[0;34m(\u001b[0m\u001b[0mself\u001b[0m\u001b[0;34m,\u001b[0m \u001b[0miter_id\u001b[0m\u001b[0;34m=\u001b[0m\u001b[0;36m0\u001b[0m\u001b[0;34m)\u001b[0m\u001b[0;34m:\u001b[0m\u001b[0;34m\u001b[0m\u001b[0;34m\u001b[0m\u001b[0m\n\u001b[0;32m--> 122\u001b[0;31m         \u001b[0mA\u001b[0m\u001b[0;34m,\u001b[0m \u001b[0mg\u001b[0m \u001b[0;34m=\u001b[0m \u001b[0mself\u001b[0m\u001b[0;34m.\u001b[0m\u001b[0mupdate_params\u001b[0m\u001b[0;34m(\u001b[0m\u001b[0miter_id\u001b[0m\u001b[0;34m=\u001b[0m\u001b[0miter_id\u001b[0m\u001b[0;34m)\u001b[0m\u001b[0;34m\u001b[0m\u001b[0;34m\u001b[0m\u001b[0m\n\u001b[0m\u001b[1;32m    123\u001b[0m         \u001b[0mdb\u001b[0m \u001b[0;34m=\u001b[0m \u001b[0mself\u001b[0m\u001b[0;34m.\u001b[0m\u001b[0msolve\u001b[0m\u001b[0;34m(\u001b[0m\u001b[0mA\u001b[0m\u001b[0;34m,\u001b[0m \u001b[0mg\u001b[0m\u001b[0;34m)\u001b[0m\u001b[0;34m\u001b[0m\u001b[0;34m\u001b[0m\u001b[0m\n\u001b[1;32m    124\u001b[0m         \u001b[0mself\u001b[0m\u001b[0;34m.\u001b[0m\u001b[0mb\u001b[0m \u001b[0;34m+=\u001b[0m \u001b[0mdb\u001b[0m\u001b[0;34m\u001b[0m\u001b[0;34m\u001b[0m\u001b[0m\n",
      "\u001b[0;32m~/robotics_project/src/model.py\u001b[0m in \u001b[0;36mupdate_params\u001b[0;34m(self, iter_id)\u001b[0m\n\u001b[1;32m    109\u001b[0m \u001b[0;34m\u001b[0m\u001b[0m\n\u001b[1;32m    110\u001b[0m         \u001b[0mA\u001b[0m \u001b[0;34m+=\u001b[0m \u001b[0mself\u001b[0m\u001b[0;34m.\u001b[0m\u001b[0minv_P_matrix\u001b[0m\u001b[0;34m\u001b[0m\u001b[0;34m\u001b[0m\u001b[0m\n\u001b[0;32m--> 111\u001b[0;31m         \u001b[0mg\u001b[0m \u001b[0;34m-=\u001b[0m \u001b[0mself\u001b[0m\u001b[0;34m.\u001b[0m\u001b[0minv_P_matrix\u001b[0m \u001b[0;34m@\u001b[0m \u001b[0;34m(\u001b[0m\u001b[0mself\u001b[0m\u001b[0;34m.\u001b[0m\u001b[0mb\u001b[0m \u001b[0;34m-\u001b[0m \u001b[0mself\u001b[0m\u001b[0;34m.\u001b[0m\u001b[0mb_means\u001b[0m\u001b[0;34m)\u001b[0m\u001b[0;34m\u001b[0m\u001b[0;34m\u001b[0m\u001b[0m\n\u001b[0m\u001b[1;32m    112\u001b[0m \u001b[0;34m\u001b[0m\u001b[0m\n\u001b[1;32m    113\u001b[0m         \u001b[0;32mreturn\u001b[0m \u001b[0mA\u001b[0m\u001b[0;34m,\u001b[0m \u001b[0mg\u001b[0m\u001b[0;34m\u001b[0m\u001b[0;34m\u001b[0m\u001b[0m\n",
      "\u001b[0;31mValueError\u001b[0m: operands could not be broadcast together with shapes (340,) (380,) "
     ]
    }
   ],
   "source": [
    "model.run_slam(1000)"
   ]
  },
  {
   "cell_type": "code",
   "execution_count": 116,
   "metadata": {},
   "outputs": [
    {
     "output_type": "execute_result",
     "data": {
      "text/plain": [
       "array([[ 0.45754072, -0.86236584, -0.60242735],\n",
       "       [ 1.30037816, -1.53431109, -0.4125175 ],\n",
       "       [ 2.30359388, -2.00195916, -0.10660064],\n",
       "       [ 3.36936569, -2.08913509,  0.19854265],\n",
       "       [ 4.6167791 , -1.57773289,  0.74226838],\n",
       "       [ 5.27918495, -0.88226943,  1.10416442],\n",
       "       [ 5.57665508,  0.43958916,  2.19147794],\n",
       "       [ 5.11126241,  1.03712242,  2.98756585],\n",
       "       [ 4.43932719,  1.19108721, -2.94473483],\n",
       "       [ 3.45944573,  1.11039475, -2.42025498]])"
      ]
     },
     "metadata": {},
     "execution_count": 116
    }
   ],
   "source": [
    "np.array(odometry.states[1:11])#, np.array(odometry.states[:10])+np.array(odometry.motions[:10])"
   ]
  },
  {
   "cell_type": "code",
   "execution_count": 117,
   "metadata": {},
   "outputs": [
    {
     "output_type": "execute_result",
     "data": {
      "text/plain": [
       "[array([ 0.0979833 , -0.5829394 , -0.53261702]),\n",
       " array([4.62738612, 2.98864047, 1.1918622 ]),\n",
       " array([ 5.40237962, -0.05607128,  0.32882635]),\n",
       " array([6.79651614, 3.48742119, 1.44682868]),\n",
       " array([8.73976886, 0.88514913, 1.33499831]),\n",
       " array([ 4.83496351, 10.64129218, -2.13307332]),\n",
       " array([ 5.67133848,  6.29315727, -2.85227413]),\n",
       " array([ 8.37210903,  8.27876436, -2.85465057]),\n",
       " array([ 8.24501748,  4.3385691 , -2.78195278]),\n",
       " array([7.93863044, 4.24584967, 2.36659793])]"
      ]
     },
     "metadata": {},
     "execution_count": 117
    }
   ],
   "source": [
    "model.prior_means[:10]"
   ]
  },
  {
   "cell_type": "code",
   "execution_count": 118,
   "metadata": {},
   "outputs": [
    {
     "output_type": "execute_result",
     "data": {
      "text/plain": [
       "array([[ 0.21438218, -0.24853439, -1.54361922],\n",
       "       [ 4.46304883,  3.23996637,  0.18972414],\n",
       "       [ 5.81717374,  0.23512649, -0.6853891 ],\n",
       "       [ 6.65904798,  3.78527492,  0.44235698],\n",
       "       [ 8.22210621,  0.84908404,  0.34692831],\n",
       "       [ 3.78466766, 10.11970516,  3.13654085],\n",
       "       [ 6.73197529,  6.75845193,  2.45888611],\n",
       "       [ 7.85862398,  7.46895793,  2.42389756],\n",
       "       [ 8.06856861,  4.4538983 ,  2.49772329],\n",
       "       [ 7.21253729,  3.88291616,  1.37728348]])"
      ]
     },
     "metadata": {},
     "execution_count": 118
    }
   ],
   "source": [
    "model.states[:10]"
   ]
  },
  {
   "cell_type": "code",
   "execution_count": 119,
   "metadata": {},
   "outputs": [
    {
     "output_type": "execute_result",
     "data": {
      "text/plain": [
       "(array([[ -0.1116782 ,  -0.7960919 ],\n",
       "        [  0.84255559,  -4.14378204],\n",
       "        [ -4.84522515,  -1.34212288],\n",
       "        [  4.79390365,  -9.35933625],\n",
       "        [  1.57248232,   0.68966133],\n",
       "        [  8.20130568,  -1.96728116],\n",
       "        [  0.45223347,  -0.4491587 ],\n",
       "        [  3.07216207,   2.11872944],\n",
       "        [ -0.08264285,  -0.79376779],\n",
       "        [ -2.42760253,  -3.10474309],\n",
       "        [ -0.52061741,   3.50977226],\n",
       "        [  0.525183  ,   1.362077  ],\n",
       "        [  3.18443626,  -1.02382406],\n",
       "        [-10.78737502,   2.02046199],\n",
       "        [ -0.02017703,  -0.02017703],\n",
       "        [ -0.46504874,   2.2048509 ],\n",
       "        [  4.17324749,   2.22020934],\n",
       "        [  4.43830604,  -2.44675056],\n",
       "        [  0.25710607,   0.12335388],\n",
       "        [  5.72159677,  -4.43371488]]),\n",
       " array([[ 9.17347416e+00,  7.77815073e+00],\n",
       "        [-2.65473047e+00, -6.16108079e+00],\n",
       "        [ 9.65915461e+00, -4.19977169e+00],\n",
       "        [ 2.44586781e+00,  5.14103549e+00],\n",
       "        [-8.44733943e+00, -8.74959598e+00],\n",
       "        [ 2.87604592e+00,  4.71551031e+00],\n",
       "        [ 6.14838009e+00,  1.65439180e+00],\n",
       "        [-9.32862375e+00, -8.63666000e+00],\n",
       "        [ 4.86822827e-03, -2.41573018e+00],\n",
       "        [-4.73827726e+00,  9.64907670e+00],\n",
       "        [-1.02287209e+00,  7.20729995e-01],\n",
       "        [ 5.39576000e+00,  8.04023989e+00],\n",
       "        [ 6.76481436e+00,  8.86899307e+00],\n",
       "        [-9.61571830e+00,  9.56591008e+00],\n",
       "        [ 4.97900216e+00,  4.65848435e-01],\n",
       "        [-9.88366598e+00, -3.01454642e+00],\n",
       "        [ 1.48734744e+00, -1.59261470e+00],\n",
       "        [ 4.98985752e-01, -4.18417287e+00],\n",
       "        [-7.40692641e+00, -1.80190352e+00],\n",
       "        [ 8.87280581e+00, -7.24924067e+00]]))"
      ]
     },
     "metadata": {},
     "execution_count": 119
    }
   ],
   "source": [
    "model.b[300:].reshape(-1, 2), landscape.landmarks"
   ]
  },
  {
   "cell_type": "code",
   "execution_count": null,
   "metadata": {},
   "outputs": [],
   "source": []
  }
 ]
}