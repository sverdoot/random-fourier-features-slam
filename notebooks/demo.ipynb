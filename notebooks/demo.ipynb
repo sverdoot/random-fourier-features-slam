{
 "metadata": {
  "language_info": {
   "codemirror_mode": {
    "name": "ipython",
    "version": 3
   },
   "file_extension": ".py",
   "mimetype": "text/x-python",
   "name": "python",
   "nbconvert_exporter": "python",
   "pygments_lexer": "ipython3",
   "version": "3.8.5-final"
  },
  "orig_nbformat": 2,
  "kernelspec": {
   "name": "python3",
   "display_name": "Python 3",
   "language": "python"
  }
 },
 "nbformat": 4,
 "nbformat_minor": 2,
 "cells": [
  {
   "cell_type": "code",
   "execution_count": 3,
   "metadata": {},
   "outputs": [],
   "source": [
    "%load_ext autoreload\n",
    "%autoreload 2"
   ]
  },
  {
   "cell_type": "code",
   "execution_count": 4,
   "metadata": {},
   "outputs": [],
   "source": [
    "import numpy as np\n",
    "from matplotlib import pyplot as plt\n",
    "from scipy.stats import multivariate_normal\n",
    "\n",
    "import sys\n",
    "sys.path.append('../src')"
   ]
  },
  {
   "cell_type": "code",
   "execution_count": 5,
   "metadata": {},
   "outputs": [],
   "source": [
    "from random_features import RFF"
   ]
  },
  {
   "cell_type": "code",
   "execution_count": 6,
   "metadata": {},
   "outputs": [],
   "source": [
    "sampler = lambda shape: multivariate_normal(mean=[0]*3, cov=np.eye(3)).rvs(size=np.product(shape))"
   ]
  },
  {
   "cell_type": "code",
   "execution_count": 7,
   "metadata": {},
   "outputs": [],
   "source": [
    "n_features = 20\n",
    "assert n_features % 2 == 0\n",
    "rff = RFF(n_features=n_features // 2, w_sampler=sampler, dim=3)"
   ]
  },
  {
   "cell_type": "code",
   "execution_count": 8,
   "metadata": {},
   "outputs": [],
   "source": [
    "pts = np.arange(0, 1, 0.1).reshape(-1, 1).repeat(3, axis=1)"
   ]
  },
  {
   "cell_type": "code",
   "execution_count": 9,
   "metadata": {},
   "outputs": [],
   "source": [
    "features = rff.get_random_features(pts)"
   ]
  },
  {
   "cell_type": "code",
   "execution_count": 10,
   "metadata": {},
   "outputs": [],
   "source": [
    "assert features.shape == (len(pts), n_features)"
   ]
  },
  {
   "source": [
    "# Main Part"
   ],
   "cell_type": "markdown",
   "metadata": {}
  },
  {
   "cell_type": "code",
   "execution_count": 11,
   "metadata": {},
   "outputs": [],
   "source": [
    "from data_utils import Landscape"
   ]
  },
  {
   "cell_type": "code",
   "execution_count": 12,
   "metadata": {},
   "outputs": [],
   "source": [
    "landscape = Landscape(num_landmarks=20)\n",
    "landscape.initialize()"
   ]
  },
  {
   "cell_type": "code",
   "execution_count": 13,
   "metadata": {},
   "outputs": [
    {
     "output_type": "execute_result",
     "data": {
      "text/plain": [
       "<matplotlib.collections.PathCollection at 0x7fc2adabe7f0>"
      ]
     },
     "metadata": {},
     "execution_count": 13
    },
    {
     "output_type": "display_data",
     "data": {
      "text/plain": "<Figure size 432x288 with 1 Axes>",
      "image/svg+xml": "<?xml version=\"1.0\" encoding=\"utf-8\" standalone=\"no\"?>\n<!DOCTYPE svg PUBLIC \"-//W3C//DTD SVG 1.1//EN\"\n  \"http://www.w3.org/Graphics/SVG/1.1/DTD/svg11.dtd\">\n<!-- Created with matplotlib (https://matplotlib.org/) -->\n<svg height=\"248.518125pt\" version=\"1.1\" viewBox=\"0 0 386.845312 248.518125\" width=\"386.845312pt\" xmlns=\"http://www.w3.org/2000/svg\" xmlns:xlink=\"http://www.w3.org/1999/xlink\">\n <metadata>\n  <rdf:RDF xmlns:cc=\"http://creativecommons.org/ns#\" xmlns:dc=\"http://purl.org/dc/elements/1.1/\" xmlns:rdf=\"http://www.w3.org/1999/02/22-rdf-syntax-ns#\">\n   <cc:Work>\n    <dc:type rdf:resource=\"http://purl.org/dc/dcmitype/StillImage\"/>\n    <dc:date>2021-03-24T22:51:04.223829</dc:date>\n    <dc:format>image/svg+xml</dc:format>\n    <dc:creator>\n     <cc:Agent>\n      <dc:title>Matplotlib v3.3.2, https://matplotlib.org/</dc:title>\n     </cc:Agent>\n    </dc:creator>\n   </cc:Work>\n  </rdf:RDF>\n </metadata>\n <defs>\n  <style type=\"text/css\">*{stroke-linecap:butt;stroke-linejoin:round;}</style>\n </defs>\n <g id=\"figure_1\">\n  <g id=\"patch_1\">\n   <path d=\"M 0 248.518125 \nL 386.845312 248.518125 \nL 386.845312 0 \nL 0 0 \nz\n\" style=\"fill:none;\"/>\n  </g>\n  <g id=\"axes_1\">\n   <g id=\"patch_2\">\n    <path d=\"M 44.845313 224.64 \nL 379.645313 224.64 \nL 379.645313 7.2 \nL 44.845313 7.2 \nz\n\" style=\"fill:#ffffff;\"/>\n   </g>\n   <g id=\"PathCollection_1\">\n    <defs>\n     <path d=\"M 0 6.123724 \nC 1.624031 6.123724 3.181764 5.47849 4.330127 4.330127 \nC 5.47849 3.181764 6.123724 1.624031 6.123724 0 \nC 6.123724 -1.624031 5.47849 -3.181764 4.330127 -4.330127 \nC 3.181764 -5.47849 1.624031 -6.123724 0 -6.123724 \nC -1.624031 -6.123724 -3.181764 -5.47849 -4.330127 -4.330127 \nC -5.47849 -3.181764 -6.123724 -1.624031 -6.123724 0 \nC -6.123724 1.624031 -5.47849 3.181764 -4.330127 4.330127 \nC -3.181764 5.47849 -1.624031 6.123724 0 6.123724 \nz\n\" id=\"m478085d3fd\" style=\"stroke:#1f77b4;stroke-opacity:0.8;\"/>\n    </defs>\n    <g clip-path=\"url(#pd6568bc12e)\">\n     <use style=\"fill:#1f77b4;fill-opacity:0.8;stroke:#1f77b4;stroke-opacity:0.8;\" x=\"205.482418\" xlink:href=\"#m478085d3fd\" y=\"213.695104\"/>\n     <use style=\"fill:#1f77b4;fill-opacity:0.8;stroke:#1f77b4;stroke-opacity:0.8;\" x=\"60.063494\" xlink:href=\"#m478085d3fd\" y=\"48.435784\"/>\n     <use style=\"fill:#1f77b4;fill-opacity:0.8;stroke:#1f77b4;stroke-opacity:0.8;\" x=\"294.205606\" xlink:href=\"#m478085d3fd\" y=\"20.88967\"/>\n     <use style=\"fill:#1f77b4;fill-opacity:0.8;stroke:#1f77b4;stroke-opacity:0.8;\" x=\"294.373351\" xlink:href=\"#m478085d3fd\" y=\"170.309481\"/>\n     <use style=\"fill:#1f77b4;fill-opacity:0.8;stroke:#1f77b4;stroke-opacity:0.8;\" x=\"357.41849\" xlink:href=\"#m478085d3fd\" y=\"212.189454\"/>\n     <use style=\"fill:#1f77b4;fill-opacity:0.8;stroke:#1f77b4;stroke-opacity:0.8;\" x=\"195.575185\" xlink:href=\"#m478085d3fd\" y=\"187.792147\"/>\n     <use style=\"fill:#1f77b4;fill-opacity:0.8;stroke:#1f77b4;stroke-opacity:0.8;\" x=\"189.432853\" xlink:href=\"#m478085d3fd\" y=\"129.113859\"/>\n     <use style=\"fill:#1f77b4;fill-opacity:0.8;stroke:#1f77b4;stroke-opacity:0.8;\" x=\"328.455772\" xlink:href=\"#m478085d3fd\" y=\"211.35926\"/>\n     <use style=\"fill:#1f77b4;fill-opacity:0.8;stroke:#1f77b4;stroke-opacity:0.8;\" x=\"364.427131\" xlink:href=\"#m478085d3fd\" y=\"168.71578\"/>\n     <use style=\"fill:#1f77b4;fill-opacity:0.8;stroke:#1f77b4;stroke-opacity:0.8;\" x=\"327.242845\" xlink:href=\"#m478085d3fd\" y=\"99.172919\"/>\n     <use style=\"fill:#1f77b4;fill-opacity:0.8;stroke:#1f77b4;stroke-opacity:0.8;\" x=\"286.337996\" xlink:href=\"#m478085d3fd\" y=\"50.557923\"/>\n     <use style=\"fill:#1f77b4;fill-opacity:0.8;stroke:#1f77b4;stroke-opacity:0.8;\" x=\"278.097205\" xlink:href=\"#m478085d3fd\" y=\"179.87779\"/>\n     <use style=\"fill:#1f77b4;fill-opacity:0.8;stroke:#1f77b4;stroke-opacity:0.8;\" x=\"180.497989\" xlink:href=\"#m478085d3fd\" y=\"160.400328\"/>\n     <use style=\"fill:#1f77b4;fill-opacity:0.8;stroke:#1f77b4;stroke-opacity:0.8;\" x=\"241.448229\" xlink:href=\"#m478085d3fd\" y=\"22.7495\"/>\n     <use style=\"fill:#1f77b4;fill-opacity:0.8;stroke:#1f77b4;stroke-opacity:0.8;\" x=\"352.12644\" xlink:href=\"#m478085d3fd\" y=\"214.756364\"/>\n     <use style=\"fill:#1f77b4;fill-opacity:0.8;stroke:#1f77b4;stroke-opacity:0.8;\" x=\"257.144345\" xlink:href=\"#m478085d3fd\" y=\"203.288661\"/>\n     <use style=\"fill:#1f77b4;fill-opacity:0.8;stroke:#1f77b4;stroke-opacity:0.8;\" x=\"67.755739\" xlink:href=\"#m478085d3fd\" y=\"204.363948\"/>\n     <use style=\"fill:#1f77b4;fill-opacity:0.8;stroke:#1f77b4;stroke-opacity:0.8;\" x=\"213.683696\" xlink:href=\"#m478085d3fd\" y=\"214.632863\"/>\n     <use style=\"fill:#1f77b4;fill-opacity:0.8;stroke:#1f77b4;stroke-opacity:0.8;\" x=\"300.847203\" xlink:href=\"#m478085d3fd\" y=\"17.083636\"/>\n     <use style=\"fill:#1f77b4;fill-opacity:0.8;stroke:#1f77b4;stroke-opacity:0.8;\" x=\"251.60352\" xlink:href=\"#m478085d3fd\" y=\"118.710516\"/>\n    </g>\n   </g>\n   <g id=\"matplotlib.axis_1\">\n    <g id=\"xtick_1\">\n     <g id=\"line2d_1\">\n      <defs>\n       <path d=\"M 0 0 \nL 0 3.5 \n\" id=\"m4de69aaef2\" style=\"stroke:#000000;stroke-width:0.8;\"/>\n      </defs>\n      <g>\n       <use style=\"stroke:#000000;stroke-width:0.8;\" x=\"45.993587\" xlink:href=\"#m4de69aaef2\" y=\"224.64\"/>\n      </g>\n     </g>\n     <g id=\"text_1\">\n      <!-- −10.0 -->\n      <g transform=\"translate(30.670931 239.238437)scale(0.1 -0.1)\">\n       <defs>\n        <path d=\"M 10.59375 35.5 \nL 73.1875 35.5 \nL 73.1875 27.203125 \nL 10.59375 27.203125 \nz\n\" id=\"DejaVuSans-8722\"/>\n        <path d=\"M 12.40625 8.296875 \nL 28.515625 8.296875 \nL 28.515625 63.921875 \nL 10.984375 60.40625 \nL 10.984375 69.390625 \nL 28.421875 72.90625 \nL 38.28125 72.90625 \nL 38.28125 8.296875 \nL 54.390625 8.296875 \nL 54.390625 0 \nL 12.40625 0 \nz\n\" id=\"DejaVuSans-49\"/>\n        <path d=\"M 31.78125 66.40625 \nQ 24.171875 66.40625 20.328125 58.90625 \nQ 16.5 51.421875 16.5 36.375 \nQ 16.5 21.390625 20.328125 13.890625 \nQ 24.171875 6.390625 31.78125 6.390625 \nQ 39.453125 6.390625 43.28125 13.890625 \nQ 47.125 21.390625 47.125 36.375 \nQ 47.125 51.421875 43.28125 58.90625 \nQ 39.453125 66.40625 31.78125 66.40625 \nz\nM 31.78125 74.21875 \nQ 44.046875 74.21875 50.515625 64.515625 \nQ 56.984375 54.828125 56.984375 36.375 \nQ 56.984375 17.96875 50.515625 8.265625 \nQ 44.046875 -1.421875 31.78125 -1.421875 \nQ 19.53125 -1.421875 13.0625 8.265625 \nQ 6.59375 17.96875 6.59375 36.375 \nQ 6.59375 54.828125 13.0625 64.515625 \nQ 19.53125 74.21875 31.78125 74.21875 \nz\n\" id=\"DejaVuSans-48\"/>\n        <path d=\"M 10.6875 12.40625 \nL 21 12.40625 \nL 21 0 \nL 10.6875 0 \nz\n\" id=\"DejaVuSans-46\"/>\n       </defs>\n       <use xlink:href=\"#DejaVuSans-8722\"/>\n       <use x=\"83.789062\" xlink:href=\"#DejaVuSans-49\"/>\n       <use x=\"147.412109\" xlink:href=\"#DejaVuSans-48\"/>\n       <use x=\"211.035156\" xlink:href=\"#DejaVuSans-46\"/>\n       <use x=\"242.822266\" xlink:href=\"#DejaVuSans-48\"/>\n      </g>\n     </g>\n    </g>\n    <g id=\"xtick_2\">\n     <g id=\"line2d_2\">\n      <g>\n       <use style=\"stroke:#000000;stroke-width:0.8;\" x=\"92.17336\" xlink:href=\"#m4de69aaef2\" y=\"224.64\"/>\n      </g>\n     </g>\n     <g id=\"text_2\">\n      <!-- −7.5 -->\n      <g transform=\"translate(80.031954 239.238437)scale(0.1 -0.1)\">\n       <defs>\n        <path d=\"M 8.203125 72.90625 \nL 55.078125 72.90625 \nL 55.078125 68.703125 \nL 28.609375 0 \nL 18.3125 0 \nL 43.21875 64.59375 \nL 8.203125 64.59375 \nz\n\" id=\"DejaVuSans-55\"/>\n        <path d=\"M 10.796875 72.90625 \nL 49.515625 72.90625 \nL 49.515625 64.59375 \nL 19.828125 64.59375 \nL 19.828125 46.734375 \nQ 21.96875 47.46875 24.109375 47.828125 \nQ 26.265625 48.1875 28.421875 48.1875 \nQ 40.625 48.1875 47.75 41.5 \nQ 54.890625 34.8125 54.890625 23.390625 \nQ 54.890625 11.625 47.5625 5.09375 \nQ 40.234375 -1.421875 26.90625 -1.421875 \nQ 22.3125 -1.421875 17.546875 -0.640625 \nQ 12.796875 0.140625 7.71875 1.703125 \nL 7.71875 11.625 \nQ 12.109375 9.234375 16.796875 8.0625 \nQ 21.484375 6.890625 26.703125 6.890625 \nQ 35.15625 6.890625 40.078125 11.328125 \nQ 45.015625 15.765625 45.015625 23.390625 \nQ 45.015625 31 40.078125 35.4375 \nQ 35.15625 39.890625 26.703125 39.890625 \nQ 22.75 39.890625 18.8125 39.015625 \nQ 14.890625 38.140625 10.796875 36.28125 \nz\n\" id=\"DejaVuSans-53\"/>\n       </defs>\n       <use xlink:href=\"#DejaVuSans-8722\"/>\n       <use x=\"83.789062\" xlink:href=\"#DejaVuSans-55\"/>\n       <use x=\"147.412109\" xlink:href=\"#DejaVuSans-46\"/>\n       <use x=\"179.199219\" xlink:href=\"#DejaVuSans-53\"/>\n      </g>\n     </g>\n    </g>\n    <g id=\"xtick_3\">\n     <g id=\"line2d_3\">\n      <g>\n       <use style=\"stroke:#000000;stroke-width:0.8;\" x=\"138.353133\" xlink:href=\"#m4de69aaef2\" y=\"224.64\"/>\n      </g>\n     </g>\n     <g id=\"text_3\">\n      <!-- −5.0 -->\n      <g transform=\"translate(126.211726 239.238437)scale(0.1 -0.1)\">\n       <use xlink:href=\"#DejaVuSans-8722\"/>\n       <use x=\"83.789062\" xlink:href=\"#DejaVuSans-53\"/>\n       <use x=\"147.412109\" xlink:href=\"#DejaVuSans-46\"/>\n       <use x=\"179.199219\" xlink:href=\"#DejaVuSans-48\"/>\n      </g>\n     </g>\n    </g>\n    <g id=\"xtick_4\">\n     <g id=\"line2d_4\">\n      <g>\n       <use style=\"stroke:#000000;stroke-width:0.8;\" x=\"184.532905\" xlink:href=\"#m4de69aaef2\" y=\"224.64\"/>\n      </g>\n     </g>\n     <g id=\"text_4\">\n      <!-- −2.5 -->\n      <g transform=\"translate(172.391499 239.238437)scale(0.1 -0.1)\">\n       <defs>\n        <path d=\"M 19.1875 8.296875 \nL 53.609375 8.296875 \nL 53.609375 0 \nL 7.328125 0 \nL 7.328125 8.296875 \nQ 12.9375 14.109375 22.625 23.890625 \nQ 32.328125 33.6875 34.8125 36.53125 \nQ 39.546875 41.84375 41.421875 45.53125 \nQ 43.3125 49.21875 43.3125 52.78125 \nQ 43.3125 58.59375 39.234375 62.25 \nQ 35.15625 65.921875 28.609375 65.921875 \nQ 23.96875 65.921875 18.8125 64.3125 \nQ 13.671875 62.703125 7.8125 59.421875 \nL 7.8125 69.390625 \nQ 13.765625 71.78125 18.9375 73 \nQ 24.125 74.21875 28.421875 74.21875 \nQ 39.75 74.21875 46.484375 68.546875 \nQ 53.21875 62.890625 53.21875 53.421875 \nQ 53.21875 48.921875 51.53125 44.890625 \nQ 49.859375 40.875 45.40625 35.40625 \nQ 44.1875 33.984375 37.640625 27.21875 \nQ 31.109375 20.453125 19.1875 8.296875 \nz\n\" id=\"DejaVuSans-50\"/>\n       </defs>\n       <use xlink:href=\"#DejaVuSans-8722\"/>\n       <use x=\"83.789062\" xlink:href=\"#DejaVuSans-50\"/>\n       <use x=\"147.412109\" xlink:href=\"#DejaVuSans-46\"/>\n       <use x=\"179.199219\" xlink:href=\"#DejaVuSans-53\"/>\n      </g>\n     </g>\n    </g>\n    <g id=\"xtick_5\">\n     <g id=\"line2d_5\">\n      <g>\n       <use style=\"stroke:#000000;stroke-width:0.8;\" x=\"230.712678\" xlink:href=\"#m4de69aaef2\" y=\"224.64\"/>\n      </g>\n     </g>\n     <g id=\"text_5\">\n      <!-- 0.0 -->\n      <g transform=\"translate(222.761116 239.238437)scale(0.1 -0.1)\">\n       <use xlink:href=\"#DejaVuSans-48\"/>\n       <use x=\"63.623047\" xlink:href=\"#DejaVuSans-46\"/>\n       <use x=\"95.410156\" xlink:href=\"#DejaVuSans-48\"/>\n      </g>\n     </g>\n    </g>\n    <g id=\"xtick_6\">\n     <g id=\"line2d_6\">\n      <g>\n       <use style=\"stroke:#000000;stroke-width:0.8;\" x=\"276.892451\" xlink:href=\"#m4de69aaef2\" y=\"224.64\"/>\n      </g>\n     </g>\n     <g id=\"text_6\">\n      <!-- 2.5 -->\n      <g transform=\"translate(268.940888 239.238437)scale(0.1 -0.1)\">\n       <use xlink:href=\"#DejaVuSans-50\"/>\n       <use x=\"63.623047\" xlink:href=\"#DejaVuSans-46\"/>\n       <use x=\"95.410156\" xlink:href=\"#DejaVuSans-53\"/>\n      </g>\n     </g>\n    </g>\n    <g id=\"xtick_7\">\n     <g id=\"line2d_7\">\n      <g>\n       <use style=\"stroke:#000000;stroke-width:0.8;\" x=\"323.072224\" xlink:href=\"#m4de69aaef2\" y=\"224.64\"/>\n      </g>\n     </g>\n     <g id=\"text_7\">\n      <!-- 5.0 -->\n      <g transform=\"translate(315.120661 239.238437)scale(0.1 -0.1)\">\n       <use xlink:href=\"#DejaVuSans-53\"/>\n       <use x=\"63.623047\" xlink:href=\"#DejaVuSans-46\"/>\n       <use x=\"95.410156\" xlink:href=\"#DejaVuSans-48\"/>\n      </g>\n     </g>\n    </g>\n    <g id=\"xtick_8\">\n     <g id=\"line2d_8\">\n      <g>\n       <use style=\"stroke:#000000;stroke-width:0.8;\" x=\"369.251996\" xlink:href=\"#m4de69aaef2\" y=\"224.64\"/>\n      </g>\n     </g>\n     <g id=\"text_8\">\n      <!-- 7.5 -->\n      <g transform=\"translate(361.300434 239.238437)scale(0.1 -0.1)\">\n       <use xlink:href=\"#DejaVuSans-55\"/>\n       <use x=\"63.623047\" xlink:href=\"#DejaVuSans-46\"/>\n       <use x=\"95.410156\" xlink:href=\"#DejaVuSans-53\"/>\n      </g>\n     </g>\n    </g>\n   </g>\n   <g id=\"matplotlib.axis_2\">\n    <g id=\"ytick_1\">\n     <g id=\"line2d_9\">\n      <defs>\n       <path d=\"M 0 0 \nL -3.5 0 \n\" id=\"mcbd41da64b\" style=\"stroke:#000000;stroke-width:0.8;\"/>\n      </defs>\n      <g>\n       <use style=\"stroke:#000000;stroke-width:0.8;\" x=\"44.845313\" xlink:href=\"#mcbd41da64b\" y=\"216.029475\"/>\n      </g>\n     </g>\n     <g id=\"text_9\">\n      <!-- −10.0 -->\n      <g transform=\"translate(7.2 219.828694)scale(0.1 -0.1)\">\n       <use xlink:href=\"#DejaVuSans-8722\"/>\n       <use x=\"83.789062\" xlink:href=\"#DejaVuSans-49\"/>\n       <use x=\"147.412109\" xlink:href=\"#DejaVuSans-48\"/>\n       <use x=\"211.035156\" xlink:href=\"#DejaVuSans-46\"/>\n       <use x=\"242.822266\" xlink:href=\"#DejaVuSans-48\"/>\n      </g>\n     </g>\n    </g>\n    <g id=\"ytick_2\">\n     <g id=\"line2d_10\">\n      <g>\n       <use style=\"stroke:#000000;stroke-width:0.8;\" x=\"44.845313\" xlink:href=\"#mcbd41da64b\" y=\"189.814163\"/>\n      </g>\n     </g>\n     <g id=\"text_10\">\n      <!-- −7.5 -->\n      <g transform=\"translate(13.5625 193.613382)scale(0.1 -0.1)\">\n       <use xlink:href=\"#DejaVuSans-8722\"/>\n       <use x=\"83.789062\" xlink:href=\"#DejaVuSans-55\"/>\n       <use x=\"147.412109\" xlink:href=\"#DejaVuSans-46\"/>\n       <use x=\"179.199219\" xlink:href=\"#DejaVuSans-53\"/>\n      </g>\n     </g>\n    </g>\n    <g id=\"ytick_3\">\n     <g id=\"line2d_11\">\n      <g>\n       <use style=\"stroke:#000000;stroke-width:0.8;\" x=\"44.845313\" xlink:href=\"#mcbd41da64b\" y=\"163.598851\"/>\n      </g>\n     </g>\n     <g id=\"text_11\">\n      <!-- −5.0 -->\n      <g transform=\"translate(13.5625 167.39807)scale(0.1 -0.1)\">\n       <use xlink:href=\"#DejaVuSans-8722\"/>\n       <use x=\"83.789062\" xlink:href=\"#DejaVuSans-53\"/>\n       <use x=\"147.412109\" xlink:href=\"#DejaVuSans-46\"/>\n       <use x=\"179.199219\" xlink:href=\"#DejaVuSans-48\"/>\n      </g>\n     </g>\n    </g>\n    <g id=\"ytick_4\">\n     <g id=\"line2d_12\">\n      <g>\n       <use style=\"stroke:#000000;stroke-width:0.8;\" x=\"44.845313\" xlink:href=\"#mcbd41da64b\" y=\"137.383539\"/>\n      </g>\n     </g>\n     <g id=\"text_12\">\n      <!-- −2.5 -->\n      <g transform=\"translate(13.5625 141.182757)scale(0.1 -0.1)\">\n       <use xlink:href=\"#DejaVuSans-8722\"/>\n       <use x=\"83.789062\" xlink:href=\"#DejaVuSans-50\"/>\n       <use x=\"147.412109\" xlink:href=\"#DejaVuSans-46\"/>\n       <use x=\"179.199219\" xlink:href=\"#DejaVuSans-53\"/>\n      </g>\n     </g>\n    </g>\n    <g id=\"ytick_5\">\n     <g id=\"line2d_13\">\n      <g>\n       <use style=\"stroke:#000000;stroke-width:0.8;\" x=\"44.845313\" xlink:href=\"#mcbd41da64b\" y=\"111.168227\"/>\n      </g>\n     </g>\n     <g id=\"text_13\">\n      <!-- 0.0 -->\n      <g transform=\"translate(21.942188 114.967445)scale(0.1 -0.1)\">\n       <use xlink:href=\"#DejaVuSans-48\"/>\n       <use x=\"63.623047\" xlink:href=\"#DejaVuSans-46\"/>\n       <use x=\"95.410156\" xlink:href=\"#DejaVuSans-48\"/>\n      </g>\n     </g>\n    </g>\n    <g id=\"ytick_6\">\n     <g id=\"line2d_14\">\n      <g>\n       <use style=\"stroke:#000000;stroke-width:0.8;\" x=\"44.845313\" xlink:href=\"#mcbd41da64b\" y=\"84.952914\"/>\n      </g>\n     </g>\n     <g id=\"text_14\">\n      <!-- 2.5 -->\n      <g transform=\"translate(21.942188 88.752133)scale(0.1 -0.1)\">\n       <use xlink:href=\"#DejaVuSans-50\"/>\n       <use x=\"63.623047\" xlink:href=\"#DejaVuSans-46\"/>\n       <use x=\"95.410156\" xlink:href=\"#DejaVuSans-53\"/>\n      </g>\n     </g>\n    </g>\n    <g id=\"ytick_7\">\n     <g id=\"line2d_15\">\n      <g>\n       <use style=\"stroke:#000000;stroke-width:0.8;\" x=\"44.845313\" xlink:href=\"#mcbd41da64b\" y=\"58.737602\"/>\n      </g>\n     </g>\n     <g id=\"text_15\">\n      <!-- 5.0 -->\n      <g transform=\"translate(21.942188 62.536821)scale(0.1 -0.1)\">\n       <use xlink:href=\"#DejaVuSans-53\"/>\n       <use x=\"63.623047\" xlink:href=\"#DejaVuSans-46\"/>\n       <use x=\"95.410156\" xlink:href=\"#DejaVuSans-48\"/>\n      </g>\n     </g>\n    </g>\n    <g id=\"ytick_8\">\n     <g id=\"line2d_16\">\n      <g>\n       <use style=\"stroke:#000000;stroke-width:0.8;\" x=\"44.845313\" xlink:href=\"#mcbd41da64b\" y=\"32.52229\"/>\n      </g>\n     </g>\n     <g id=\"text_16\">\n      <!-- 7.5 -->\n      <g transform=\"translate(21.942188 36.321509)scale(0.1 -0.1)\">\n       <use xlink:href=\"#DejaVuSans-55\"/>\n       <use x=\"63.623047\" xlink:href=\"#DejaVuSans-46\"/>\n       <use x=\"95.410156\" xlink:href=\"#DejaVuSans-53\"/>\n      </g>\n     </g>\n    </g>\n   </g>\n   <g id=\"patch_3\">\n    <path d=\"M 44.845313 224.64 \nL 44.845313 7.2 \n\" style=\"fill:none;stroke:#000000;stroke-linecap:square;stroke-linejoin:miter;stroke-width:0.8;\"/>\n   </g>\n   <g id=\"patch_4\">\n    <path d=\"M 379.645313 224.64 \nL 379.645313 7.2 \n\" style=\"fill:none;stroke:#000000;stroke-linecap:square;stroke-linejoin:miter;stroke-width:0.8;\"/>\n   </g>\n   <g id=\"patch_5\">\n    <path d=\"M 44.845313 224.64 \nL 379.645313 224.64 \n\" style=\"fill:none;stroke:#000000;stroke-linecap:square;stroke-linejoin:miter;stroke-width:0.8;\"/>\n   </g>\n   <g id=\"patch_6\">\n    <path d=\"M 44.845313 7.2 \nL 379.645313 7.2 \n\" style=\"fill:none;stroke:#000000;stroke-linecap:square;stroke-linejoin:miter;stroke-width:0.8;\"/>\n   </g>\n  </g>\n </g>\n <defs>\n  <clipPath id=\"pd6568bc12e\">\n   <rect height=\"217.44\" width=\"334.8\" x=\"44.845313\" y=\"7.2\"/>\n  </clipPath>\n </defs>\n</svg>\n",
      "image/png": "[encoded data removed]"
     },
     "metadata": {
      "needs_background": "light"
     }
    }
   ],
   "source": [
    "plt.scatter(landscape.landmarks[:, 0], landscape.landmarks[:, 1], s=150, alpha=0.8)"
   ]
  },
  {
   "cell_type": "code",
   "execution_count": 14,
   "metadata": {},
   "outputs": [],
   "source": [
    "from data_utils import Odometry\n",
    "\n",
    "N_pts = 100\n",
    "\n",
    "odometry = Odometry(landscape, \n",
    "                    observation_dim=3, \n",
    "                    max_time=10, \n",
    "                    max_landmarks_per_step=1)\n",
    "odometry.generate(N_pts)"
   ]
  },
  {
   "cell_type": "code",
   "execution_count": 15,
   "metadata": {},
   "outputs": [
    {
     "output_type": "execute_result",
     "data": {
      "text/plain": [
       "<matplotlib.collections.PathCollection at 0x7fc2ad97e190>"
      ]
     },
     "metadata": {},
     "execution_count": 15
    },
    {
     "output_type": "display_data",
     "data": {
      "text/plain": "<Figure size 432x288 with 1 Axes>",
      "image/svg+xml": "<?xml version=\"1.0\" encoding=\"utf-8\" standalone=\"no\"?>\n<!DOCTYPE svg PUBLIC \"-//W3C//DTD SVG 1.1//EN\"\n  \"http://www.w3.org/Graphics/SVG/1.1/DTD/svg11.dtd\">\n<!-- Created with matplotlib (https://matplotlib.org/) -->\n<svg height=\"249.297211pt\" version=\"1.1\" viewBox=\"0 0 377.304687 249.297211\" width=\"377.304687pt\" xmlns=\"http://www.w3.org/2000/svg\" xmlns:xlink=\"http://www.w3.org/1999/xlink\">\n <metadata>\n  <rdf:RDF xmlns:cc=\"http://creativecommons.org/ns#\" xmlns:dc=\"http://purl.org/dc/elements/1.1/\" xmlns:rdf=\"http://www.w3.org/1999/02/22-rdf-syntax-ns#\">\n   <cc:Work>\n    <dc:type rdf:resource=\"http://purl.org/dc/dcmitype/StillImage\"/>\n    <dc:date>2021-03-24T22:51:10.753856</dc:date>\n    <dc:format>image/svg+xml</dc:format>\n    <dc:creator>\n     <cc:Agent>\n      <dc:title>Matplotlib v3.3.2, https://matplotlib.org/</dc:title>\n     </cc:Agent>\n    </dc:creator>\n   </cc:Work>\n  </rdf:RDF>\n </metadata>\n <defs>\n  <style type=\"text/css\">*{stroke-linecap:butt;stroke-linejoin:round;}</style>\n </defs>\n <g id=\"figure_1\">\n  <g id=\"patch_1\">\n   <path d=\"M 0 249.297211 \nL 377.304687 249.297211 \nL 377.304687 0 \nL 0 0 \nz\n\" style=\"fill:none;\"/>\n  </g>\n  <g id=\"axes_1\">\n   <g id=\"patch_2\">\n    <path d=\"M 35.304688 225.419086 \nL 370.104688 225.419086 \nL 370.104688 7.979086 \nL 35.304688 7.979086 \nz\n\" style=\"fill:#ffffff;\"/>\n   </g>\n   <g id=\"PathCollection_1\">\n    <defs>\n     <path d=\"M 0 3 \nC 0.795609 3 1.55874 2.683901 2.12132 2.12132 \nC 2.683901 1.55874 3 0.795609 3 0 \nC 3 -0.795609 2.683901 -1.55874 2.12132 -2.12132 \nC 1.55874 -2.683901 0.795609 -3 0 -3 \nC -0.795609 -3 -1.55874 -2.683901 -2.12132 -2.12132 \nC -2.683901 -1.55874 -3 -0.795609 -3 0 \nC -3 0.795609 -2.683901 1.55874 -2.12132 2.12132 \nC -1.55874 2.683901 -0.795609 3 0 3 \nz\n\" id=\"md2ba316f47\" style=\"stroke:#1f77b4;\"/>\n    </defs>\n    <g clip-path=\"url(#pa54b94f281)\">\n     <use style=\"fill:#1f77b4;stroke:#1f77b4;\" x=\"267.918242\" xlink:href=\"#md2ba316f47\" y=\"18.732377\"/>\n     <use style=\"fill:#1f77b4;stroke:#1f77b4;\" x=\"274.84634\" xlink:href=\"#md2ba316f47\" y=\"19.240602\"/>\n     <use style=\"fill:#1f77b4;stroke:#1f77b4;\" x=\"280.457727\" xlink:href=\"#md2ba316f47\" y=\"19.786068\"/>\n     <use style=\"fill:#1f77b4;stroke:#1f77b4;\" x=\"283.337273\" xlink:href=\"#md2ba316f47\" y=\"20.256654\"/>\n     <use style=\"fill:#1f77b4;stroke:#1f77b4;\" x=\"288.235941\" xlink:href=\"#md2ba316f47\" y=\"21.284345\"/>\n     <use style=\"fill:#1f77b4;stroke:#1f77b4;\" x=\"294.18875\" xlink:href=\"#md2ba316f47\" y=\"22.577799\"/>\n     <use style=\"fill:#1f77b4;stroke:#1f77b4;\" x=\"299.133877\" xlink:href=\"#md2ba316f47\" y=\"23.555952\"/>\n     <use style=\"fill:#1f77b4;stroke:#1f77b4;\" x=\"303.293671\" xlink:href=\"#md2ba316f47\" y=\"24.385713\"/>\n     <use style=\"fill:#1f77b4;stroke:#1f77b4;\" x=\"310.523411\" xlink:href=\"#md2ba316f47\" y=\"25.879376\"/>\n     <use style=\"fill:#1f77b4;stroke:#1f77b4;\" x=\"318.539432\" xlink:href=\"#md2ba316f47\" y=\"27.520246\"/>\n     <use style=\"fill:#1f77b4;stroke:#1f77b4;\" x=\"322.608656\" xlink:href=\"#md2ba316f47\" y=\"28.95432\"/>\n     <use style=\"fill:#1f77b4;stroke:#1f77b4;\" x=\"327.187352\" xlink:href=\"#md2ba316f47\" y=\"31.123464\"/>\n     <use style=\"fill:#1f77b4;stroke:#1f77b4;\" x=\"331.751132\" xlink:href=\"#md2ba316f47\" y=\"33.488924\"/>\n     <use style=\"fill:#1f77b4;stroke:#1f77b4;\" x=\"334.845239\" xlink:href=\"#md2ba316f47\" y=\"35.565581\"/>\n     <use style=\"fill:#1f77b4;stroke:#1f77b4;\" x=\"337.679589\" xlink:href=\"#md2ba316f47\" y=\"37.851111\"/>\n     <use style=\"fill:#1f77b4;stroke:#1f77b4;\" x=\"339.203748\" xlink:href=\"#md2ba316f47\" y=\"39.13514\"/>\n     <use style=\"fill:#1f77b4;stroke:#1f77b4;\" x=\"341.753333\" xlink:href=\"#md2ba316f47\" y=\"41.869901\"/>\n     <use style=\"fill:#1f77b4;stroke:#1f77b4;\" x=\"344.267106\" xlink:href=\"#md2ba316f47\" y=\"45.03217\"/>\n     <use style=\"fill:#1f77b4;stroke:#1f77b4;\" x=\"347.160475\" xlink:href=\"#md2ba316f47\" y=\"49.340821\"/>\n     <use style=\"fill:#1f77b4;stroke:#1f77b4;\" x=\"349.286406\" xlink:href=\"#md2ba316f47\" y=\"52.852519\"/>\n     <use style=\"fill:#1f77b4;stroke:#1f77b4;\" x=\"351.165813\" xlink:href=\"#md2ba316f47\" y=\"56.323155\"/>\n     <use style=\"fill:#1f77b4;stroke:#1f77b4;\" x=\"352.770699\" xlink:href=\"#md2ba316f47\" y=\"60.503091\"/>\n     <use style=\"fill:#1f77b4;stroke:#1f77b4;\" x=\"353.876767\" xlink:href=\"#md2ba316f47\" y=\"64.419656\"/>\n     <use style=\"fill:#1f77b4;stroke:#1f77b4;\" x=\"354.461608\" xlink:href=\"#md2ba316f47\" y=\"69.157009\"/>\n     <use style=\"fill:#1f77b4;stroke:#1f77b4;\" x=\"354.886506\" xlink:href=\"#md2ba316f47\" y=\"75.714344\"/>\n     <use style=\"fill:#1f77b4;stroke:#1f77b4;\" x=\"354.740459\" xlink:href=\"#md2ba316f47\" y=\"81.329443\"/>\n     <use style=\"fill:#1f77b4;stroke:#1f77b4;\" x=\"354.220799\" xlink:href=\"#md2ba316f47\" y=\"88.107708\"/>\n     <use style=\"fill:#1f77b4;stroke:#1f77b4;\" x=\"352.861485\" xlink:href=\"#md2ba316f47\" y=\"95.528247\"/>\n     <use style=\"fill:#1f77b4;stroke:#1f77b4;\" x=\"350.961884\" xlink:href=\"#md2ba316f47\" y=\"102.441632\"/>\n     <use style=\"fill:#1f77b4;stroke:#1f77b4;\" x=\"347.532445\" xlink:href=\"#md2ba316f47\" y=\"111.787379\"/>\n     <use style=\"fill:#1f77b4;stroke:#1f77b4;\" x=\"345.447518\" xlink:href=\"#md2ba316f47\" y=\"116.747788\"/>\n     <use style=\"fill:#1f77b4;stroke:#1f77b4;\" x=\"342.834411\" xlink:href=\"#md2ba316f47\" y=\"120.987214\"/>\n     <use style=\"fill:#1f77b4;stroke:#1f77b4;\" x=\"339.20259\" xlink:href=\"#md2ba316f47\" y=\"127.030232\"/>\n     <use style=\"fill:#1f77b4;stroke:#1f77b4;\" x=\"337.418421\" xlink:href=\"#md2ba316f47\" y=\"129.948942\"/>\n     <use style=\"fill:#1f77b4;stroke:#1f77b4;\" x=\"334.770723\" xlink:href=\"#md2ba316f47\" y=\"134.82205\"/>\n     <use style=\"fill:#1f77b4;stroke:#1f77b4;\" x=\"332.996584\" xlink:href=\"#md2ba316f47\" y=\"138.618634\"/>\n     <use style=\"fill:#1f77b4;stroke:#1f77b4;\" x=\"330.963227\" xlink:href=\"#md2ba316f47\" y=\"143.051755\"/>\n     <use style=\"fill:#1f77b4;stroke:#1f77b4;\" x=\"327.158949\" xlink:href=\"#md2ba316f47\" y=\"150.081813\"/>\n     <use style=\"fill:#1f77b4;stroke:#1f77b4;\" x=\"324.761467\" xlink:href=\"#md2ba316f47\" y=\"154.333203\"/>\n     <use style=\"fill:#1f77b4;stroke:#1f77b4;\" x=\"321.302399\" xlink:href=\"#md2ba316f47\" y=\"160.36349\"/>\n     <use style=\"fill:#1f77b4;stroke:#1f77b4;\" x=\"317.635683\" xlink:href=\"#md2ba316f47\" y=\"166.497286\"/>\n     <use style=\"fill:#1f77b4;stroke:#1f77b4;\" x=\"315.600036\" xlink:href=\"#md2ba316f47\" y=\"169.413584\"/>\n     <use style=\"fill:#1f77b4;stroke:#1f77b4;\" x=\"310.612033\" xlink:href=\"#md2ba316f47\" y=\"176.2857\"/>\n     <use style=\"fill:#1f77b4;stroke:#1f77b4;\" x=\"304.47071\" xlink:href=\"#md2ba316f47\" y=\"183.387428\"/>\n     <use style=\"fill:#1f77b4;stroke:#1f77b4;\" x=\"299.030471\" xlink:href=\"#md2ba316f47\" y=\"189.278101\"/>\n     <use style=\"fill:#1f77b4;stroke:#1f77b4;\" x=\"295.591593\" xlink:href=\"#md2ba316f47\" y=\"192.507367\"/>\n     <use style=\"fill:#1f77b4;stroke:#1f77b4;\" x=\"290.617312\" xlink:href=\"#md2ba316f47\" y=\"196.602159\"/>\n     <use style=\"fill:#1f77b4;stroke:#1f77b4;\" x=\"285.794037\" xlink:href=\"#md2ba316f47\" y=\"200.184407\"/>\n     <use style=\"fill:#1f77b4;stroke:#1f77b4;\" x=\"280.676793\" xlink:href=\"#md2ba316f47\" y=\"203.654593\"/>\n     <use style=\"fill:#1f77b4;stroke:#1f77b4;\" x=\"274.568647\" xlink:href=\"#md2ba316f47\" y=\"207.352183\"/>\n     <use style=\"fill:#1f77b4;stroke:#1f77b4;\" x=\"266.897664\" xlink:href=\"#md2ba316f47\" y=\"211.361436\"/>\n     <use style=\"fill:#1f77b4;stroke:#1f77b4;\" x=\"260.864497\" xlink:href=\"#md2ba316f47\" y=\"213.289287\"/>\n     <use style=\"fill:#1f77b4;stroke:#1f77b4;\" x=\"252.695233\" xlink:href=\"#md2ba316f47\" y=\"214.974925\"/>\n     <use style=\"fill:#1f77b4;stroke:#1f77b4;\" x=\"247.29057\" xlink:href=\"#md2ba316f47\" y=\"215.535449\"/>\n     <use style=\"fill:#1f77b4;stroke:#1f77b4;\" x=\"241.165529\" xlink:href=\"#md2ba316f47\" y=\"215.170499\"/>\n     <use style=\"fill:#1f77b4;stroke:#1f77b4;\" x=\"236.623725\" xlink:href=\"#md2ba316f47\" y=\"214.268115\"/>\n     <use style=\"fill:#1f77b4;stroke:#1f77b4;\" x=\"231.417254\" xlink:href=\"#md2ba316f47\" y=\"212.530167\"/>\n     <use style=\"fill:#1f77b4;stroke:#1f77b4;\" x=\"225.585304\" xlink:href=\"#md2ba316f47\" y=\"210.594464\"/>\n     <use style=\"fill:#1f77b4;stroke:#1f77b4;\" x=\"220.04208\" xlink:href=\"#md2ba316f47\" y=\"207.895386\"/>\n     <use style=\"fill:#1f77b4;stroke:#1f77b4;\" x=\"211.761973\" xlink:href=\"#md2ba316f47\" y=\"202.958647\"/>\n     <use style=\"fill:#1f77b4;stroke:#1f77b4;\" x=\"203.904769\" xlink:href=\"#md2ba316f47\" y=\"197.450203\"/>\n     <use style=\"fill:#1f77b4;stroke:#1f77b4;\" x=\"196.838527\" xlink:href=\"#md2ba316f47\" y=\"191.943752\"/>\n     <use style=\"fill:#1f77b4;stroke:#1f77b4;\" x=\"190.276956\" xlink:href=\"#md2ba316f47\" y=\"187.768466\"/>\n     <use style=\"fill:#1f77b4;stroke:#1f77b4;\" x=\"185.225659\" xlink:href=\"#md2ba316f47\" y=\"184.118663\"/>\n     <use style=\"fill:#1f77b4;stroke:#1f77b4;\" x=\"180.127224\" xlink:href=\"#md2ba316f47\" y=\"181.32916\"/>\n     <use style=\"fill:#1f77b4;stroke:#1f77b4;\" x=\"178.655663\" xlink:href=\"#md2ba316f47\" y=\"180.674037\"/>\n     <use style=\"fill:#1f77b4;stroke:#1f77b4;\" x=\"170.828603\" xlink:href=\"#md2ba316f47\" y=\"178.10524\"/>\n     <use style=\"fill:#1f77b4;stroke:#1f77b4;\" x=\"164.670435\" xlink:href=\"#md2ba316f47\" y=\"176.181813\"/>\n     <use style=\"fill:#1f77b4;stroke:#1f77b4;\" x=\"159.252507\" xlink:href=\"#md2ba316f47\" y=\"174.239485\"/>\n     <use style=\"fill:#1f77b4;stroke:#1f77b4;\" x=\"155.114497\" xlink:href=\"#md2ba316f47\" y=\"172.619659\"/>\n     <use style=\"fill:#1f77b4;stroke:#1f77b4;\" x=\"148.36217\" xlink:href=\"#md2ba316f47\" y=\"169.33408\"/>\n     <use style=\"fill:#1f77b4;stroke:#1f77b4;\" x=\"142.939003\" xlink:href=\"#md2ba316f47\" y=\"166.162105\"/>\n     <use style=\"fill:#1f77b4;stroke:#1f77b4;\" x=\"137.944714\" xlink:href=\"#md2ba316f47\" y=\"162.120837\"/>\n     <use style=\"fill:#1f77b4;stroke:#1f77b4;\" x=\"132.833123\" xlink:href=\"#md2ba316f47\" y=\"157.673248\"/>\n     <use style=\"fill:#1f77b4;stroke:#1f77b4;\" x=\"127.296505\" xlink:href=\"#md2ba316f47\" y=\"151.610214\"/>\n     <use style=\"fill:#1f77b4;stroke:#1f77b4;\" x=\"122.806558\" xlink:href=\"#md2ba316f47\" y=\"146.670693\"/>\n     <use style=\"fill:#1f77b4;stroke:#1f77b4;\" x=\"117.703575\" xlink:href=\"#md2ba316f47\" y=\"141.696871\"/>\n     <use style=\"fill:#1f77b4;stroke:#1f77b4;\" x=\"113.708375\" xlink:href=\"#md2ba316f47\" y=\"138.071413\"/>\n     <use style=\"fill:#1f77b4;stroke:#1f77b4;\" x=\"108.222726\" xlink:href=\"#md2ba316f47\" y=\"132.937249\"/>\n     <use style=\"fill:#1f77b4;stroke:#1f77b4;\" x=\"104.762008\" xlink:href=\"#md2ba316f47\" y=\"129.201072\"/>\n     <use style=\"fill:#1f77b4;stroke:#1f77b4;\" x=\"101.874065\" xlink:href=\"#md2ba316f47\" y=\"126.434326\"/>\n     <use style=\"fill:#1f77b4;stroke:#1f77b4;\" x=\"96.70148\" xlink:href=\"#md2ba316f47\" y=\"121.230016\"/>\n     <use style=\"fill:#1f77b4;stroke:#1f77b4;\" x=\"93.199582\" xlink:href=\"#md2ba316f47\" y=\"117.324542\"/>\n     <use style=\"fill:#1f77b4;stroke:#1f77b4;\" x=\"89.839523\" xlink:href=\"#md2ba316f47\" y=\"113.385259\"/>\n     <use style=\"fill:#1f77b4;stroke:#1f77b4;\" x=\"87.590442\" xlink:href=\"#md2ba316f47\" y=\"110.673439\"/>\n     <use style=\"fill:#1f77b4;stroke:#1f77b4;\" x=\"83.305924\" xlink:href=\"#md2ba316f47\" y=\"105.363938\"/>\n     <use style=\"fill:#1f77b4;stroke:#1f77b4;\" x=\"79.716364\" xlink:href=\"#md2ba316f47\" y=\"100.035465\"/>\n     <use style=\"fill:#1f77b4;stroke:#1f77b4;\" x=\"76.759351\" xlink:href=\"#md2ba316f47\" y=\"95.770153\"/>\n     <use style=\"fill:#1f77b4;stroke:#1f77b4;\" x=\"74.17291\" xlink:href=\"#md2ba316f47\" y=\"91.925366\"/>\n     <use style=\"fill:#1f77b4;stroke:#1f77b4;\" x=\"70.383111\" xlink:href=\"#md2ba316f47\" y=\"85.580851\"/>\n     <use style=\"fill:#1f77b4;stroke:#1f77b4;\" x=\"67.332624\" xlink:href=\"#md2ba316f47\" y=\"79.878685\"/>\n     <use style=\"fill:#1f77b4;stroke:#1f77b4;\" x=\"64.27621\" xlink:href=\"#md2ba316f47\" y=\"72.367346\"/>\n     <use style=\"fill:#1f77b4;stroke:#1f77b4;\" x=\"62.14736\" xlink:href=\"#md2ba316f47\" y=\"66.080782\"/>\n     <use style=\"fill:#1f77b4;stroke:#1f77b4;\" x=\"60.458839\" xlink:href=\"#md2ba316f47\" y=\"60.653789\"/>\n     <use style=\"fill:#1f77b4;stroke:#1f77b4;\" x=\"58.430935\" xlink:href=\"#md2ba316f47\" y=\"53.89862\"/>\n     <use style=\"fill:#1f77b4;stroke:#1f77b4;\" x=\"56.931595\" xlink:href=\"#md2ba316f47\" y=\"49.435351\"/>\n     <use style=\"fill:#1f77b4;stroke:#1f77b4;\" x=\"54.894342\" xlink:href=\"#md2ba316f47\" y=\"43.883698\"/>\n     <use style=\"fill:#1f77b4;stroke:#1f77b4;\" x=\"53.872855\" xlink:href=\"#md2ba316f47\" y=\"39.094385\"/>\n     <use style=\"fill:#1f77b4;stroke:#1f77b4;\" x=\"52.974771\" xlink:href=\"#md2ba316f47\" y=\"33.77037\"/>\n     <use style=\"fill:#1f77b4;stroke:#1f77b4;\" x=\"51.77972\" xlink:href=\"#md2ba316f47\" y=\"25.187994\"/>\n     <use style=\"fill:#1f77b4;stroke:#1f77b4;\" x=\"50.522869\" xlink:href=\"#md2ba316f47\" y=\"17.862722\"/>\n    </g>\n   </g>\n   <g id=\"matplotlib.axis_1\">\n    <g id=\"xtick_1\">\n     <g id=\"line2d_1\">\n      <defs>\n       <path d=\"M 0 0 \nL 0 3.5 \n\" id=\"m5dfd0ee795\" style=\"stroke:#000000;stroke-width:0.8;\"/>\n      </defs>\n      <g>\n       <use style=\"stroke:#000000;stroke-width:0.8;\" x=\"91.656331\" xlink:href=\"#m5dfd0ee795\" y=\"225.419086\"/>\n      </g>\n     </g>\n     <g id=\"text_1\">\n      <!-- −30 -->\n      <g transform=\"translate(81.103987 240.017523)scale(0.1 -0.1)\">\n       <defs>\n        <path d=\"M 10.59375 35.5 \nL 73.1875 35.5 \nL 73.1875 27.203125 \nL 10.59375 27.203125 \nz\n\" id=\"DejaVuSans-8722\"/>\n        <path d=\"M 40.578125 39.3125 \nQ 47.65625 37.796875 51.625 33 \nQ 55.609375 28.21875 55.609375 21.1875 \nQ 55.609375 10.40625 48.1875 4.484375 \nQ 40.765625 -1.421875 27.09375 -1.421875 \nQ 22.515625 -1.421875 17.65625 -0.515625 \nQ 12.796875 0.390625 7.625 2.203125 \nL 7.625 11.71875 \nQ 11.71875 9.328125 16.59375 8.109375 \nQ 21.484375 6.890625 26.8125 6.890625 \nQ 36.078125 6.890625 40.9375 10.546875 \nQ 45.796875 14.203125 45.796875 21.1875 \nQ 45.796875 27.640625 41.28125 31.265625 \nQ 36.765625 34.90625 28.71875 34.90625 \nL 20.21875 34.90625 \nL 20.21875 43.015625 \nL 29.109375 43.015625 \nQ 36.375 43.015625 40.234375 45.921875 \nQ 44.09375 48.828125 44.09375 54.296875 \nQ 44.09375 59.90625 40.109375 62.90625 \nQ 36.140625 65.921875 28.71875 65.921875 \nQ 24.65625 65.921875 20.015625 65.03125 \nQ 15.375 64.15625 9.8125 62.3125 \nL 9.8125 71.09375 \nQ 15.4375 72.65625 20.34375 73.4375 \nQ 25.25 74.21875 29.59375 74.21875 \nQ 40.828125 74.21875 47.359375 69.109375 \nQ 53.90625 64.015625 53.90625 55.328125 \nQ 53.90625 49.265625 50.4375 45.09375 \nQ 46.96875 40.921875 40.578125 39.3125 \nz\n\" id=\"DejaVuSans-51\"/>\n        <path d=\"M 31.78125 66.40625 \nQ 24.171875 66.40625 20.328125 58.90625 \nQ 16.5 51.421875 16.5 36.375 \nQ 16.5 21.390625 20.328125 13.890625 \nQ 24.171875 6.390625 31.78125 6.390625 \nQ 39.453125 6.390625 43.28125 13.890625 \nQ 47.125 21.390625 47.125 36.375 \nQ 47.125 51.421875 43.28125 58.90625 \nQ 39.453125 66.40625 31.78125 66.40625 \nz\nM 31.78125 74.21875 \nQ 44.046875 74.21875 50.515625 64.515625 \nQ 56.984375 54.828125 56.984375 36.375 \nQ 56.984375 17.96875 50.515625 8.265625 \nQ 44.046875 -1.421875 31.78125 -1.421875 \nQ 19.53125 -1.421875 13.0625 8.265625 \nQ 6.59375 17.96875 6.59375 36.375 \nQ 6.59375 54.828125 13.0625 64.515625 \nQ 19.53125 74.21875 31.78125 74.21875 \nz\n\" id=\"DejaVuSans-48\"/>\n       </defs>\n       <use xlink:href=\"#DejaVuSans-8722\"/>\n       <use x=\"83.789062\" xlink:href=\"#DejaVuSans-51\"/>\n       <use x=\"147.412109\" xlink:href=\"#DejaVuSans-48\"/>\n      </g>\n     </g>\n    </g>\n    <g id=\"xtick_2\">\n     <g id=\"line2d_2\">\n      <g>\n       <use style=\"stroke:#000000;stroke-width:0.8;\" x=\"151.918283\" xlink:href=\"#m5dfd0ee795\" y=\"225.419086\"/>\n      </g>\n     </g>\n     <g id=\"text_2\">\n      <!-- −20 -->\n      <g transform=\"translate(141.365939 240.017523)scale(0.1 -0.1)\">\n       <defs>\n        <path d=\"M 19.1875 8.296875 \nL 53.609375 8.296875 \nL 53.609375 0 \nL 7.328125 0 \nL 7.328125 8.296875 \nQ 12.9375 14.109375 22.625 23.890625 \nQ 32.328125 33.6875 34.8125 36.53125 \nQ 39.546875 41.84375 41.421875 45.53125 \nQ 43.3125 49.21875 43.3125 52.78125 \nQ 43.3125 58.59375 39.234375 62.25 \nQ 35.15625 65.921875 28.609375 65.921875 \nQ 23.96875 65.921875 18.8125 64.3125 \nQ 13.671875 62.703125 7.8125 59.421875 \nL 7.8125 69.390625 \nQ 13.765625 71.78125 18.9375 73 \nQ 24.125 74.21875 28.421875 74.21875 \nQ 39.75 74.21875 46.484375 68.546875 \nQ 53.21875 62.890625 53.21875 53.421875 \nQ 53.21875 48.921875 51.53125 44.890625 \nQ 49.859375 40.875 45.40625 35.40625 \nQ 44.1875 33.984375 37.640625 27.21875 \nQ 31.109375 20.453125 19.1875 8.296875 \nz\n\" id=\"DejaVuSans-50\"/>\n       </defs>\n       <use xlink:href=\"#DejaVuSans-8722\"/>\n       <use x=\"83.789062\" xlink:href=\"#DejaVuSans-50\"/>\n       <use x=\"147.412109\" xlink:href=\"#DejaVuSans-48\"/>\n      </g>\n     </g>\n    </g>\n    <g id=\"xtick_3\">\n     <g id=\"line2d_3\">\n      <g>\n       <use style=\"stroke:#000000;stroke-width:0.8;\" x=\"212.180235\" xlink:href=\"#m5dfd0ee795\" y=\"225.419086\"/>\n      </g>\n     </g>\n     <g id=\"text_3\">\n      <!-- −10 -->\n      <g transform=\"translate(201.627891 240.017523)scale(0.1 -0.1)\">\n       <defs>\n        <path d=\"M 12.40625 8.296875 \nL 28.515625 8.296875 \nL 28.515625 63.921875 \nL 10.984375 60.40625 \nL 10.984375 69.390625 \nL 28.421875 72.90625 \nL 38.28125 72.90625 \nL 38.28125 8.296875 \nL 54.390625 8.296875 \nL 54.390625 0 \nL 12.40625 0 \nz\n\" id=\"DejaVuSans-49\"/>\n       </defs>\n       <use xlink:href=\"#DejaVuSans-8722\"/>\n       <use x=\"83.789062\" xlink:href=\"#DejaVuSans-49\"/>\n       <use x=\"147.412109\" xlink:href=\"#DejaVuSans-48\"/>\n      </g>\n     </g>\n    </g>\n    <g id=\"xtick_4\">\n     <g id=\"line2d_4\">\n      <g>\n       <use style=\"stroke:#000000;stroke-width:0.8;\" x=\"272.442187\" xlink:href=\"#m5dfd0ee795\" y=\"225.419086\"/>\n      </g>\n     </g>\n     <g id=\"text_4\">\n      <!-- 0 -->\n      <g transform=\"translate(269.260937 240.017523)scale(0.1 -0.1)\">\n       <use xlink:href=\"#DejaVuSans-48\"/>\n      </g>\n     </g>\n    </g>\n    <g id=\"xtick_5\">\n     <g id=\"line2d_5\">\n      <g>\n       <use style=\"stroke:#000000;stroke-width:0.8;\" x=\"332.704139\" xlink:href=\"#m5dfd0ee795\" y=\"225.419086\"/>\n      </g>\n     </g>\n     <g id=\"text_5\">\n      <!-- 10 -->\n      <g transform=\"translate(326.341639 240.017523)scale(0.1 -0.1)\">\n       <use xlink:href=\"#DejaVuSans-49\"/>\n       <use x=\"63.623047\" xlink:href=\"#DejaVuSans-48\"/>\n      </g>\n     </g>\n    </g>\n   </g>\n   <g id=\"matplotlib.axis_2\">\n    <g id=\"ytick_1\">\n     <g id=\"line2d_6\">\n      <defs>\n       <path d=\"M 0 0 \nL -3.5 0 \n\" id=\"m7e837dab16\" style=\"stroke:#000000;stroke-width:0.8;\"/>\n      </defs>\n      <g>\n       <use style=\"stroke:#000000;stroke-width:0.8;\" x=\"35.304688\" xlink:href=\"#m7e837dab16\" y=\"190.461436\"/>\n      </g>\n     </g>\n     <g id=\"text_6\">\n      <!-- −25 -->\n      <g transform=\"translate(7.2 194.260655)scale(0.1 -0.1)\">\n       <defs>\n        <path d=\"M 10.796875 72.90625 \nL 49.515625 72.90625 \nL 49.515625 64.59375 \nL 19.828125 64.59375 \nL 19.828125 46.734375 \nQ 21.96875 47.46875 24.109375 47.828125 \nQ 26.265625 48.1875 28.421875 48.1875 \nQ 40.625 48.1875 47.75 41.5 \nQ 54.890625 34.8125 54.890625 23.390625 \nQ 54.890625 11.625 47.5625 5.09375 \nQ 40.234375 -1.421875 26.90625 -1.421875 \nQ 22.3125 -1.421875 17.546875 -0.640625 \nQ 12.796875 0.140625 7.71875 1.703125 \nL 7.71875 11.625 \nQ 12.109375 9.234375 16.796875 8.0625 \nQ 21.484375 6.890625 26.703125 6.890625 \nQ 35.15625 6.890625 40.078125 11.328125 \nQ 45.015625 15.765625 45.015625 23.390625 \nQ 45.015625 31 40.078125 35.4375 \nQ 35.15625 39.890625 26.703125 39.890625 \nQ 22.75 39.890625 18.8125 39.015625 \nQ 14.890625 38.140625 10.796875 36.28125 \nz\n\" id=\"DejaVuSans-53\"/>\n       </defs>\n       <use xlink:href=\"#DejaVuSans-8722\"/>\n       <use x=\"83.789062\" xlink:href=\"#DejaVuSans-50\"/>\n       <use x=\"147.412109\" xlink:href=\"#DejaVuSans-53\"/>\n      </g>\n     </g>\n    </g>\n    <g id=\"ytick_2\">\n     <g id=\"line2d_7\">\n      <g>\n       <use style=\"stroke:#000000;stroke-width:0.8;\" x=\"35.304688\" xlink:href=\"#m7e837dab16\" y=\"154.568993\"/>\n      </g>\n     </g>\n     <g id=\"text_7\">\n      <!-- −20 -->\n      <g transform=\"translate(7.2 158.368211)scale(0.1 -0.1)\">\n       <use xlink:href=\"#DejaVuSans-8722\"/>\n       <use x=\"83.789062\" xlink:href=\"#DejaVuSans-50\"/>\n       <use x=\"147.412109\" xlink:href=\"#DejaVuSans-48\"/>\n      </g>\n     </g>\n    </g>\n    <g id=\"ytick_3\">\n     <g id=\"line2d_8\">\n      <g>\n       <use style=\"stroke:#000000;stroke-width:0.8;\" x=\"35.304688\" xlink:href=\"#m7e837dab16\" y=\"118.676549\"/>\n      </g>\n     </g>\n     <g id=\"text_8\">\n      <!-- −15 -->\n      <g transform=\"translate(7.2 122.475768)scale(0.1 -0.1)\">\n       <use xlink:href=\"#DejaVuSans-8722\"/>\n       <use x=\"83.789062\" xlink:href=\"#DejaVuSans-49\"/>\n       <use x=\"147.412109\" xlink:href=\"#DejaVuSans-53\"/>\n      </g>\n     </g>\n    </g>\n    <g id=\"ytick_4\">\n     <g id=\"line2d_9\">\n      <g>\n       <use style=\"stroke:#000000;stroke-width:0.8;\" x=\"35.304688\" xlink:href=\"#m7e837dab16\" y=\"82.784106\"/>\n      </g>\n     </g>\n     <g id=\"text_9\">\n      <!-- −10 -->\n      <g transform=\"translate(7.2 86.583324)scale(0.1 -0.1)\">\n       <use xlink:href=\"#DejaVuSans-8722\"/>\n       <use x=\"83.789062\" xlink:href=\"#DejaVuSans-49\"/>\n       <use x=\"147.412109\" xlink:href=\"#DejaVuSans-48\"/>\n      </g>\n     </g>\n    </g>\n    <g id=\"ytick_5\">\n     <g id=\"line2d_10\">\n      <g>\n       <use style=\"stroke:#000000;stroke-width:0.8;\" x=\"35.304688\" xlink:href=\"#m7e837dab16\" y=\"46.891662\"/>\n      </g>\n     </g>\n     <g id=\"text_10\">\n      <!-- −5 -->\n      <g transform=\"translate(13.5625 50.690881)scale(0.1 -0.1)\">\n       <use xlink:href=\"#DejaVuSans-8722\"/>\n       <use x=\"83.789062\" xlink:href=\"#DejaVuSans-53\"/>\n      </g>\n     </g>\n    </g>\n    <g id=\"ytick_6\">\n     <g id=\"line2d_11\">\n      <g>\n       <use style=\"stroke:#000000;stroke-width:0.8;\" x=\"35.304688\" xlink:href=\"#m7e837dab16\" y=\"10.999219\"/>\n      </g>\n     </g>\n     <g id=\"text_11\">\n      <!-- 0 -->\n      <g transform=\"translate(21.942188 14.798437)scale(0.1 -0.1)\">\n       <use xlink:href=\"#DejaVuSans-48\"/>\n      </g>\n     </g>\n    </g>\n   </g>\n   <g id=\"patch_3\">\n    <path d=\"M 35.304688 225.419086 \nL 35.304688 7.979086 \n\" style=\"fill:none;stroke:#000000;stroke-linecap:square;stroke-linejoin:miter;stroke-width:0.8;\"/>\n   </g>\n   <g id=\"patch_4\">\n    <path d=\"M 370.104688 225.419086 \nL 370.104688 7.979086 \n\" style=\"fill:none;stroke:#000000;stroke-linecap:square;stroke-linejoin:miter;stroke-width:0.8;\"/>\n   </g>\n   <g id=\"patch_5\">\n    <path d=\"M 35.304688 225.419086 \nL 370.104687 225.419086 \n\" style=\"fill:none;stroke:#000000;stroke-linecap:square;stroke-linejoin:miter;stroke-width:0.8;\"/>\n   </g>\n   <g id=\"patch_6\">\n    <path d=\"M 35.304688 7.979086 \nL 370.104687 7.979086 \n\" style=\"fill:none;stroke:#000000;stroke-linecap:square;stroke-linejoin:miter;stroke-width:0.8;\"/>\n   </g>\n  </g>\n </g>\n <defs>\n  <clipPath id=\"pa54b94f281\">\n   <rect height=\"217.44\" width=\"334.8\" x=\"35.304688\" y=\"7.979086\"/>\n  </clipPath>\n </defs>\n</svg>\n",
      "image/png": "[encoded data removed]"
     },
     "metadata": {
      "needs_background": "light"
     }
    }
   ],
   "source": [
    "plt.scatter(np.array(odometry.states)[:, 0], np.array(odometry.states)[:, 1])"
   ]
  },
  {
   "cell_type": "code",
   "execution_count": 16,
   "metadata": {},
   "outputs": [
    {
     "output_type": "execute_result",
     "data": {
      "text/plain": [
       "array([[ 9.07719041, -0.49099535,  8.        ]])"
      ]
     },
     "metadata": {},
     "execution_count": 16
    }
   ],
   "source": [
    "odometry.observations[0]"
   ]
  },
  {
   "cell_type": "code",
   "execution_count": 121,
   "metadata": {},
   "outputs": [],
   "source": [
    "from model import Model\n",
    "from observation import RangeModel, RangeBearingModel \n",
    "from data_utils import get_prediction\n",
    "\n",
    "state_dim = 3\n",
    "landmark_dim = 2\n",
    "obs_dim = 1\n",
    "\n",
    "sigma_l = 3.\n",
    "b_sigma = 1\n",
    "land_sigma = 10\n",
    "damppening_factor = 0.5\n",
    "\n",
    "sampler = lambda shape: multivariate_normal(mean=[0], cov=(1./sigma_l**2)*np.eye(1)).rvs(size=np.product(shape))\n",
    "\n",
    "n_features = 100\n",
    "assert n_features % 2 == 0\n",
    "rff = RFF(n_features=n_features // 2, w_sampler=sampler, dim=1)\n",
    "\n",
    "range_model = RangeModel(range_noise_std=odometry.Q[0,0]**.5)\n",
    "\n",
    "def prior_mean(t, state_estimates):\n",
    "    i = odometry.times.index(t)\n",
    "    state = get_prediction(state_estimates[i], odometry.motions[i])\n",
    "    return state\n",
    "\n",
    "#initial_values = np.concatenate([np.zeros(n_features*3), landscape.landmarks.reshape(-1)])\n",
    "initial_values = np.zeros((n_features*state_dim)+len(landscape.landmarks)*landmark_dim)\n",
    "b_means = np.zeros(n_features*state_dim)\n",
    "land_means = np.zeros((len(landscape.landmarks), landmark_dim))\n",
    "\n",
    "observations = range_model.filter_odom_observations(odometry.observations)\n",
    "\n",
    "model = Model(rff=rff, \n",
    "              initial_values=initial_values,\n",
    "              initial_state=odometry.states[0],\n",
    "              times=odometry.times,\n",
    "              measurements=observations,\n",
    "              measurement_covs=[odometry.Q[:1, :1]] * N_pts,\n",
    "              motions=odometry.motions,\n",
    "              b_means=b_means,\n",
    "              b_covs=[b_sigma**2 * np.eye(n_features)] * state_dim,\n",
    "              land_means=land_means,\n",
    "              land_cov=[land_sigma**2 * np.eye(landmark_dim)] * len(landscape.landmarks),\n",
    "              observation_model=range_model,\n",
    "              prior_mean=prior_mean,\n",
    "              dampening_factor=damppening_factor,\n",
    "            )"
   ]
  },
  {
   "cell_type": "code",
   "execution_count": 122,
   "metadata": {
    "tags": []
   },
   "outputs": [
    {
     "output_type": "stream",
     "name": "stdout",
     "text": [
      "Iter 0. Norm of perturbation: 27.0972\n",
      "Iter 10. Norm of perturbation: 21.0756\n",
      "Iter 20. Norm of perturbation: 21.9106\n",
      "Iter 30. Norm of perturbation: 23.7063\n",
      "Iter 40. Norm of perturbation: 23.6662\n",
      "Iter 50. Norm of perturbation: 22.8002\n",
      "Iter 60. Norm of perturbation: 21.8215\n",
      "Iter 70. Norm of perturbation: 24.1647\n",
      "Iter 80. Norm of perturbation: 22.9862\n",
      "Iter 90. Norm of perturbation: 18.9431\n",
      "Iter 100. Norm of perturbation: 26.7633\n",
      "Iter 110. Norm of perturbation: 17.8369\n",
      "Iter 120. Norm of perturbation: 20.1250\n",
      "Iter 130. Norm of perturbation: 20.4374\n",
      "Iter 140. Norm of perturbation: 25.7499\n",
      "Iter 150. Norm of perturbation: 21.8838\n",
      "Iter 160. Norm of perturbation: 18.7187\n",
      "Iter 170. Norm of perturbation: 25.6920\n",
      "Iter 180. Norm of perturbation: 23.0268\n",
      "Iter 190. Norm of perturbation: 24.2661\n",
      "Iter 200. Norm of perturbation: 19.4010\n",
      "Iter 210. Norm of perturbation: 24.8218\n",
      "Iter 220. Norm of perturbation: 20.2965\n",
      "Iter 230. Norm of perturbation: 20.5401\n",
      "Iter 240. Norm of perturbation: 22.8656\n",
      "Iter 250. Norm of perturbation: 23.2951\n",
      "Iter 260. Norm of perturbation: 21.5551\n",
      "Iter 270. Norm of perturbation: 19.6712\n",
      "Iter 280. Norm of perturbation: 27.7497\n",
      "Iter 290. Norm of perturbation: 21.1814\n",
      "Iter 300. Norm of perturbation: 22.2649\n",
      "Iter 310. Norm of perturbation: 24.7494\n",
      "Iter 320. Norm of perturbation: 24.0542\n",
      "Iter 330. Norm of perturbation: 20.3280\n",
      "Iter 340. Norm of perturbation: 22.2490\n",
      "Iter 350. Norm of perturbation: 17.3240\n",
      "Iter 360. Norm of perturbation: 27.3557\n",
      "Iter 370. Norm of perturbation: 22.4868\n",
      "Iter 380. Norm of perturbation: 25.5491\n",
      "Iter 390. Norm of perturbation: 28.7240\n",
      "Iter 400. Norm of perturbation: 17.4741\n",
      "Iter 410. Norm of perturbation: 24.0150\n",
      "Iter 420. Norm of perturbation: 25.2036\n",
      "Iter 430. Norm of perturbation: 18.6702\n",
      "Iter 440. Norm of perturbation: 27.9780\n",
      "Iter 450. Norm of perturbation: 24.6523\n",
      "Iter 460. Norm of perturbation: 27.7317\n",
      "Iter 470. Norm of perturbation: 22.7652\n",
      "Iter 480. Norm of perturbation: 15.9578\n",
      "Iter 490. Norm of perturbation: 29.1983\n"
     ]
    },
    {
     "output_type": "error",
     "ename": "KeyboardInterrupt",
     "evalue": "",
     "traceback": [
      "\u001b[0;31m---------------------------------------------------------------------------\u001b[0m",
      "\u001b[0;31mKeyboardInterrupt\u001b[0m                         Traceback (most recent call last)",
      "\u001b[0;32m<ipython-input-122-1ef4a76c5776>\u001b[0m in \u001b[0;36m<module>\u001b[0;34m\u001b[0m\n\u001b[0;32m----> 1\u001b[0;31m \u001b[0mmodel\u001b[0m\u001b[0;34m.\u001b[0m\u001b[0mrun_slam\u001b[0m\u001b[0;34m(\u001b[0m\u001b[0;36m1000\u001b[0m\u001b[0;34m)\u001b[0m\u001b[0;34m\u001b[0m\u001b[0;34m\u001b[0m\u001b[0m\n\u001b[0m",
      "\u001b[0;32m~/robotics_project/src/model.py\u001b[0m in \u001b[0;36mrun_slam\u001b[0;34m(self, n_iter)\u001b[0m\n\u001b[1;32m    134\u001b[0m         \u001b[0mn\u001b[0m \u001b[0;34m=\u001b[0m \u001b[0;36m0\u001b[0m\u001b[0;34m\u001b[0m\u001b[0;34m\u001b[0m\u001b[0m\n\u001b[1;32m    135\u001b[0m         \u001b[0;32mwhile\u001b[0m \u001b[0meps\u001b[0m \u001b[0;34m>\u001b[0m \u001b[0mself\u001b[0m\u001b[0;34m.\u001b[0m\u001b[0mtol\u001b[0m \u001b[0;32mand\u001b[0m \u001b[0mn\u001b[0m \u001b[0;34m<\u001b[0m \u001b[0mself\u001b[0m\u001b[0;34m.\u001b[0m\u001b[0mmax_n_iter\u001b[0m\u001b[0;34m:\u001b[0m\u001b[0;34m\u001b[0m\u001b[0;34m\u001b[0m\u001b[0m\n\u001b[0;32m--> 136\u001b[0;31m             \u001b[0meps\u001b[0m \u001b[0;34m=\u001b[0m \u001b[0mself\u001b[0m\u001b[0;34m.\u001b[0m\u001b[0miteration\u001b[0m\u001b[0;34m(\u001b[0m\u001b[0miter_id\u001b[0m\u001b[0;34m=\u001b[0m\u001b[0mn\u001b[0m\u001b[0;34m)\u001b[0m\u001b[0;34m\u001b[0m\u001b[0;34m\u001b[0m\u001b[0m\n\u001b[0m\u001b[1;32m    137\u001b[0m             \u001b[0;32mif\u001b[0m \u001b[0mself\u001b[0m\u001b[0;34m.\u001b[0m\u001b[0mverbose\u001b[0m \u001b[0;32mand\u001b[0m \u001b[0mn\u001b[0m \u001b[0;34m%\u001b[0m \u001b[0;36m10\u001b[0m \u001b[0;34m==\u001b[0m \u001b[0;36m0\u001b[0m\u001b[0;34m:\u001b[0m\u001b[0;34m\u001b[0m\u001b[0;34m\u001b[0m\u001b[0m\n\u001b[1;32m    138\u001b[0m                 \u001b[0mprint\u001b[0m\u001b[0;34m(\u001b[0m\u001b[0;34mf'Iter {n}. Norm of perturbation: {eps:.4f}'\u001b[0m\u001b[0;34m)\u001b[0m\u001b[0;34m\u001b[0m\u001b[0;34m\u001b[0m\u001b[0m\n",
      "\u001b[0;32m~/robotics_project/src/model.py\u001b[0m in \u001b[0;36miteration\u001b[0;34m(self, iter_id)\u001b[0m\n\u001b[1;32m    120\u001b[0m \u001b[0;34m\u001b[0m\u001b[0m\n\u001b[1;32m    121\u001b[0m     \u001b[0;32mdef\u001b[0m \u001b[0miteration\u001b[0m\u001b[0;34m(\u001b[0m\u001b[0mself\u001b[0m\u001b[0;34m,\u001b[0m \u001b[0miter_id\u001b[0m\u001b[0;34m=\u001b[0m\u001b[0;36m0\u001b[0m\u001b[0;34m)\u001b[0m\u001b[0;34m:\u001b[0m\u001b[0;34m\u001b[0m\u001b[0;34m\u001b[0m\u001b[0m\n\u001b[0;32m--> 122\u001b[0;31m         \u001b[0mA\u001b[0m\u001b[0;34m,\u001b[0m \u001b[0mg\u001b[0m \u001b[0;34m=\u001b[0m \u001b[0mself\u001b[0m\u001b[0;34m.\u001b[0m\u001b[0mupdate_params\u001b[0m\u001b[0;34m(\u001b[0m\u001b[0miter_id\u001b[0m\u001b[0;34m=\u001b[0m\u001b[0miter_id\u001b[0m\u001b[0;34m)\u001b[0m\u001b[0;34m\u001b[0m\u001b[0;34m\u001b[0m\u001b[0m\n\u001b[0m\u001b[1;32m    123\u001b[0m         \u001b[0mdb\u001b[0m \u001b[0;34m=\u001b[0m \u001b[0mself\u001b[0m\u001b[0;34m.\u001b[0m\u001b[0msolve\u001b[0m\u001b[0;34m(\u001b[0m\u001b[0mA\u001b[0m\u001b[0;34m,\u001b[0m \u001b[0mg\u001b[0m\u001b[0;34m)\u001b[0m\u001b[0;34m\u001b[0m\u001b[0;34m\u001b[0m\u001b[0m\n\u001b[1;32m    124\u001b[0m         \u001b[0mself\u001b[0m\u001b[0;34m.\u001b[0m\u001b[0mb\u001b[0m \u001b[0;34m+=\u001b[0m \u001b[0mdb\u001b[0m\u001b[0;34m\u001b[0m\u001b[0;34m\u001b[0m\u001b[0m\n",
      "\u001b[0;32m~/robotics_project/src/model.py\u001b[0m in \u001b[0;36mupdate_params\u001b[0;34m(self, iter_id)\u001b[0m\n\u001b[1;32m    105\u001b[0m             \u001b[0mdh\u001b[0m \u001b[0;34m=\u001b[0m \u001b[0mnp\u001b[0m\u001b[0;34m.\u001b[0m\u001b[0mconcatenate\u001b[0m\u001b[0;34m(\u001b[0m\u001b[0;34m[\u001b[0m\u001b[0mstate_part\u001b[0m\u001b[0;34m,\u001b[0m \u001b[0mlands_part\u001b[0m\u001b[0;34m]\u001b[0m\u001b[0;34m,\u001b[0m \u001b[0;36m1\u001b[0m\u001b[0;34m)\u001b[0m\u001b[0;34m\u001b[0m\u001b[0;34m\u001b[0m\u001b[0m\n\u001b[1;32m    106\u001b[0m \u001b[0;34m\u001b[0m\u001b[0m\n\u001b[0;32m--> 107\u001b[0;31m             \u001b[0mA\u001b[0m \u001b[0;34m+=\u001b[0m \u001b[0mphi_matrix\u001b[0m\u001b[0;34m.\u001b[0m\u001b[0mT\u001b[0m \u001b[0;34m@\u001b[0m \u001b[0mdh\u001b[0m\u001b[0;34m.\u001b[0m\u001b[0mT\u001b[0m \u001b[0;34m@\u001b[0m \u001b[0mself\u001b[0m\u001b[0;34m.\u001b[0m\u001b[0minv_measurement_covs\u001b[0m\u001b[0;34m[\u001b[0m\u001b[0mi\u001b[0m\u001b[0;34m]\u001b[0m \u001b[0;34m@\u001b[0m \u001b[0mdh\u001b[0m \u001b[0;34m@\u001b[0m \u001b[0mphi_matrix\u001b[0m\u001b[0;34m\u001b[0m\u001b[0;34m\u001b[0m\u001b[0m\n\u001b[0m\u001b[1;32m    108\u001b[0m             \u001b[0mg\u001b[0m \u001b[0;34m+=\u001b[0m \u001b[0mphi_matrix\u001b[0m\u001b[0;34m.\u001b[0m\u001b[0mT\u001b[0m \u001b[0;34m@\u001b[0m \u001b[0mdh\u001b[0m\u001b[0;34m.\u001b[0m\u001b[0mT\u001b[0m \u001b[0;34m@\u001b[0m \u001b[0mself\u001b[0m\u001b[0;34m.\u001b[0m\u001b[0minv_measurement_covs\u001b[0m\u001b[0;34m[\u001b[0m\u001b[0mi\u001b[0m\u001b[0;34m]\u001b[0m \u001b[0;34m@\u001b[0m \u001b[0;34m(\u001b[0m\u001b[0mobservation\u001b[0m \u001b[0;34m-\u001b[0m \u001b[0mh\u001b[0m\u001b[0;34m)\u001b[0m\u001b[0;34m\u001b[0m\u001b[0;34m\u001b[0m\u001b[0m\n\u001b[1;32m    109\u001b[0m \u001b[0;34m\u001b[0m\u001b[0m\n",
      "\u001b[0;31mKeyboardInterrupt\u001b[0m: "
     ]
    }
   ],
   "source": [
    "model.run_slam(1000)"
   ]
  },
  {
   "cell_type": "code",
   "execution_count": 41,
   "metadata": {},
   "outputs": [
    {
     "output_type": "execute_result",
     "data": {
      "text/plain": [
       "array([[100.,   0.,   0.],\n",
       "       [  0., 100.,   0.],\n",
       "       [  0.,   0.,   0.]])"
      ]
     },
     "metadata": {},
     "execution_count": 41
    }
   ],
   "source": [
    "odometry.Q"
   ]
  },
  {
   "cell_type": "code",
   "execution_count": 120,
   "metadata": {},
   "outputs": [],
   "source": [
    "from model import Model\n",
    "from observation import RangeModel, RangeBearingModel \n",
    "from data_utils import get_prediction\n",
    "\n",
    "state_dim = 3\n",
    "landmark_dim = 2\n",
    "obs_dim = 2\n",
    "\n",
    "sigma_l = 3.\n",
    "b_sigma = 0.1\n",
    "land_sigma = 1\n",
    "damppening_factor = 0.5\n",
    "\n",
    "sampler = lambda shape: multivariate_normal(mean=[0], cov=(1./sigma_l**2)*np.eye(1)).rvs(size=np.product(shape))\n",
    "\n",
    "n_features = 100\n",
    "assert n_features % 2 == 0\n",
    "rff = RFF(n_features=n_features // 2, w_sampler=sampler, dim=1)\n",
    "\n",
    "range_bearing_model = RangeBearingModel(range_noise_std=odometry.Q[0,0]**.5, bearing_noise_std=odometry.Q[1,1]**.5)\n",
    "\n",
    "def prior_mean(t, state_estimates):\n",
    "    i = odometry.times.index(t)\n",
    "    state = get_prediction(state_estimates[i], odometry.motions[i])\n",
    "    return state\n",
    "\n",
    "#initial_values = np.concatenate([np.zeros(n_features*3), landscape.landmarks.reshape(-1)])\n",
    "initial_values = np.zeros((n_features*state_dim)+len(landscape.landmarks)*landmark_dim)\n",
    "b_means = np.concatenate([np.zeros(n_features*state_dim), landscape.landmarks.reshape(-1)])\n",
    "\n",
    "observations = odometry.observations\n",
    "\n",
    "model = Model(rff=rff, \n",
    "              initial_values=initial_values,\n",
    "              initial_state=odometry.states[0],\n",
    "              times=odometry.times,\n",
    "              measurements=observations,\n",
    "              measurement_covs=[odometry.Q[:obs_dim, :obs_dim]] * N_pts,\n",
    "              motions=odometry.motions,\n",
    "              b_means=b_means,\n",
    "              b_covs=[b_sigma**2 * np.eye(n_features)] * state_dim,\n",
    "              land_means=landscape.landmarks,\n",
    "              land_cov=[land_sigma**2 * np.eye(landmark_dim)] * len(landscape.landmarks),\n",
    "              observation_model=range_bearing_model,\n",
    "              prior_mean=prior_mean,\n",
    "              dampening_factor=damppening_factor,\n",
    "            )"
   ]
  },
  {
   "cell_type": "code",
   "execution_count": 113,
   "metadata": {},
   "outputs": [
    {
     "output_type": "error",
     "ename": "ValueError",
     "evalue": "operands could not be broadcast together with shapes (340,) (380,) ",
     "traceback": [
      "\u001b[0;31m---------------------------------------------------------------------------\u001b[0m",
      "\u001b[0;31mValueError\u001b[0m                                Traceback (most recent call last)",
      "\u001b[0;32m<ipython-input-113-1ef4a76c5776>\u001b[0m in \u001b[0;36m<module>\u001b[0;34m\u001b[0m\n\u001b[0;32m----> 1\u001b[0;31m \u001b[0mmodel\u001b[0m\u001b[0;34m.\u001b[0m\u001b[0mrun_slam\u001b[0m\u001b[0;34m(\u001b[0m\u001b[0;36m1000\u001b[0m\u001b[0;34m)\u001b[0m\u001b[0;34m\u001b[0m\u001b[0;34m\u001b[0m\u001b[0m\n\u001b[0m",
      "\u001b[0;32m~/robotics_project/src/model.py\u001b[0m in \u001b[0;36mrun_slam\u001b[0;34m(self, n_iter)\u001b[0m\n\u001b[1;32m    134\u001b[0m         \u001b[0mn\u001b[0m \u001b[0;34m=\u001b[0m \u001b[0;36m0\u001b[0m\u001b[0;34m\u001b[0m\u001b[0;34m\u001b[0m\u001b[0m\n\u001b[1;32m    135\u001b[0m         \u001b[0;32mwhile\u001b[0m \u001b[0meps\u001b[0m \u001b[0;34m>\u001b[0m \u001b[0mself\u001b[0m\u001b[0;34m.\u001b[0m\u001b[0mtol\u001b[0m \u001b[0;32mand\u001b[0m \u001b[0mn\u001b[0m \u001b[0;34m<\u001b[0m \u001b[0mself\u001b[0m\u001b[0;34m.\u001b[0m\u001b[0mmax_n_iter\u001b[0m\u001b[0;34m:\u001b[0m\u001b[0;34m\u001b[0m\u001b[0;34m\u001b[0m\u001b[0m\n\u001b[0;32m--> 136\u001b[0;31m             \u001b[0meps\u001b[0m \u001b[0;34m=\u001b[0m \u001b[0mself\u001b[0m\u001b[0;34m.\u001b[0m\u001b[0miteration\u001b[0m\u001b[0;34m(\u001b[0m\u001b[0miter_id\u001b[0m\u001b[0;34m=\u001b[0m\u001b[0mn\u001b[0m\u001b[0;34m)\u001b[0m\u001b[0;34m\u001b[0m\u001b[0;34m\u001b[0m\u001b[0m\n\u001b[0m\u001b[1;32m    137\u001b[0m             \u001b[0;32mif\u001b[0m \u001b[0mself\u001b[0m\u001b[0;34m.\u001b[0m\u001b[0mverbose\u001b[0m \u001b[0;32mand\u001b[0m \u001b[0mn\u001b[0m \u001b[0;34m%\u001b[0m \u001b[0;36m10\u001b[0m \u001b[0;34m==\u001b[0m \u001b[0;36m0\u001b[0m\u001b[0;34m:\u001b[0m\u001b[0;34m\u001b[0m\u001b[0;34m\u001b[0m\u001b[0m\n\u001b[1;32m    138\u001b[0m                 \u001b[0mprint\u001b[0m\u001b[0;34m(\u001b[0m\u001b[0;34mf'Iter {n}. Norm of perturbation: {eps:.4f}'\u001b[0m\u001b[0;34m)\u001b[0m\u001b[0;34m\u001b[0m\u001b[0;34m\u001b[0m\u001b[0m\n",
      "\u001b[0;32m~/robotics_project/src/model.py\u001b[0m in \u001b[0;36miteration\u001b[0;34m(self, iter_id)\u001b[0m\n\u001b[1;32m    120\u001b[0m \u001b[0;34m\u001b[0m\u001b[0m\n\u001b[1;32m    121\u001b[0m     \u001b[0;32mdef\u001b[0m \u001b[0miteration\u001b[0m\u001b[0;34m(\u001b[0m\u001b[0mself\u001b[0m\u001b[0;34m,\u001b[0m \u001b[0miter_id\u001b[0m\u001b[0;34m=\u001b[0m\u001b[0;36m0\u001b[0m\u001b[0;34m)\u001b[0m\u001b[0;34m:\u001b[0m\u001b[0;34m\u001b[0m\u001b[0;34m\u001b[0m\u001b[0m\n\u001b[0;32m--> 122\u001b[0;31m         \u001b[0mA\u001b[0m\u001b[0;34m,\u001b[0m \u001b[0mg\u001b[0m \u001b[0;34m=\u001b[0m \u001b[0mself\u001b[0m\u001b[0;34m.\u001b[0m\u001b[0mupdate_params\u001b[0m\u001b[0;34m(\u001b[0m\u001b[0miter_id\u001b[0m\u001b[0;34m=\u001b[0m\u001b[0miter_id\u001b[0m\u001b[0;34m)\u001b[0m\u001b[0;34m\u001b[0m\u001b[0;34m\u001b[0m\u001b[0m\n\u001b[0m\u001b[1;32m    123\u001b[0m         \u001b[0mdb\u001b[0m \u001b[0;34m=\u001b[0m \u001b[0mself\u001b[0m\u001b[0;34m.\u001b[0m\u001b[0msolve\u001b[0m\u001b[0;34m(\u001b[0m\u001b[0mA\u001b[0m\u001b[0;34m,\u001b[0m \u001b[0mg\u001b[0m\u001b[0;34m)\u001b[0m\u001b[0;34m\u001b[0m\u001b[0;34m\u001b[0m\u001b[0m\n\u001b[1;32m    124\u001b[0m         \u001b[0mself\u001b[0m\u001b[0;34m.\u001b[0m\u001b[0mb\u001b[0m \u001b[0;34m+=\u001b[0m \u001b[0mdb\u001b[0m\u001b[0;34m\u001b[0m\u001b[0;34m\u001b[0m\u001b[0m\n",
      "\u001b[0;32m~/robotics_project/src/model.py\u001b[0m in \u001b[0;36mupdate_params\u001b[0;34m(self, iter_id)\u001b[0m\n\u001b[1;32m    109\u001b[0m \u001b[0;34m\u001b[0m\u001b[0m\n\u001b[1;32m    110\u001b[0m         \u001b[0mA\u001b[0m \u001b[0;34m+=\u001b[0m \u001b[0mself\u001b[0m\u001b[0;34m.\u001b[0m\u001b[0minv_P_matrix\u001b[0m\u001b[0;34m\u001b[0m\u001b[0;34m\u001b[0m\u001b[0m\n\u001b[0;32m--> 111\u001b[0;31m         \u001b[0mg\u001b[0m \u001b[0;34m-=\u001b[0m \u001b[0mself\u001b[0m\u001b[0;34m.\u001b[0m\u001b[0minv_P_matrix\u001b[0m \u001b[0;34m@\u001b[0m \u001b[0;34m(\u001b[0m\u001b[0mself\u001b[0m\u001b[0;34m.\u001b[0m\u001b[0mb\u001b[0m \u001b[0;34m-\u001b[0m \u001b[0mself\u001b[0m\u001b[0;34m.\u001b[0m\u001b[0mb_means\u001b[0m\u001b[0;34m)\u001b[0m\u001b[0;34m\u001b[0m\u001b[0;34m\u001b[0m\u001b[0m\n\u001b[0m\u001b[1;32m    112\u001b[0m \u001b[0;34m\u001b[0m\u001b[0m\n\u001b[1;32m    113\u001b[0m         \u001b[0;32mreturn\u001b[0m \u001b[0mA\u001b[0m\u001b[0;34m,\u001b[0m \u001b[0mg\u001b[0m\u001b[0;34m\u001b[0m\u001b[0;34m\u001b[0m\u001b[0m\n",
      "\u001b[0;31mValueError\u001b[0m: operands could not be broadcast together with shapes (340,) (380,) "
     ]
    }
   ],
   "source": [
    "model.run_slam(1000)"
   ]
  },
  {
   "cell_type": "code",
   "execution_count": 116,
   "metadata": {},
   "outputs": [
    {
     "output_type": "execute_result",
     "data": {
      "text/plain": [
       "array([[ 0.45754072, -0.86236584, -0.60242735],\n",
       "       [ 1.30037816, -1.53431109, -0.4125175 ],\n",
       "       [ 2.30359388, -2.00195916, -0.10660064],\n",
       "       [ 3.36936569, -2.08913509,  0.19854265],\n",
       "       [ 4.6167791 , -1.57773289,  0.74226838],\n",
       "       [ 5.27918495, -0.88226943,  1.10416442],\n",
       "       [ 5.57665508,  0.43958916,  2.19147794],\n",
       "       [ 5.11126241,  1.03712242,  2.98756585],\n",
       "       [ 4.43932719,  1.19108721, -2.94473483],\n",
       "       [ 3.45944573,  1.11039475, -2.42025498]])"
      ]
     },
     "metadata": {},
     "execution_count": 116
    }
   ],
   "source": [
    "np.array(odometry.states[1:11])#, np.array(odometry.states[:10])+np.array(odometry.motions[:10])"
   ]
  },
  {
   "cell_type": "code",
   "execution_count": 117,
   "metadata": {},
   "outputs": [
    {
     "output_type": "execute_result",
     "data": {
      "text/plain": [
       "[array([ 0.0979833 , -0.5829394 , -0.53261702]),\n",
       " array([4.62738612, 2.98864047, 1.1918622 ]),\n",
       " array([ 5.40237962, -0.05607128,  0.32882635]),\n",
       " array([6.79651614, 3.48742119, 1.44682868]),\n",
       " array([8.73976886, 0.88514913, 1.33499831]),\n",
       " array([ 4.83496351, 10.64129218, -2.13307332]),\n",
       " array([ 5.67133848,  6.29315727, -2.85227413]),\n",
       " array([ 8.37210903,  8.27876436, -2.85465057]),\n",
       " array([ 8.24501748,  4.3385691 , -2.78195278]),\n",
       " array([7.93863044, 4.24584967, 2.36659793])]"
      ]
     },
     "metadata": {},
     "execution_count": 117
    }
   ],
   "source": [
    "model.prior_means[:10]"
   ]
  },
  {
   "cell_type": "code",
   "execution_count": 118,
   "metadata": {},
   "outputs": [
    {
     "output_type": "execute_result",
     "data": {
      "text/plain": [
       "array([[ 0.21438218, -0.24853439, -1.54361922],\n",
       "       [ 4.46304883,  3.23996637,  0.18972414],\n",
       "       [ 5.81717374,  0.23512649, -0.6853891 ],\n",
       "       [ 6.65904798,  3.78527492,  0.44235698],\n",
       "       [ 8.22210621,  0.84908404,  0.34692831],\n",
       "       [ 3.78466766, 10.11970516,  3.13654085],\n",
       "       [ 6.73197529,  6.75845193,  2.45888611],\n",
       "       [ 7.85862398,  7.46895793,  2.42389756],\n",
       "       [ 8.06856861,  4.4538983 ,  2.49772329],\n",
       "       [ 7.21253729,  3.88291616,  1.37728348]])"
      ]
     },
     "metadata": {},
     "execution_count": 118
    }
   ],
   "source": [
    "model.states[:10]"
   ]
  },
  {
   "cell_type": "code",
   "execution_count": 119,
   "metadata": {},
   "outputs": [
    {
     "output_type": "execute_result",
     "data": {
      "text/plain": [
       "(array([[ -0.1116782 ,  -0.7960919 ],\n",
       "        [  0.84255559,  -4.14378204],\n",
       "        [ -4.84522515,  -1.34212288],\n",
       "        [  4.79390365,  -9.35933625],\n",
       "        [  1.57248232,   0.68966133],\n",
       "        [  8.20130568,  -1.96728116],\n",
       "        [  0.45223347,  -0.4491587 ],\n",
       "        [  3.07216207,   2.11872944],\n",
       "        [ -0.08264285,  -0.79376779],\n",
       "        [ -2.42760253,  -3.10474309],\n",
       "        [ -0.52061741,   3.50977226],\n",
       "        [  0.525183  ,   1.362077  ],\n",
       "        [  3.18443626,  -1.02382406],\n",
       "        [-10.78737502,   2.02046199],\n",
       "        [ -0.02017703,  -0.02017703],\n",
       "        [ -0.46504874,   2.2048509 ],\n",
       "        [  4.17324749,   2.22020934],\n",
       "        [  4.43830604,  -2.44675056],\n",
       "        [  0.25710607,   0.12335388],\n",
       "        [  5.72159677,  -4.43371488]]),\n",
       " array([[ 9.17347416e+00,  7.77815073e+00],\n",
       "        [-2.65473047e+00, -6.16108079e+00],\n",
       "        [ 9.65915461e+00, -4.19977169e+00],\n",
       "        [ 2.44586781e+00,  5.14103549e+00],\n",
       "        [-8.44733943e+00, -8.74959598e+00],\n",
       "        [ 2.87604592e+00,  4.71551031e+00],\n",
       "        [ 6.14838009e+00,  1.65439180e+00],\n",
       "        [-9.32862375e+00, -8.63666000e+00],\n",
       "        [ 4.86822827e-03, -2.41573018e+00],\n",
       "        [-4.73827726e+00,  9.64907670e+00],\n",
       "        [-1.02287209e+00,  7.20729995e-01],\n",
       "        [ 5.39576000e+00,  8.04023989e+00],\n",
       "        [ 6.76481436e+00,  8.86899307e+00],\n",
       "        [-9.61571830e+00,  9.56591008e+00],\n",
       "        [ 4.97900216e+00,  4.65848435e-01],\n",
       "        [-9.88366598e+00, -3.01454642e+00],\n",
       "        [ 1.48734744e+00, -1.59261470e+00],\n",
       "        [ 4.98985752e-01, -4.18417287e+00],\n",
       "        [-7.40692641e+00, -1.80190352e+00],\n",
       "        [ 8.87280581e+00, -7.24924067e+00]]))"
      ]
     },
     "metadata": {},
     "execution_count": 119
    }
   ],
   "source": [
    "model.b[300:].reshape(-1, 2), landscape.landmarks"
   ]
  },
  {
   "cell_type": "code",
   "execution_count": null,
   "metadata": {},
   "outputs": [],
   "source": []
  }
 ]
}